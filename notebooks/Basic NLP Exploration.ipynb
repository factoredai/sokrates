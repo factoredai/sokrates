{
 "cells": [
  {
   "cell_type": "code",
   "execution_count": 1,
   "metadata": {
    "ExecuteTime": {
     "end_time": "2020-11-26T04:04:25.271509Z",
     "start_time": "2020-11-26T04:04:25.269509Z"
    }
   },
   "outputs": [],
   "source": [
    "import sys\n",
    "sys.path.insert(1, '../')"
   ]
  },
  {
   "cell_type": "code",
   "execution_count": 2,
   "metadata": {
    "ExecuteTime": {
     "end_time": "2020-11-26T04:04:27.491735Z",
     "start_time": "2020-11-26T04:04:25.273512Z"
    }
   },
   "outputs": [],
   "source": [
    "import pandas as pd\n",
    "from sklearn.model_selection import train_test_split\n",
    "from matplotlib import pyplot as plt\n",
    "from tensorflow import keras\n",
    "\n",
    "from basic_nlp_model import Model, experiment"
   ]
  },
  {
   "cell_type": "code",
   "execution_count": 3,
   "metadata": {
    "ExecuteTime": {
     "end_time": "2020-11-26T04:04:31.220736Z",
     "start_time": "2020-11-26T04:04:27.492735Z"
    }
   },
   "outputs": [],
   "source": [
    "df = pd.read_csv('../ensambles baseline/data/tex_physics.csv')"
   ]
  },
  {
   "cell_type": "code",
   "execution_count": 4,
   "metadata": {
    "ExecuteTime": {
     "end_time": "2020-11-26T04:04:31.225737Z",
     "start_time": "2020-11-26T04:04:31.222737Z"
    }
   },
   "outputs": [],
   "source": [
    "def class_decider(row):\n",
    "    if row['score'] < 2.:\n",
    "        return 0\n",
    "    elif row['score'] > 2.:\n",
    "        return 1\n",
    "    else:\n",
    "        if row['n_answers'] < 1.:\n",
    "            return 0\n",
    "        else:\n",
    "            return 1"
   ]
  },
  {
   "cell_type": "code",
   "execution_count": 5,
   "metadata": {
    "ExecuteTime": {
     "end_time": "2020-11-26T04:04:34.069736Z",
     "start_time": "2020-11-26T04:04:31.226736Z"
    }
   },
   "outputs": [],
   "source": [
    "df.loc[:, 'y'] = df.apply(class_decider, axis=1)"
   ]
  },
  {
   "cell_type": "code",
   "execution_count": 6,
   "metadata": {
    "ExecuteTime": {
     "end_time": "2020-11-26T04:04:34.077736Z",
     "start_time": "2020-11-26T04:04:34.070736Z"
    }
   },
   "outputs": [
    {
     "data": {
      "text/plain": [
       "0    186511\n",
       "1    184785\n",
       "Name: y, dtype: int64"
      ]
     },
     "execution_count": 6,
     "metadata": {},
     "output_type": "execute_result"
    }
   ],
   "source": [
    "df['y'].value_counts()"
   ]
  },
  {
   "cell_type": "code",
   "execution_count": 7,
   "metadata": {
    "ExecuteTime": {
     "end_time": "2020-11-26T04:04:34.144735Z",
     "start_time": "2020-11-26T04:04:34.079736Z"
    }
   },
   "outputs": [],
   "source": [
    "data = df[['title', 'n_lists', 'n_links', 'n_tags',\n",
    "       'num_question_marks', 'wh_word_count', 'sentence_count', 'word_count',\n",
    "       'example_count', 'n_linebreaks', 'title_word_count',\n",
    "       'title_question_marks', 'y']]"
   ]
  },
  {
   "cell_type": "code",
   "execution_count": 8,
   "metadata": {
    "ExecuteTime": {
     "end_time": "2020-11-26T04:04:34.325735Z",
     "start_time": "2020-11-26T04:04:34.145736Z"
    }
   },
   "outputs": [],
   "source": [
    "train_data, val_data = train_test_split(data, test_size=0.3, stratify=data['y'], random_state=42)"
   ]
  },
  {
   "cell_type": "code",
   "execution_count": 9,
   "metadata": {
    "ExecuteTime": {
     "end_time": "2020-11-26T04:04:34.338735Z",
     "start_time": "2020-11-26T04:04:34.326736Z"
    }
   },
   "outputs": [
    {
     "data": {
      "text/html": [
       "<div>\n",
       "<style scoped>\n",
       "    .dataframe tbody tr th:only-of-type {\n",
       "        vertical-align: middle;\n",
       "    }\n",
       "\n",
       "    .dataframe tbody tr th {\n",
       "        vertical-align: top;\n",
       "    }\n",
       "\n",
       "    .dataframe thead th {\n",
       "        text-align: right;\n",
       "    }\n",
       "</style>\n",
       "<table border=\"1\" class=\"dataframe\">\n",
       "  <thead>\n",
       "    <tr style=\"text-align: right;\">\n",
       "      <th></th>\n",
       "      <th>title</th>\n",
       "      <th>n_lists</th>\n",
       "      <th>n_links</th>\n",
       "      <th>n_tags</th>\n",
       "      <th>num_question_marks</th>\n",
       "      <th>wh_word_count</th>\n",
       "      <th>sentence_count</th>\n",
       "      <th>word_count</th>\n",
       "      <th>example_count</th>\n",
       "      <th>n_linebreaks</th>\n",
       "      <th>title_word_count</th>\n",
       "      <th>title_question_marks</th>\n",
       "      <th>y</th>\n",
       "    </tr>\n",
       "  </thead>\n",
       "  <tbody>\n",
       "    <tr>\n",
       "      <th>292249</th>\n",
       "      <td>How do I install pgfpages package?</td>\n",
       "      <td>0</td>\n",
       "      <td>0</td>\n",
       "      <td>3</td>\n",
       "      <td>2</td>\n",
       "      <td>0</td>\n",
       "      <td>3</td>\n",
       "      <td>27</td>\n",
       "      <td>0</td>\n",
       "      <td>1</td>\n",
       "      <td>6</td>\n",
       "      <td>1</td>\n",
       "      <td>0</td>\n",
       "    </tr>\n",
       "    <tr>\n",
       "      <th>178165</th>\n",
       "      <td>AUCTeX can't find PDFLaTeX</td>\n",
       "      <td>0</td>\n",
       "      <td>0</td>\n",
       "      <td>2</td>\n",
       "      <td>1</td>\n",
       "      <td>3</td>\n",
       "      <td>6</td>\n",
       "      <td>90</td>\n",
       "      <td>0</td>\n",
       "      <td>7</td>\n",
       "      <td>5</td>\n",
       "      <td>0</td>\n",
       "      <td>1</td>\n",
       "    </tr>\n",
       "    <tr>\n",
       "      <th>223579</th>\n",
       "      <td>Loading microtype before or after the font</td>\n",
       "      <td>0</td>\n",
       "      <td>4</td>\n",
       "      <td>1</td>\n",
       "      <td>1</td>\n",
       "      <td>3</td>\n",
       "      <td>5</td>\n",
       "      <td>174</td>\n",
       "      <td>0</td>\n",
       "      <td>20</td>\n",
       "      <td>7</td>\n",
       "      <td>0</td>\n",
       "      <td>1</td>\n",
       "    </tr>\n",
       "    <tr>\n",
       "      <th>266094</th>\n",
       "      <td>Render stl files in asymptote</td>\n",
       "      <td>0</td>\n",
       "      <td>5</td>\n",
       "      <td>2</td>\n",
       "      <td>0</td>\n",
       "      <td>1</td>\n",
       "      <td>5</td>\n",
       "      <td>80</td>\n",
       "      <td>0</td>\n",
       "      <td>4</td>\n",
       "      <td>5</td>\n",
       "      <td>0</td>\n",
       "      <td>1</td>\n",
       "    </tr>\n",
       "    <tr>\n",
       "      <th>44330</th>\n",
       "      <td>How bright is a 150 W incandescent light bulb?</td>\n",
       "      <td>0</td>\n",
       "      <td>0</td>\n",
       "      <td>1</td>\n",
       "      <td>1</td>\n",
       "      <td>2</td>\n",
       "      <td>6</td>\n",
       "      <td>86</td>\n",
       "      <td>0</td>\n",
       "      <td>3</td>\n",
       "      <td>8</td>\n",
       "      <td>1</td>\n",
       "      <td>1</td>\n",
       "    </tr>\n",
       "    <tr>\n",
       "      <th>...</th>\n",
       "      <td>...</td>\n",
       "      <td>...</td>\n",
       "      <td>...</td>\n",
       "      <td>...</td>\n",
       "      <td>...</td>\n",
       "      <td>...</td>\n",
       "      <td>...</td>\n",
       "      <td>...</td>\n",
       "      <td>...</td>\n",
       "      <td>...</td>\n",
       "      <td>...</td>\n",
       "      <td>...</td>\n",
       "      <td>...</td>\n",
       "    </tr>\n",
       "    <tr>\n",
       "      <th>344381</th>\n",
       "      <td>\\usepackage{tikz} causing \"extra }\" and \"missi...</td>\n",
       "      <td>0</td>\n",
       "      <td>0</td>\n",
       "      <td>3</td>\n",
       "      <td>0</td>\n",
       "      <td>4</td>\n",
       "      <td>30</td>\n",
       "      <td>453</td>\n",
       "      <td>0</td>\n",
       "      <td>128</td>\n",
       "      <td>7</td>\n",
       "      <td>0</td>\n",
       "      <td>0</td>\n",
       "    </tr>\n",
       "    <tr>\n",
       "      <th>341925</th>\n",
       "      <td>Indenting all lines in a theorem environment</td>\n",
       "      <td>0</td>\n",
       "      <td>2</td>\n",
       "      <td>1</td>\n",
       "      <td>2</td>\n",
       "      <td>1</td>\n",
       "      <td>5</td>\n",
       "      <td>108</td>\n",
       "      <td>0</td>\n",
       "      <td>34</td>\n",
       "      <td>7</td>\n",
       "      <td>0</td>\n",
       "      <td>0</td>\n",
       "    </tr>\n",
       "    <tr>\n",
       "      <th>71506</th>\n",
       "      <td>Why is the standard deviation the error on the...</td>\n",
       "      <td>1</td>\n",
       "      <td>0</td>\n",
       "      <td>4</td>\n",
       "      <td>1</td>\n",
       "      <td>7</td>\n",
       "      <td>7</td>\n",
       "      <td>290</td>\n",
       "      <td>0</td>\n",
       "      <td>19</td>\n",
       "      <td>11</td>\n",
       "      <td>1</td>\n",
       "      <td>0</td>\n",
       "    </tr>\n",
       "    <tr>\n",
       "      <th>130699</th>\n",
       "      <td>When does magnetic force act as a centripetal ...</td>\n",
       "      <td>0</td>\n",
       "      <td>0</td>\n",
       "      <td>2</td>\n",
       "      <td>4</td>\n",
       "      <td>3</td>\n",
       "      <td>4</td>\n",
       "      <td>49</td>\n",
       "      <td>0</td>\n",
       "      <td>2</td>\n",
       "      <td>14</td>\n",
       "      <td>1</td>\n",
       "      <td>0</td>\n",
       "    </tr>\n",
       "    <tr>\n",
       "      <th>196470</th>\n",
       "      <td>Drawing a political spectrum</td>\n",
       "      <td>0</td>\n",
       "      <td>0</td>\n",
       "      <td>1</td>\n",
       "      <td>0</td>\n",
       "      <td>1</td>\n",
       "      <td>1</td>\n",
       "      <td>15</td>\n",
       "      <td>0</td>\n",
       "      <td>2</td>\n",
       "      <td>4</td>\n",
       "      <td>0</td>\n",
       "      <td>1</td>\n",
       "    </tr>\n",
       "  </tbody>\n",
       "</table>\n",
       "<p>259907 rows × 13 columns</p>\n",
       "</div>"
      ],
      "text/plain": [
       "                                                    title  n_lists  n_links  \\\n",
       "292249                 How do I install pgfpages package?        0        0   \n",
       "178165                         AUCTeX can't find PDFLaTeX        0        0   \n",
       "223579         Loading microtype before or after the font        0        4   \n",
       "266094                      Render stl files in asymptote        0        5   \n",
       "44330      How bright is a 150 W incandescent light bulb?        0        0   \n",
       "...                                                   ...      ...      ...   \n",
       "344381  \\usepackage{tikz} causing \"extra }\" and \"missi...        0        0   \n",
       "341925       Indenting all lines in a theorem environment        0        2   \n",
       "71506   Why is the standard deviation the error on the...        1        0   \n",
       "130699  When does magnetic force act as a centripetal ...        0        0   \n",
       "196470                       Drawing a political spectrum        0        0   \n",
       "\n",
       "        n_tags  num_question_marks  wh_word_count  sentence_count  word_count  \\\n",
       "292249       3                   2              0               3          27   \n",
       "178165       2                   1              3               6          90   \n",
       "223579       1                   1              3               5         174   \n",
       "266094       2                   0              1               5          80   \n",
       "44330        1                   1              2               6          86   \n",
       "...        ...                 ...            ...             ...         ...   \n",
       "344381       3                   0              4              30         453   \n",
       "341925       1                   2              1               5         108   \n",
       "71506        4                   1              7               7         290   \n",
       "130699       2                   4              3               4          49   \n",
       "196470       1                   0              1               1          15   \n",
       "\n",
       "        example_count  n_linebreaks  title_word_count  title_question_marks  y  \n",
       "292249              0             1                 6                     1  0  \n",
       "178165              0             7                 5                     0  1  \n",
       "223579              0            20                 7                     0  1  \n",
       "266094              0             4                 5                     0  1  \n",
       "44330               0             3                 8                     1  1  \n",
       "...               ...           ...               ...                   ... ..  \n",
       "344381              0           128                 7                     0  0  \n",
       "341925              0            34                 7                     0  0  \n",
       "71506               0            19                11                     1  0  \n",
       "130699              0             2                14                     1  0  \n",
       "196470              0             2                 4                     0  1  \n",
       "\n",
       "[259907 rows x 13 columns]"
      ]
     },
     "execution_count": 9,
     "metadata": {},
     "output_type": "execute_result"
    }
   ],
   "source": [
    "train_data"
   ]
  },
  {
   "cell_type": "code",
   "execution_count": 50,
   "metadata": {
    "ExecuteTime": {
     "end_time": "2020-11-26T04:36:09.278848Z",
     "start_time": "2020-11-26T04:36:09.273847Z"
    }
   },
   "outputs": [],
   "source": [
    "specs = {\n",
    "    'data_path': '../ensambles baseline/data/tex_physics.csv',\n",
    "    'train_data': train_data,\n",
    "    'val_data': val_data,\n",
    "    'max_tokens': 25000,\n",
    "    'sequence_length': 20,\n",
    "    'embedding_dimension': 100,\n",
    "    'lstm_layers': [16, 16, 32],\n",
    "    'lstm_activation': 'tanh',\n",
    "    'lstm_reg': [0.0002, 0.00035, 0.00035],\n",
    "    'lstm_dropout': [0.3, 0.3, 0.3],\n",
    "    'dense_layers': [32, 32, 32],\n",
    "    'dense_activation': 'elu',\n",
    "    'dense_reg': [0.0002, 0.00035, 0.00035],\n",
    "    'dense_dropout': [0.3, 0.3, 0.3],\n",
    "    'optimizer': \"keras.optimizers.Adam(0.001)\",\n",
    "    'callbacks': \"[keras.callbacks.LearningRateScheduler(lambda ep, lr: lr*0.8)]\",\n",
    "    'batch_size': 1024,\n",
    "    'epochs': 10\n",
    "}"
   ]
  },
  {
   "cell_type": "code",
   "execution_count": 51,
   "metadata": {
    "ExecuteTime": {
     "end_time": "2020-11-26T04:44:00.504822Z",
     "start_time": "2020-11-26T04:36:10.155724Z"
    }
   },
   "outputs": [
    {
     "name": "stdout",
     "output_type": "stream",
     "text": [
      "Epoch 1/10\n",
      "254/254 [==============================] - 37s 147ms/step - loss: 0.7367 - accuracy: 0.5422 - val_loss: 0.6758 - val_accuracy: 0.5534\n",
      "Epoch 2/10\n",
      "254/254 [==============================] - 44s 172ms/step - loss: 0.6579 - accuracy: 0.6086 - val_loss: 0.6629 - val_accuracy: 0.6021\n",
      "Epoch 3/10\n",
      "254/254 [==============================] - 46s 183ms/step - loss: 0.6415 - accuracy: 0.6288 - val_loss: 0.6645 - val_accuracy: 0.5910\n",
      "Epoch 4/10\n",
      "254/254 [==============================] - 46s 182ms/step - loss: 0.6325 - accuracy: 0.6391 - val_loss: 0.6644 - val_accuracy: 0.5999\n",
      "Epoch 5/10\n",
      "254/254 [==============================] - 47s 183ms/step - loss: 0.6249 - accuracy: 0.6477 - val_loss: 0.6715 - val_accuracy: 0.6047\n",
      "Epoch 6/10\n",
      "254/254 [==============================] - 47s 183ms/step - loss: 0.6184 - accuracy: 0.6538 - val_loss: 0.6722 - val_accuracy: 0.6045\n",
      "Epoch 7/10\n",
      "254/254 [==============================] - 46s 182ms/step - loss: 0.6140 - accuracy: 0.6579 - val_loss: 0.6754 - val_accuracy: 0.5948\n",
      "Epoch 8/10\n",
      "254/254 [==============================] - 46s 183ms/step - loss: 0.6089 - accuracy: 0.6637 - val_loss: 0.6821 - val_accuracy: 0.5968\n",
      "Epoch 9/10\n",
      "254/254 [==============================] - 46s 181ms/step - loss: 0.6032 - accuracy: 0.6693 - val_loss: 0.6863 - val_accuracy: 0.5955\n",
      "Epoch 10/10\n",
      "254/254 [==============================] - 46s 182ms/step - loss: 0.5983 - accuracy: 0.6739 - val_loss: 0.6896 - val_accuracy: 0.5984\n",
      "\n",
      "Starting evaluation on validation set:\n",
      "1/1 [==============================] - 0s 999us/step - loss: 0.6896 - accuracy: 0.5984\n"
     ]
    }
   ],
   "source": [
    "model, results = experiment('./registry.json', specs)"
   ]
  },
  {
   "cell_type": "code",
   "execution_count": 52,
   "metadata": {
    "ExecuteTime": {
     "end_time": "2020-11-26T04:44:00.698824Z",
     "start_time": "2020-11-26T04:44:00.693823Z"
    }
   },
   "outputs": [
    {
     "data": {
      "text/plain": [
       "{'data_path': '../ensambles baseline/data/tex_physics.csv',\n",
       " 'max_tokens': 25000,\n",
       " 'sequence_length': 20,\n",
       " 'embedding_dimension': 100,\n",
       " 'lstm_layers': [16, 16, 32],\n",
       " 'lstm_activation': 'tanh',\n",
       " 'lstm_reg': [0.00015, 0.00025, 0.00025],\n",
       " 'lstm_dropout': [0.3, 0.3, 0.3],\n",
       " 'dense_layers': [32, 32, 32],\n",
       " 'dense_activation': 'elu',\n",
       " 'dense_reg': [0.00015, 0.00025, 0.00025],\n",
       " 'dense_dropout': [0.3, 0.3, 0.3],\n",
       " 'optimizer': 'keras.optimizers.Adam(0.001)',\n",
       " 'callbacks': '[keras.callbacks.LearningRateScheduler(lambda ep, lr: lr*0.8)]',\n",
       " 'batch_size': 1024,\n",
       " 'epochs': 10,\n",
       " 'val_accuracy': 0.5984432697296143}"
      ]
     },
     "execution_count": 52,
     "metadata": {},
     "output_type": "execute_result"
    }
   ],
   "source": [
    "results"
   ]
  },
  {
   "cell_type": "code",
   "execution_count": 53,
   "metadata": {
    "ExecuteTime": {
     "end_time": "2020-11-26T04:44:02.037823Z",
     "start_time": "2020-11-26T04:44:00.842822Z"
    }
   },
   "outputs": [
    {
     "data": {
      "text/plain": [
       "array([[0.21814604],\n",
       "       [0.68046534],\n",
       "       [0.6269357 ]], dtype=float32)"
      ]
     },
     "execution_count": 53,
     "metadata": {},
     "output_type": "execute_result"
    }
   ],
   "source": [
    "model.predict([val_data.iloc[:3, 0].to_numpy(), val_data.iloc[:3, 1:-1].to_numpy()])"
   ]
  },
  {
   "cell_type": "code",
   "execution_count": 54,
   "metadata": {
    "ExecuteTime": {
     "end_time": "2020-11-26T04:44:02.180823Z",
     "start_time": "2020-11-26T04:44:02.176823Z"
    }
   },
   "outputs": [
    {
     "data": {
      "text/plain": [
       "363092    0\n",
       "234864    0\n",
       "227402    1\n",
       "Name: y, dtype: int64"
      ]
     },
     "execution_count": 54,
     "metadata": {},
     "output_type": "execute_result"
    }
   ],
   "source": [
    "val_data.iloc[:3, -1]"
   ]
  },
  {
   "cell_type": "code",
   "execution_count": 55,
   "metadata": {
    "ExecuteTime": {
     "end_time": "2020-11-26T04:44:05.235822Z",
     "start_time": "2020-11-26T04:44:05.139823Z"
    }
   },
   "outputs": [
    {
     "data": {
      "text/plain": [
       "<matplotlib.legend.Legend at 0x26cfd2a1b48>"
      ]
     },
     "execution_count": 55,
     "metadata": {},
     "output_type": "execute_result"
    },
    {
     "data": {
      "image/png": "[encoded data removed]",
      "text/plain": [
       "<Figure size 432x288 with 1 Axes>"
      ]
     },
     "metadata": {
      "needs_background": "light"
     },
     "output_type": "display_data"
    }
   ],
   "source": [
    "plt.plot(model.history['loss'])\n",
    "plt.plot(model.history['val_loss'])\n",
    "plt.xlabel('epoch')\n",
    "plt.ylabel('loss')\n",
    "plt.legend(['training', 'validation'])"
   ]
  },
  {
   "cell_type": "code",
   "execution_count": 56,
   "metadata": {
    "ExecuteTime": {
     "end_time": "2020-11-26T04:44:08.231268Z",
     "start_time": "2020-11-26T04:44:08.131268Z"
    },
    "scrolled": true
   },
   "outputs": [
    {
     "data": {
      "text/plain": [
       "<matplotlib.legend.Legend at 0x26cfd312fc8>"
      ]
     },
     "execution_count": 56,
     "metadata": {},
     "output_type": "execute_result"
    },
    {
     "data": {
      "image/png": "[encoded data removed]",
      "text/plain": [
       "<Figure size 432x288 with 1 Axes>"
      ]
     },
     "metadata": {
      "needs_background": "light"
     },
     "output_type": "display_data"
    }
   ],
   "source": [
    "plt.plot(model.history['accuracy'])\n",
    "plt.plot(model.history['val_accuracy'])\n",
    "plt.xlabel('epoch')\n",
    "plt.ylabel('accuracy')\n",
    "plt.legend(['training', 'validation'])"
   ]
  },
  {
   "cell_type": "code",
   "execution_count": 57,
   "metadata": {
    "ExecuteTime": {
     "end_time": "2020-11-26T04:45:29.207562Z",
     "start_time": "2020-11-26T04:45:29.204562Z"
    }
   },
   "outputs": [],
   "source": [
    "tokenizer = model.tokenizer\n",
    "normalizer = model.normalizer"
   ]
  },
  {
   "cell_type": "code",
   "execution_count": 86,
   "metadata": {
    "ExecuteTime": {
     "end_time": "2020-11-26T06:09:59.599081Z",
     "start_time": "2020-11-26T06:09:59.594079Z"
    }
   },
   "outputs": [],
   "source": [
    "specs = {\n",
    "    'data_path': '../ensambles baseline/data/tex_physics.csv',\n",
    "    'train_data': train_data,\n",
    "    'val_data': val_data,\n",
    "    'max_tokens': 25000,\n",
    "    'sequence_length': 20,\n",
    "    'embedding_dimension': 100,\n",
    "    'lstm_layers': [16, 16, 32],\n",
    "    'lstm_activation': 'tanh',\n",
    "    'lstm_reg': [0.0003, 0.00035, 0.00035],\n",
    "    #'lstm_dropout': [0.3, 0.3, 0.3],\n",
    "    'dense_layers': [32, 32, 32],\n",
    "    'dense_activation': 'elu',\n",
    "    'dense_reg': [0.0003, 0.00035, 0.00035],\n",
    "    #'dense_dropout': [0.3, 0.3, 0.3],\n",
    "    'optimizer': \"keras.optimizers.Adam(0.001)\",\n",
    "    'callbacks': \"[keras.callbacks.LearningRateScheduler(lambda ep, lr: lr*0.8)]\",\n",
    "    'batch_size': 1024,\n",
    "    'epochs': 10\n",
    "}"
   ]
  },
  {
   "cell_type": "code",
   "execution_count": 87,
   "metadata": {
    "ExecuteTime": {
     "end_time": "2020-11-26T06:30:17.089653Z",
     "start_time": "2020-11-26T06:10:00.107079Z"
    }
   },
   "outputs": [
    {
     "name": "stdout",
     "output_type": "stream",
     "text": [
      "Epoch 1/10\n",
      "254/254 [==============================] - 126s 495ms/step - loss: 0.7651 - accuracy: 0.5169 - val_loss: 0.7104 - val_accuracy: 0.5037\n",
      "Epoch 2/10\n",
      "254/254 [==============================] - 119s 470ms/step - loss: 0.6761 - accuracy: 0.5785 - val_loss: 0.6649 - val_accuracy: 0.5868\n",
      "Epoch 3/10\n",
      "254/254 [==============================] - 120s 471ms/step - loss: 0.6510 - accuracy: 0.6207 - val_loss: 0.6663 - val_accuracy: 0.6110\n",
      "Epoch 4/10\n",
      "254/254 [==============================] - 119s 468ms/step - loss: 0.6386 - accuracy: 0.6372 - val_loss: 0.6691 - val_accuracy: 0.6150\n",
      "Epoch 5/10\n",
      "254/254 [==============================] - 118s 463ms/step - loss: 0.6305 - accuracy: 0.6478 - val_loss: 0.6809 - val_accuracy: 0.5771\n",
      "Epoch 6/10\n",
      "254/254 [==============================] - 118s 466ms/step - loss: 0.6243 - accuracy: 0.6539 - val_loss: 0.6779 - val_accuracy: 0.6006\n",
      "Epoch 7/10\n",
      "254/254 [==============================] - 120s 474ms/step - loss: 0.6192 - accuracy: 0.6601 - val_loss: 0.6755 - val_accuracy: 0.6011\n",
      "Epoch 8/10\n",
      "254/254 [==============================] - 120s 471ms/step - loss: 0.6159 - accuracy: 0.6633 - val_loss: 0.6790 - val_accuracy: 0.6047\n",
      "Epoch 9/10\n",
      "254/254 [==============================] - 118s 466ms/step - loss: 0.6129 - accuracy: 0.6663 - val_loss: 0.6812 - val_accuracy: 0.6068\n",
      "Epoch 10/10\n",
      "254/254 [==============================] - 120s 472ms/step - loss: 0.6107 - accuracy: 0.6679 - val_loss: 0.6834 - val_accuracy: 0.6025\n",
      "\n",
      "Starting evaluation on validation set:\n",
      "1/1 [==============================] - 0s 2ms/step - loss: 0.6834 - accuracy: 0.6025\n"
     ]
    }
   ],
   "source": [
    "model, results = experiment('./registry.json', specs, tokenizer, normalizer)"
   ]
  },
  {
   "cell_type": "code",
   "execution_count": 88,
   "metadata": {
    "ExecuteTime": {
     "end_time": "2020-11-26T06:30:17.290653Z",
     "start_time": "2020-11-26T06:30:17.286652Z"
    }
   },
   "outputs": [
    {
     "data": {
      "text/plain": [
       "{'data_path': '../ensambles baseline/data/tex_physics.csv',\n",
       " 'max_tokens': 25000,\n",
       " 'sequence_length': 20,\n",
       " 'embedding_dimension': 100,\n",
       " 'lstm_layers': [16, 16, 32],\n",
       " 'lstm_activation': 'tanh',\n",
       " 'lstm_reg': [0.0003, 0.00035, 0.00035],\n",
       " 'dense_layers': [32, 32, 32],\n",
       " 'dense_activation': 'elu',\n",
       " 'dense_reg': [0.0003, 0.00035, 0.00035],\n",
       " 'optimizer': 'keras.optimizers.Adam(0.001)',\n",
       " 'callbacks': '[keras.callbacks.LearningRateScheduler(lambda ep, lr: lr*0.8)]',\n",
       " 'batch_size': 1024,\n",
       " 'epochs': 10,\n",
       " 'val_accuracy': 0.6024742126464844}"
      ]
     },
     "execution_count": 88,
     "metadata": {},
     "output_type": "execute_result"
    }
   ],
   "source": [
    "results"
   ]
  },
  {
   "cell_type": "code",
   "execution_count": 89,
   "metadata": {
    "ExecuteTime": {
     "end_time": "2020-11-26T06:30:18.760653Z",
     "start_time": "2020-11-26T06:30:17.442652Z"
    }
   },
   "outputs": [
    {
     "name": "stdout",
     "output_type": "stream",
     "text": [
      "WARNING:tensorflow:7 out of the last 7 calls to <function Model.make_predict_function.<locals>.predict_function at 0x0000026D015309D8> triggered tf.function retracing. Tracing is expensive and the excessive number of tracings could be due to (1) creating @tf.function repeatedly in a loop, (2) passing tensors with different shapes, (3) passing Python objects instead of tensors. For (1), please define your @tf.function outside of the loop. For (2), @tf.function has experimental_relax_shapes=True option that relaxes argument shapes that can avoid unnecessary retracing. For (3), please refer to https://www.tensorflow.org/tutorials/customization/performance#python_or_tensor_args and https://www.tensorflow.org/api_docs/python/tf/function for  more details.\n"
     ]
    },
    {
     "data": {
      "text/plain": [
       "array([[0.18498722],\n",
       "       [0.68230206],\n",
       "       [0.6046291 ]], dtype=float32)"
      ]
     },
     "execution_count": 89,
     "metadata": {},
     "output_type": "execute_result"
    }
   ],
   "source": [
    "model.predict([val_data.iloc[:3, 0].to_numpy(), val_data.iloc[:3, 1:-1].to_numpy()])"
   ]
  },
  {
   "cell_type": "code",
   "execution_count": 90,
   "metadata": {
    "ExecuteTime": {
     "end_time": "2020-11-26T06:30:18.909652Z",
     "start_time": "2020-11-26T06:30:18.905652Z"
    }
   },
   "outputs": [
    {
     "data": {
      "text/plain": [
       "363092    0\n",
       "234864    0\n",
       "227402    1\n",
       "Name: y, dtype: int64"
      ]
     },
     "execution_count": 90,
     "metadata": {},
     "output_type": "execute_result"
    }
   ],
   "source": [
    "val_data.iloc[:3, -1]"
   ]
  },
  {
   "cell_type": "code",
   "execution_count": 91,
   "metadata": {
    "ExecuteTime": {
     "end_time": "2020-11-26T06:31:11.448185Z",
     "start_time": "2020-11-26T06:31:11.349187Z"
    }
   },
   "outputs": [
    {
     "data": {
      "text/plain": [
       "<matplotlib.legend.Legend at 0x26cda857448>"
      ]
     },
     "execution_count": 91,
     "metadata": {},
     "output_type": "execute_result"
    },
    {
     "data": {
      "image/png": "[encoded data removed]",
      "text/plain": [
       "<Figure size 432x288 with 1 Axes>"
      ]
     },
     "metadata": {
      "needs_background": "light"
     },
     "output_type": "display_data"
    }
   ],
   "source": [
    "plt.plot(model.history['loss'])\n",
    "plt.plot(model.history['val_loss'])\n",
    "plt.xlabel('epoch')\n",
    "plt.ylabel('loss')\n",
    "plt.legend(['training', 'validation'])"
   ]
  },
  {
   "cell_type": "code",
   "execution_count": 92,
   "metadata": {
    "ExecuteTime": {
     "end_time": "2020-11-26T06:31:33.828549Z",
     "start_time": "2020-11-26T06:31:33.723551Z"
    }
   },
   "outputs": [
    {
     "data": {
      "text/plain": [
       "<matplotlib.legend.Legend at 0x26d00b2be08>"
      ]
     },
     "execution_count": 92,
     "metadata": {},
     "output_type": "execute_result"
    },
    {
     "data": {
      "image/png": "[encoded data removed]",
      "text/plain": [
       "<Figure size 432x288 with 1 Axes>"
      ]
     },
     "metadata": {
      "needs_background": "light"
     },
     "output_type": "display_data"
    }
   ],
   "source": [
    "plt.plot(model.history['accuracy'])\n",
    "plt.plot(model.history['val_accuracy'])\n",
    "plt.xlabel('epoch')\n",
    "plt.ylabel('accuracy')\n",
    "plt.legend(['training', 'validation'])"
   ]
  },
  {
   "cell_type": "code",
   "execution_count": null,
   "metadata": {},
   "outputs": [],
   "source": []
  }
 ],
 "metadata": {
  "kernelspec": {
   "display_name": "Python [conda env:tf]",
   "language": "python",
   "name": "conda-env-tf-py"
  },
  "language_info": {
   "codemirror_mode": {
    "name": "ipython",
    "version": 3
   },
   "file_extension": ".py",
   "mimetype": "text/x-python",
   "name": "python",
   "nbconvert_exporter": "python",
   "pygments_lexer": "ipython3",
   "version": "3.7.7"
  },
  "varInspector": {
   "cols": {
    "lenName": 16,
    "lenType": 16,
    "lenVar": 40
   },
   "kernels_config": {
    "python": {
     "delete_cmd_postfix": "",
     "delete_cmd_prefix": "del ",
     "library": "var_list.py",
     "varRefreshCmd": "print(var_dic_list())"
    },
    "r": {
     "delete_cmd_postfix": ") ",
     "delete_cmd_prefix": "rm(",
     "library": "var_list.r",
     "varRefreshCmd": "cat(var_dic_list()) "
    }
   },
   "types_to_exclude": [
    "module",
    "function",
    "builtin_function_or_method",
    "instance",
    "_Feature"
   ],
   "window_display": false
  }
 },
 "nbformat": 4,
 "nbformat_minor": 2
}
