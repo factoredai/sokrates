{
 "cells": [
  {
   "cell_type": "code",
   "execution_count": 1,
   "metadata": {
    "ExecuteTime": {
     "end_time": "2020-12-01T18:50:41.937149Z",
     "start_time": "2020-12-01T18:50:41.935149Z"
    }
   },
   "outputs": [],
   "source": [
    "import sys\n",
    "sys.path.insert(1, '../')"
   ]
  },
  {
   "cell_type": "code",
   "execution_count": 2,
   "metadata": {
    "ExecuteTime": {
     "end_time": "2020-12-01T18:50:44.091149Z",
     "start_time": "2020-12-01T18:50:41.938149Z"
    }
   },
   "outputs": [],
   "source": [
    "import pandas as pd\n",
    "from sklearn.model_selection import train_test_split\n",
    "from matplotlib import pyplot as plt\n",
    "from tensorflow import keras\n",
    "\n",
    "from nlp_model_v1 import Model, experiment"
   ]
  },
  {
   "cell_type": "code",
   "execution_count": 3,
   "metadata": {
    "ExecuteTime": {
     "end_time": "2020-12-01T18:50:47.703149Z",
     "start_time": "2020-12-01T18:50:44.092148Z"
    }
   },
   "outputs": [],
   "source": [
    "df = pd.read_csv('../ensambles baseline/data/tex_physics.csv')"
   ]
  },
  {
   "cell_type": "code",
   "execution_count": 4,
   "metadata": {
    "ExecuteTime": {
     "end_time": "2020-12-01T18:50:47.707152Z",
     "start_time": "2020-12-01T18:50:47.704150Z"
    }
   },
   "outputs": [],
   "source": [
    "def class_decider(row):\n",
    "    if row['score'] < 2.:\n",
    "        return 0\n",
    "    elif row['score'] > 2.:\n",
    "        return 1\n",
    "    else:\n",
    "        if row['n_answers'] < 1.:\n",
    "            return 0\n",
    "        else:\n",
    "            return 1"
   ]
  },
  {
   "cell_type": "code",
   "execution_count": 5,
   "metadata": {
    "ExecuteTime": {
     "end_time": "2020-12-01T18:50:50.339150Z",
     "start_time": "2020-12-01T18:50:47.709153Z"
    }
   },
   "outputs": [],
   "source": [
    "df.loc[:, 'y'] = df.apply(class_decider, axis=1)"
   ]
  },
  {
   "cell_type": "code",
   "execution_count": 6,
   "metadata": {
    "ExecuteTime": {
     "end_time": "2020-12-01T18:50:50.348152Z",
     "start_time": "2020-12-01T18:50:50.340150Z"
    }
   },
   "outputs": [
    {
     "data": {
      "text/plain": [
       "0    186511\n",
       "1    184785\n",
       "Name: y, dtype: int64"
      ]
     },
     "execution_count": 6,
     "metadata": {},
     "output_type": "execute_result"
    }
   ],
   "source": [
    "df['y'].value_counts()"
   ]
  },
  {
   "cell_type": "code",
   "execution_count": 7,
   "metadata": {
    "ExecuteTime": {
     "end_time": "2020-12-01T18:50:50.420150Z",
     "start_time": "2020-12-01T18:50:50.349151Z"
    }
   },
   "outputs": [],
   "source": [
    "data = df[['body', 'title', 'n_lists', 'n_links', 'n_tags',\n",
    "       'num_question_marks', 'wh_word_count', 'sentence_count', 'word_count',\n",
    "       'example_count', 'n_linebreaks', 'title_word_count',\n",
    "       'title_question_marks', 'y']]"
   ]
  },
  {
   "cell_type": "code",
   "execution_count": 8,
   "metadata": {
    "ExecuteTime": {
     "end_time": "2020-12-01T18:50:50.620150Z",
     "start_time": "2020-12-01T18:50:50.422151Z"
    }
   },
   "outputs": [],
   "source": [
    "train_data, val_data = train_test_split(data, test_size=0.3, stratify=data['y'], random_state=42)"
   ]
  },
  {
   "cell_type": "code",
   "execution_count": 9,
   "metadata": {
    "ExecuteTime": {
     "end_time": "2020-12-01T18:50:50.635151Z",
     "start_time": "2020-12-01T18:50:50.621151Z"
    },
    "scrolled": true
   },
   "outputs": [
    {
     "data": {
      "text/html": [
       "<div>\n",
       "<style scoped>\n",
       "    .dataframe tbody tr th:only-of-type {\n",
       "        vertical-align: middle;\n",
       "    }\n",
       "\n",
       "    .dataframe tbody tr th {\n",
       "        vertical-align: top;\n",
       "    }\n",
       "\n",
       "    .dataframe thead th {\n",
       "        text-align: right;\n",
       "    }\n",
       "</style>\n",
       "<table border=\"1\" class=\"dataframe\">\n",
       "  <thead>\n",
       "    <tr style=\"text-align: right;\">\n",
       "      <th></th>\n",
       "      <th>body</th>\n",
       "      <th>title</th>\n",
       "      <th>n_lists</th>\n",
       "      <th>n_links</th>\n",
       "      <th>n_tags</th>\n",
       "      <th>num_question_marks</th>\n",
       "      <th>wh_word_count</th>\n",
       "      <th>sentence_count</th>\n",
       "      <th>word_count</th>\n",
       "      <th>example_count</th>\n",
       "      <th>n_linebreaks</th>\n",
       "      <th>title_word_count</th>\n",
       "      <th>title_question_marks</th>\n",
       "      <th>y</th>\n",
       "    </tr>\n",
       "  </thead>\n",
       "  <tbody>\n",
       "    <tr>\n",
       "      <th>292249</th>\n",
       "      <td>I want to print out handout for my beamer pres...</td>\n",
       "      <td>How do I install pgfpages package?</td>\n",
       "      <td>0</td>\n",
       "      <td>0</td>\n",
       "      <td>3</td>\n",
       "      <td>2</td>\n",
       "      <td>0</td>\n",
       "      <td>3</td>\n",
       "      <td>27</td>\n",
       "      <td>0</td>\n",
       "      <td>1</td>\n",
       "      <td>6</td>\n",
       "      <td>1</td>\n",
       "      <td>0</td>\n",
       "    </tr>\n",
       "    <tr>\n",
       "      <th>178165</th>\n",
       "      <td>I installed TeX Live 2011 from source in my Ub...</td>\n",
       "      <td>AUCTeX can't find PDFLaTeX</td>\n",
       "      <td>0</td>\n",
       "      <td>0</td>\n",
       "      <td>2</td>\n",
       "      <td>1</td>\n",
       "      <td>3</td>\n",
       "      <td>6</td>\n",
       "      <td>90</td>\n",
       "      <td>0</td>\n",
       "      <td>7</td>\n",
       "      <td>5</td>\n",
       "      <td>0</td>\n",
       "      <td>1</td>\n",
       "    </tr>\n",
       "    <tr>\n",
       "      <th>223579</th>\n",
       "      <td>According to the answer given here, the microt...</td>\n",
       "      <td>Loading microtype before or after the font</td>\n",
       "      <td>0</td>\n",
       "      <td>4</td>\n",
       "      <td>1</td>\n",
       "      <td>1</td>\n",
       "      <td>3</td>\n",
       "      <td>5</td>\n",
       "      <td>174</td>\n",
       "      <td>0</td>\n",
       "      <td>20</td>\n",
       "      <td>7</td>\n",
       "      <td>0</td>\n",
       "      <td>1</td>\n",
       "    </tr>\n",
       "    <tr>\n",
       "      <th>266094</th>\n",
       "      <td>I want to draw a propeller in 3D for my fluid ...</td>\n",
       "      <td>Render stl files in asymptote</td>\n",
       "      <td>0</td>\n",
       "      <td>5</td>\n",
       "      <td>2</td>\n",
       "      <td>0</td>\n",
       "      <td>1</td>\n",
       "      <td>5</td>\n",
       "      <td>80</td>\n",
       "      <td>0</td>\n",
       "      <td>4</td>\n",
       "      <td>5</td>\n",
       "      <td>0</td>\n",
       "      <td>1</td>\n",
       "    </tr>\n",
       "    <tr>\n",
       "      <th>44330</th>\n",
       "      <td>When I was a boy (I live in the UK) most light...</td>\n",
       "      <td>How bright is a 150 W incandescent light bulb?</td>\n",
       "      <td>0</td>\n",
       "      <td>0</td>\n",
       "      <td>1</td>\n",
       "      <td>1</td>\n",
       "      <td>2</td>\n",
       "      <td>6</td>\n",
       "      <td>86</td>\n",
       "      <td>0</td>\n",
       "      <td>3</td>\n",
       "      <td>8</td>\n",
       "      <td>1</td>\n",
       "      <td>1</td>\n",
       "    </tr>\n",
       "    <tr>\n",
       "      <th>...</th>\n",
       "      <td>...</td>\n",
       "      <td>...</td>\n",
       "      <td>...</td>\n",
       "      <td>...</td>\n",
       "      <td>...</td>\n",
       "      <td>...</td>\n",
       "      <td>...</td>\n",
       "      <td>...</td>\n",
       "      <td>...</td>\n",
       "      <td>...</td>\n",
       "      <td>...</td>\n",
       "      <td>...</td>\n",
       "      <td>...</td>\n",
       "      <td>...</td>\n",
       "    </tr>\n",
       "    <tr>\n",
       "      <th>344381</th>\n",
       "      <td>I have searched everywhere for an answer to th...</td>\n",
       "      <td>\\usepackage{tikz} causing \"extra }\" and \"missi...</td>\n",
       "      <td>0</td>\n",
       "      <td>0</td>\n",
       "      <td>3</td>\n",
       "      <td>0</td>\n",
       "      <td>4</td>\n",
       "      <td>30</td>\n",
       "      <td>453</td>\n",
       "      <td>0</td>\n",
       "      <td>128</td>\n",
       "      <td>7</td>\n",
       "      <td>0</td>\n",
       "      <td>0</td>\n",
       "    </tr>\n",
       "    <tr>\n",
       "      <th>341925</th>\n",
       "      <td>I have made the following theorem environment ...</td>\n",
       "      <td>Indenting all lines in a theorem environment</td>\n",
       "      <td>0</td>\n",
       "      <td>2</td>\n",
       "      <td>1</td>\n",
       "      <td>2</td>\n",
       "      <td>1</td>\n",
       "      <td>5</td>\n",
       "      <td>108</td>\n",
       "      <td>0</td>\n",
       "      <td>34</td>\n",
       "      <td>7</td>\n",
       "      <td>0</td>\n",
       "      <td>0</td>\n",
       "    </tr>\n",
       "    <tr>\n",
       "      <th>71506</th>\n",
       "      <td>I'm a beginner with the study in data analysis...</td>\n",
       "      <td>Why is the standard deviation the error on the...</td>\n",
       "      <td>1</td>\n",
       "      <td>0</td>\n",
       "      <td>4</td>\n",
       "      <td>1</td>\n",
       "      <td>7</td>\n",
       "      <td>7</td>\n",
       "      <td>290</td>\n",
       "      <td>0</td>\n",
       "      <td>19</td>\n",
       "      <td>11</td>\n",
       "      <td>1</td>\n",
       "      <td>0</td>\n",
       "    </tr>\n",
       "    <tr>\n",
       "      <th>130699</th>\n",
       "      <td>As the title says, when does magnetic force sa...</td>\n",
       "      <td>When does magnetic force act as a centripetal ...</td>\n",
       "      <td>0</td>\n",
       "      <td>0</td>\n",
       "      <td>2</td>\n",
       "      <td>4</td>\n",
       "      <td>3</td>\n",
       "      <td>4</td>\n",
       "      <td>49</td>\n",
       "      <td>0</td>\n",
       "      <td>2</td>\n",
       "      <td>14</td>\n",
       "      <td>1</td>\n",
       "      <td>0</td>\n",
       "    </tr>\n",
       "    <tr>\n",
       "      <th>196470</th>\n",
       "      <td>What would be the best way of drawing a politi...</td>\n",
       "      <td>Drawing a political spectrum</td>\n",
       "      <td>0</td>\n",
       "      <td>0</td>\n",
       "      <td>1</td>\n",
       "      <td>0</td>\n",
       "      <td>1</td>\n",
       "      <td>1</td>\n",
       "      <td>15</td>\n",
       "      <td>0</td>\n",
       "      <td>2</td>\n",
       "      <td>4</td>\n",
       "      <td>0</td>\n",
       "      <td>1</td>\n",
       "    </tr>\n",
       "  </tbody>\n",
       "</table>\n",
       "<p>259907 rows × 14 columns</p>\n",
       "</div>"
      ],
      "text/plain": [
       "                                                     body  \\\n",
       "292249  I want to print out handout for my beamer pres...   \n",
       "178165  I installed TeX Live 2011 from source in my Ub...   \n",
       "223579  According to the answer given here, the microt...   \n",
       "266094  I want to draw a propeller in 3D for my fluid ...   \n",
       "44330   When I was a boy (I live in the UK) most light...   \n",
       "...                                                   ...   \n",
       "344381  I have searched everywhere for an answer to th...   \n",
       "341925  I have made the following theorem environment ...   \n",
       "71506   I'm a beginner with the study in data analysis...   \n",
       "130699  As the title says, when does magnetic force sa...   \n",
       "196470  What would be the best way of drawing a politi...   \n",
       "\n",
       "                                                    title  n_lists  n_links  \\\n",
       "292249                 How do I install pgfpages package?        0        0   \n",
       "178165                         AUCTeX can't find PDFLaTeX        0        0   \n",
       "223579         Loading microtype before or after the font        0        4   \n",
       "266094                      Render stl files in asymptote        0        5   \n",
       "44330      How bright is a 150 W incandescent light bulb?        0        0   \n",
       "...                                                   ...      ...      ...   \n",
       "344381  \\usepackage{tikz} causing \"extra }\" and \"missi...        0        0   \n",
       "341925       Indenting all lines in a theorem environment        0        2   \n",
       "71506   Why is the standard deviation the error on the...        1        0   \n",
       "130699  When does magnetic force act as a centripetal ...        0        0   \n",
       "196470                       Drawing a political spectrum        0        0   \n",
       "\n",
       "        n_tags  num_question_marks  wh_word_count  sentence_count  word_count  \\\n",
       "292249       3                   2              0               3          27   \n",
       "178165       2                   1              3               6          90   \n",
       "223579       1                   1              3               5         174   \n",
       "266094       2                   0              1               5          80   \n",
       "44330        1                   1              2               6          86   \n",
       "...        ...                 ...            ...             ...         ...   \n",
       "344381       3                   0              4              30         453   \n",
       "341925       1                   2              1               5         108   \n",
       "71506        4                   1              7               7         290   \n",
       "130699       2                   4              3               4          49   \n",
       "196470       1                   0              1               1          15   \n",
       "\n",
       "        example_count  n_linebreaks  title_word_count  title_question_marks  y  \n",
       "292249              0             1                 6                     1  0  \n",
       "178165              0             7                 5                     0  1  \n",
       "223579              0            20                 7                     0  1  \n",
       "266094              0             4                 5                     0  1  \n",
       "44330               0             3                 8                     1  1  \n",
       "...               ...           ...               ...                   ... ..  \n",
       "344381              0           128                 7                     0  0  \n",
       "341925              0            34                 7                     0  0  \n",
       "71506               0            19                11                     1  0  \n",
       "130699              0             2                14                     1  0  \n",
       "196470              0             2                 4                     0  1  \n",
       "\n",
       "[259907 rows x 14 columns]"
      ]
     },
     "execution_count": 9,
     "metadata": {},
     "output_type": "execute_result"
    }
   ],
   "source": [
    "train_data"
   ]
  },
  {
   "cell_type": "code",
   "execution_count": 10,
   "metadata": {
    "ExecuteTime": {
     "end_time": "2020-12-01T18:50:50.641151Z",
     "start_time": "2020-12-01T18:50:50.636152Z"
    }
   },
   "outputs": [],
   "source": [
    "specs = {\n",
    "    'data_path': '../ensambles baseline/data/tex_physics.csv',\n",
    "    'train_data': train_data,\n",
    "    'val_data': val_data,\n",
    "    'max_tokens': 6000,\n",
    "    'embedding_dimension': 64,\n",
    "    'embedding_dropout': 0.5,\n",
    "    'body_layer_type': 'gru',\n",
    "    'body_sequence_length': 70,\n",
    "    'body_layers': [64],\n",
    "    'body_activation': 'tanh',\n",
    "    #'body_reg': [1e-6],\n",
    "    'body_dropout': [0.5],\n",
    "    'title_layer_type': 'gru',\n",
    "    'title_sequence_length': 20,\n",
    "    'title_layers': [16],\n",
    "    'title_activation': 'tanh',\n",
    "    #'title_reg': [1e-6],\n",
    "    'title_dropout': [0.5],\n",
    "    'dense_layers': [64],\n",
    "    'dense_activation': 'relu',\n",
    "    #'dense_reg': [1e-6],\n",
    "    'dense_dropout': [0.5],\n",
    "    'normalize_features': False,\n",
    "    'optimizer_type': 'adam',\n",
    "    'batch_size': 4096,\n",
    "    'epochs': 2\n",
    "}"
   ]
  },
  {
   "cell_type": "code",
   "execution_count": 11,
   "metadata": {
    "ExecuteTime": {
     "end_time": "2020-12-01T18:56:16.398724Z",
     "start_time": "2020-12-01T18:50:50.642151Z"
    }
   },
   "outputs": [
    {
     "name": "stdout",
     "output_type": "stream",
     "text": [
      "Model: \"functional_1\"\n",
      "__________________________________________________________________________________________________\n",
      "Layer (type)                    Output Shape         Param #     Connected to                     \n",
      "==================================================================================================\n",
      "body_tokenized (InputLayer)     [(None, 70)]         0                                            \n",
      "__________________________________________________________________________________________________\n",
      "title_tokenized (InputLayer)    [(None, 20)]         0                                            \n",
      "__________________________________________________________________________________________________\n",
      "embedding (Embedding)           multiple             384000      title_tokenized[0][0]            \n",
      "                                                                 body_tokenized[0][0]             \n",
      "__________________________________________________________________________________________________\n",
      "dropout (Dropout)               multiple             0           embedding[0][0]                  \n",
      "                                                                 embedding[1][0]                  \n",
      "__________________________________________________________________________________________________\n",
      "sequential (Sequential)         (None, 128)          49920       dropout[1][0]                    \n",
      "__________________________________________________________________________________________________\n",
      "sequential_1 (Sequential)       (None, 32)           7872        dropout[0][0]                    \n",
      "__________________________________________________________________________________________________\n",
      "input_1 (InputLayer)            [(None, 11)]         0                                            \n",
      "__________________________________________________________________________________________________\n",
      "tf_op_layer_concat (TensorFlowO [(None, 171)]        0           sequential[0][0]                 \n",
      "                                                                 sequential_1[0][0]               \n",
      "                                                                 input_1[0][0]                    \n",
      "__________________________________________________________________________________________________\n",
      "batch_normalization_1 (BatchNor (None, 171)          684         tf_op_layer_concat[0][0]         \n",
      "__________________________________________________________________________________________________\n",
      "sequential_2 (Sequential)       (None, 1)            11329       batch_normalization_1[0][0]      \n",
      "==================================================================================================\n",
      "Total params: 453,805\n",
      "Trainable params: 453,335\n",
      "Non-trainable params: 470\n",
      "__________________________________________________________________________________________________\n",
      "None\n",
      "Epoch 1/2\n",
      "64/64 [==============================] - 131s 2s/step - loss: 0.8491 - accuracy: 0.5132 - val_loss: 0.6905 - val_accuracy: 0.5041\n",
      "Epoch 2/2\n",
      "64/64 [==============================] - 129s 2s/step - loss: 0.7472 - accuracy: 0.5309 - val_loss: 0.6841 - val_accuracy: 0.5041\n"
     ]
    }
   ],
   "source": [
    "model, results = experiment('./registry.json', specs)"
   ]
  },
  {
   "cell_type": "code",
   "execution_count": 12,
   "metadata": {
    "ExecuteTime": {
     "end_time": "2020-12-01T18:56:19.533726Z",
     "start_time": "2020-12-01T18:56:19.529722Z"
    }
   },
   "outputs": [
    {
     "data": {
      "text/plain": [
       "{'data_path': '../ensambles baseline/data/tex_physics.csv',\n",
       " 'max_tokens': 6000,\n",
       " 'embedding_dimension': 64,\n",
       " 'embedding_dropout': 0.5,\n",
       " 'body_layer_type': 'gru',\n",
       " 'body_sequence_length': 70,\n",
       " 'body_layers': [64],\n",
       " 'body_activation': 'tanh',\n",
       " 'body_dropout': [0.5],\n",
       " 'title_layer_type': 'gru',\n",
       " 'title_sequence_length': 20,\n",
       " 'title_layers': [16],\n",
       " 'title_activation': 'tanh',\n",
       " 'title_dropout': [0.5],\n",
       " 'dense_layers': [64],\n",
       " 'dense_activation': 'relu',\n",
       " 'dense_dropout': [0.5],\n",
       " 'normalize_features': False,\n",
       " 'optimizer_type': 'adam',\n",
       " 'batch_size': 4096,\n",
       " 'epochs': 2,\n",
       " 'train_accuracy': 0.530859112739563,\n",
       " 'val_accuracy': 0.5040623545646667}"
      ]
     },
     "execution_count": 12,
     "metadata": {},
     "output_type": "execute_result"
    }
   ],
   "source": [
    "results"
   ]
  },
  {
   "cell_type": "code",
   "execution_count": 13,
   "metadata": {
    "ExecuteTime": {
     "end_time": "2020-12-01T18:56:20.270723Z",
     "start_time": "2020-12-01T18:56:19.534723Z"
    }
   },
   "outputs": [
    {
     "data": {
      "text/plain": [
       "array([[0.46418682],\n",
       "       [0.5017051 ],\n",
       "       [0.44371983]], dtype=float32)"
      ]
     },
     "execution_count": 13,
     "metadata": {},
     "output_type": "execute_result"
    }
   ],
   "source": [
    "model.predict(val_data.iloc[:3])"
   ]
  },
  {
   "cell_type": "code",
   "execution_count": 14,
   "metadata": {
    "ExecuteTime": {
     "end_time": "2020-12-01T18:56:20.275724Z",
     "start_time": "2020-12-01T18:56:20.271723Z"
    }
   },
   "outputs": [
    {
     "data": {
      "text/plain": [
       "363092    0\n",
       "234864    0\n",
       "227402    1\n",
       "Name: y, dtype: int64"
      ]
     },
     "execution_count": 14,
     "metadata": {},
     "output_type": "execute_result"
    }
   ],
   "source": [
    "val_data.iloc[:3, -1]"
   ]
  },
  {
   "cell_type": "code",
   "execution_count": 15,
   "metadata": {
    "ExecuteTime": {
     "end_time": "2020-12-01T18:56:20.383724Z",
     "start_time": "2020-12-01T18:56:20.276723Z"
    }
   },
   "outputs": [
    {
     "data": {
      "text/plain": [
       "<matplotlib.legend.Legend at 0x19b4ed29f48>"
      ]
     },
     "execution_count": 15,
     "metadata": {},
     "output_type": "execute_result"
    },
    {
     "data": {
      "image/png": "[encoded data removed]",
      "text/plain": [
       "<Figure size 432x288 with 1 Axes>"
      ]
     },
     "metadata": {
      "needs_background": "light"
     },
     "output_type": "display_data"
    }
   ],
   "source": [
    "plt.plot(model.history['loss'])\n",
    "plt.plot(model.history['val_loss'])\n",
    "plt.xlabel('epoch')\n",
    "plt.ylabel('loss')\n",
    "plt.legend(['training', 'validation'])"
   ]
  },
  {
   "cell_type": "code",
   "execution_count": 16,
   "metadata": {
    "ExecuteTime": {
     "end_time": "2020-12-01T18:56:20.476724Z",
     "start_time": "2020-12-01T18:56:20.384723Z"
    },
    "scrolled": true
   },
   "outputs": [
    {
     "data": {
      "text/plain": [
       "<matplotlib.legend.Legend at 0x19b50e2dd48>"
      ]
     },
     "execution_count": 16,
     "metadata": {},
     "output_type": "execute_result"
    },
    {
     "data": {
      "image/png": "[encoded data removed]",
      "text/plain": [
       "<Figure size 432x288 with 1 Axes>"
      ]
     },
     "metadata": {
      "needs_background": "light"
     },
     "output_type": "display_data"
    }
   ],
   "source": [
    "plt.plot(model.history['accuracy'])\n",
    "plt.plot(model.history['val_accuracy'])\n",
    "plt.xlabel('epoch')\n",
    "plt.ylabel('accuracy')\n",
    "plt.legend(['training', 'validation'])"
   ]
  },
  {
   "cell_type": "code",
   "execution_count": 17,
   "metadata": {
    "ExecuteTime": {
     "end_time": "2020-12-01T18:56:20.479724Z",
     "start_time": "2020-12-01T18:56:20.477723Z"
    }
   },
   "outputs": [],
   "source": [
    "tokenizer = model.tokenizer\n",
    "normalizer = model.normalizer"
   ]
  },
  {
   "cell_type": "code",
   "execution_count": 25,
   "metadata": {
    "ExecuteTime": {
     "end_time": "2020-12-01T19:29:44.129373Z",
     "start_time": "2020-12-01T19:29:44.122373Z"
    }
   },
   "outputs": [],
   "source": [
    "specs = {\n",
    "    'data_path': '../ensambles baseline/data/tex_physics.csv',\n",
    "    'train_data': train_data,\n",
    "    'val_data': val_data,\n",
    "    'max_tokens': 10000,\n",
    "    'embedding_dimension': 64,\n",
    "    #'embedding_dropout': 0.05,\n",
    "    'body_layer_type': 'gru',\n",
    "    'body_sequence_length': 70,\n",
    "    'body_layers': [64],\n",
    "    'body_activation': 'tanh',\n",
    "    'body_reg': [1e-2],\n",
    "    #'body_dropout': [0.5],\n",
    "    'title_layer_type': 'gru',\n",
    "    'title_sequence_length': 20,\n",
    "    'title_layers': [16],\n",
    "    'title_activation': 'tanh',\n",
    "    'title_reg': [1e-2],\n",
    "    #'title_dropout': [0.5],\n",
    "    'dense_layers': [64],\n",
    "    'dense_activation': 'relu',\n",
    "    'dense_reg': [1e-2],\n",
    "    #'dense_dropout': [0.5],\n",
    "    'normalize_features': False,\n",
    "    'optimizer_type': 'adam',\n",
    "    'batch_size': 4096,\n",
    "    'epochs': 10\n",
    "}"
   ]
  },
  {
   "cell_type": "code",
   "execution_count": 26,
   "metadata": {
    "ExecuteTime": {
     "end_time": "2020-12-01T19:57:52.296836Z",
     "start_time": "2020-12-01T19:29:44.418373Z"
    }
   },
   "outputs": [
    {
     "name": "stdout",
     "output_type": "stream",
     "text": [
      "Model: \"functional_5\"\n",
      "__________________________________________________________________________________________________\n",
      "Layer (type)                    Output Shape         Param #     Connected to                     \n",
      "==================================================================================================\n",
      "body_tokenized (InputLayer)     [(None, 70)]         0                                            \n",
      "__________________________________________________________________________________________________\n",
      "title_tokenized (InputLayer)    [(None, 20)]         0                                            \n",
      "__________________________________________________________________________________________________\n",
      "embedding_2 (Embedding)         multiple             640000      title_tokenized[0][0]            \n",
      "                                                                 body_tokenized[0][0]             \n",
      "__________________________________________________________________________________________________\n",
      "sequential_6 (Sequential)       (None, 128)          49920       embedding_2[1][0]                \n",
      "__________________________________________________________________________________________________\n",
      "sequential_7 (Sequential)       (None, 32)           7872        embedding_2[0][0]                \n",
      "__________________________________________________________________________________________________\n",
      "input_3 (InputLayer)            [(None, 11)]         0                                            \n",
      "__________________________________________________________________________________________________\n",
      "tf_op_layer_concat_2 (TensorFlo [(None, 171)]        0           sequential_6[0][0]               \n",
      "                                                                 sequential_7[0][0]               \n",
      "                                                                 input_3[0][0]                    \n",
      "__________________________________________________________________________________________________\n",
      "batch_normalization_5 (BatchNor (None, 171)          684         tf_op_layer_concat_2[0][0]       \n",
      "__________________________________________________________________________________________________\n",
      "sequential_8 (Sequential)       (None, 1)            11329       batch_normalization_5[0][0]      \n",
      "==================================================================================================\n",
      "Total params: 709,805\n",
      "Trainable params: 709,335\n",
      "Non-trainable params: 470\n",
      "__________________________________________________________________________________________________\n",
      "None\n",
      "Epoch 1/10\n",
      "64/64 [==============================] - 161s 3s/step - loss: 4.1111 - accuracy: 0.5569 - val_loss: 2.4979 - val_accuracy: 0.5024\n",
      "Epoch 2/10\n",
      "64/64 [==============================] - 160s 2s/step - loss: 1.7237 - accuracy: 0.6069 - val_loss: 1.2642 - val_accuracy: 0.5023\n",
      "Epoch 3/10\n",
      "64/64 [==============================] - 161s 3s/step - loss: 0.9768 - accuracy: 0.6257 - val_loss: 0.8892 - val_accuracy: 0.5024\n",
      "Epoch 4/10\n",
      "64/64 [==============================] - 163s 3s/step - loss: 0.7430 - accuracy: 0.6367 - val_loss: 0.7737 - val_accuracy: 0.5030\n",
      "Epoch 5/10\n",
      "64/64 [==============================] - 159s 2s/step - loss: 0.6592 - accuracy: 0.6514 - val_loss: 0.7380 - val_accuracy: 0.5069\n",
      "Epoch 6/10\n",
      "64/64 [==============================] - 159s 2s/step - loss: 0.6203 - accuracy: 0.6646 - val_loss: 0.7251 - val_accuracy: 0.5294\n",
      "Epoch 7/10\n",
      "64/64 [==============================] - 159s 2s/step - loss: 0.5961 - accuracy: 0.6794 - val_loss: 0.7189 - val_accuracy: 0.5516\n",
      "Epoch 8/10\n",
      "64/64 [==============================] - 161s 3s/step - loss: 0.5775 - accuracy: 0.6925 - val_loss: 0.7138 - val_accuracy: 0.5349\n",
      "Epoch 9/10\n",
      "64/64 [==============================] - 159s 2s/step - loss: 0.5606 - accuracy: 0.7054 - val_loss: 0.7275 - val_accuracy: 0.5345\n",
      "Epoch 10/10\n",
      "64/64 [==============================] - 161s 3s/step - loss: 0.5466 - accuracy: 0.7162 - val_loss: 0.7615 - val_accuracy: 0.5405\n"
     ]
    }
   ],
   "source": [
    "model, results = experiment('./registry.json', specs, tokenizer, normalizer)"
   ]
  },
  {
   "cell_type": "code",
   "execution_count": 27,
   "metadata": {
    "ExecuteTime": {
     "end_time": "2020-12-01T20:01:45.655491Z",
     "start_time": "2020-12-01T20:01:45.650493Z"
    }
   },
   "outputs": [
    {
     "data": {
      "text/plain": [
       "{'data_path': '../ensambles baseline/data/tex_physics.csv',\n",
       " 'max_tokens': 10000,\n",
       " 'embedding_dimension': 64,\n",
       " 'body_layer_type': 'gru',\n",
       " 'body_sequence_length': 70,\n",
       " 'body_layers': [64],\n",
       " 'body_activation': 'tanh',\n",
       " 'body_reg': [0.01],\n",
       " 'title_layer_type': 'gru',\n",
       " 'title_sequence_length': 20,\n",
       " 'title_layers': [16],\n",
       " 'title_activation': 'tanh',\n",
       " 'title_reg': [0.01],\n",
       " 'dense_layers': [64],\n",
       " 'dense_activation': 'relu',\n",
       " 'dense_reg': [0.01],\n",
       " 'normalize_features': False,\n",
       " 'optimizer_type': 'adam',\n",
       " 'batch_size': 4096,\n",
       " 'epochs': 10,\n",
       " 'train_accuracy': 0.7161715626716614,\n",
       " 'val_accuracy': 0.5405111908912659}"
      ]
     },
     "execution_count": 27,
     "metadata": {},
     "output_type": "execute_result"
    }
   ],
   "source": [
    "results"
   ]
  },
  {
   "cell_type": "code",
   "execution_count": 28,
   "metadata": {
    "ExecuteTime": {
     "end_time": "2020-12-01T20:01:49.321647Z",
     "start_time": "2020-12-01T20:01:48.593649Z"
    }
   },
   "outputs": [
    {
     "data": {
      "text/plain": [
       "array([[0.10853703],\n",
       "       [0.51997995],\n",
       "       [0.63692415]], dtype=float32)"
      ]
     },
     "execution_count": 28,
     "metadata": {},
     "output_type": "execute_result"
    }
   ],
   "source": [
    "model.predict(val_data.iloc[:3])"
   ]
  },
  {
   "cell_type": "code",
   "execution_count": 22,
   "metadata": {
    "ExecuteTime": {
     "end_time": "2020-12-01T19:28:46.840428Z",
     "start_time": "2020-12-01T19:28:46.834427Z"
    }
   },
   "outputs": [
    {
     "data": {
      "text/plain": [
       "363092    0\n",
       "234864    0\n",
       "227402    1\n",
       "Name: y, dtype: int64"
      ]
     },
     "execution_count": 22,
     "metadata": {},
     "output_type": "execute_result"
    }
   ],
   "source": [
    "val_data.iloc[:3, -1]"
   ]
  },
  {
   "cell_type": "code",
   "execution_count": 29,
   "metadata": {
    "ExecuteTime": {
     "end_time": "2020-12-01T20:01:54.480361Z",
     "start_time": "2020-12-01T20:01:54.386363Z"
    }
   },
   "outputs": [
    {
     "data": {
      "text/plain": [
       "<matplotlib.legend.Legend at 0x19b4fa53e08>"
      ]
     },
     "execution_count": 29,
     "metadata": {},
     "output_type": "execute_result"
    },
    {
     "data": {
      "image/png": "[encoded data removed]",
      "text/plain": [
       "<Figure size 432x288 with 1 Axes>"
      ]
     },
     "metadata": {
      "needs_background": "light"
     },
     "output_type": "display_data"
    }
   ],
   "source": [
    "plt.plot(model.history['loss'])\n",
    "plt.plot(model.history['val_loss'])\n",
    "plt.xlabel('epoch')\n",
    "plt.ylabel('loss')\n",
    "plt.legend(['training', 'validation'])"
   ]
  },
  {
   "cell_type": "code",
   "execution_count": 30,
   "metadata": {
    "ExecuteTime": {
     "end_time": "2020-12-01T20:01:57.441392Z",
     "start_time": "2020-12-01T20:01:57.353394Z"
    }
   },
   "outputs": [
    {
     "data": {
      "text/plain": [
       "<matplotlib.legend.Legend at 0x19b51b78cc8>"
      ]
     },
     "execution_count": 30,
     "metadata": {},
     "output_type": "execute_result"
    },
    {
     "data": {
      "image/png": "[encoded data removed]",
      "text/plain": [
       "<Figure size 432x288 with 1 Axes>"
      ]
     },
     "metadata": {
      "needs_background": "light"
     },
     "output_type": "display_data"
    }
   ],
   "source": [
    "plt.plot(model.history['accuracy'])\n",
    "plt.plot(model.history['val_accuracy'])\n",
    "plt.xlabel('epoch')\n",
    "plt.ylabel('accuracy')\n",
    "plt.legend(['training', 'validation'])"
   ]
  },
  {
   "cell_type": "code",
   "execution_count": null,
   "metadata": {},
   "outputs": [],
   "source": []
  }
 ],
 "metadata": {
  "kernelspec": {
   "display_name": "Python [conda env:tf]",
   "language": "python",
   "name": "conda-env-tf-py"
  },
  "language_info": {
   "codemirror_mode": {
    "name": "ipython",
    "version": 3
   },
   "file_extension": ".py",
   "mimetype": "text/x-python",
   "name": "python",
   "nbconvert_exporter": "python",
   "pygments_lexer": "ipython3",
   "version": "3.7.7"
  },
  "varInspector": {
   "cols": {
    "lenName": 16,
    "lenType": 16,
    "lenVar": 40
   },
   "kernels_config": {
    "python": {
     "delete_cmd_postfix": "",
     "delete_cmd_prefix": "del ",
     "library": "var_list.py",
     "varRefreshCmd": "print(var_dic_list())"
    },
    "r": {
     "delete_cmd_postfix": ") ",
     "delete_cmd_prefix": "rm(",
     "library": "var_list.r",
     "varRefreshCmd": "cat(var_dic_list()) "
    }
   },
   "types_to_exclude": [
    "module",
    "function",
    "builtin_function_or_method",
    "instance",
    "_Feature"
   ],
   "window_display": false
  }
 },
 "nbformat": 4,
 "nbformat_minor": 2
}
