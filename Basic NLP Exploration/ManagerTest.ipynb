{
 "cells": [
  {
   "cell_type": "code",
   "execution_count": 1,
   "metadata": {},
   "outputs": [
    {
     "name": "stdout",
     "output_type": "stream",
     "text": [
      "[INFO] Model loaded!\n",
      "[INFO] Tokenizer loaded!\n",
      "[INFO] Explainer loaded!\n"
     ]
    },
    {
     "name": "stderr",
     "output_type": "stream",
     "text": [
      "/home/davidstiles/anaconda3/lib/python3.8/site-packages/sklearn/base.py:329: UserWarning: Trying to unpickle estimator StandardScaler from version 0.22.1 when using version 0.23.2. This might lead to breaking code or invalid results. Use at your own risk.\n",
      "  warnings.warn(\n"
     ]
    }
   ],
   "source": [
    "import sys\n",
    "from pprint import pprint\n",
    "\n",
    "from ml_models.lime_dl_manager import LIME3InputsMgr\n",
    "from lime.lime_tabular import LimeTabularExplainer\n",
    "\n",
    "manager = LIME3InputsMgr(\"/home/davidstiles/PycharmProjects/team2_textassistant/models-temp/2020-12-01/model_01\")"
   ]
  },
  {
   "cell_type": "code",
   "execution_count": 2,
   "metadata": {},
   "outputs": [
    {
     "name": "stdout",
     "output_type": "stream",
     "text": [
      "PRED:  [[0.2838105]]\n",
      "PREDICTION: Probability=0.2838 Good=False\n",
      "LIME Explanation:\n",
      "[('title_question_marks <= 0.00', -0.06428099851937663),\n",
      " ('word_count <= 53.00', -0.048663582781404806),\n",
      " ('title_word_count <= 7.00', -0.03215097632831661),\n",
      " ('example_count <= 0.00', -0.025462440474610774),\n",
      " ('num_question_marks <= 1.00', -0.024596014566014568),\n",
      " ('n_linebreaks <= 2.00', -0.017326863134037588),\n",
      " ('n_lists <= 0.00', -0.01511600533506019),\n",
      " ('wh_word_count <= 1.00', -0.011323864133107622),\n",
      " ('n_links <= 0.00', 0.006938960403802307),\n",
      " ('sentence_count <= 3.00', -0.006009026260765773)]\n"
     ]
    }
   ],
   "source": [
    "title = \"Question about cookies\"\n",
    "body = \"I would like to know what the best kind of cookie is. I like chocolate chips but people seem to prefer oatmeal. Could anyone help me out?\"\n",
    "\n",
    "pred, exp = manager.make_prediction(title, body)\n",
    "print(\"PREDICTION: Probability=%0.4f Good=%s\" % (pred.squeeze(), pred.squeeze() > 0.5))\n",
    "print(\"LIME Explanation:\")\n",
    "pprint(exp)"
   ]
  },
  {
   "cell_type": "code",
   "execution_count": null,
   "metadata": {},
   "outputs": [],
   "source": []
  }
 ],
 "metadata": {
  "kernelspec": {
   "display_name": "Python 3",
   "language": "python",
   "name": "python3"
  },
  "language_info": {
   "codemirror_mode": {
    "name": "ipython",
    "version": 3
   },
   "file_extension": ".py",
   "mimetype": "text/x-python",
   "name": "python",
   "nbconvert_exporter": "python",
   "pygments_lexer": "ipython3",
   "version": "3.8.5"
  }
 },
 "nbformat": 4,
 "nbformat_minor": 4
}
