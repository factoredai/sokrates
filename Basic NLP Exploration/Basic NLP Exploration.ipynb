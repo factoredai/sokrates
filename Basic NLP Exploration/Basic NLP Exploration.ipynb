{
 "cells": [
  {
   "cell_type": "code",
   "execution_count": 1,
   "metadata": {
    "ExecuteTime": {
     "end_time": "2020-11-25T07:17:18.338697Z",
     "start_time": "2020-11-25T07:17:18.334698Z"
    }
   },
   "outputs": [],
   "source": [
    "import sys\n",
    "sys.path.insert(1, '../')"
   ]
  },
  {
   "cell_type": "code",
   "execution_count": 2,
   "metadata": {
    "ExecuteTime": {
     "end_time": "2020-11-25T07:17:20.514696Z",
     "start_time": "2020-11-25T07:17:18.340697Z"
    }
   },
   "outputs": [],
   "source": [
    "import pandas as pd\n",
    "from sklearn.model_selection import train_test_split\n",
    "from tensorflow import keras\n",
    "\n",
    "from basic_nlp_model import Model, experiment"
   ]
  },
  {
   "cell_type": "code",
   "execution_count": 3,
   "metadata": {
    "ExecuteTime": {
     "end_time": "2020-11-25T07:17:24.659697Z",
     "start_time": "2020-11-25T07:17:20.515697Z"
    }
   },
   "outputs": [],
   "source": [
    "df = pd.read_csv('../ensambles baseline/data/tex_physics.csv')"
   ]
  },
  {
   "cell_type": "code",
   "execution_count": 4,
   "metadata": {
    "ExecuteTime": {
     "end_time": "2020-11-25T07:17:24.673697Z",
     "start_time": "2020-11-25T07:17:24.662697Z"
    }
   },
   "outputs": [],
   "source": [
    "def class_decider(row):\n",
    "    if row['score'] < 2.:\n",
    "        return 0\n",
    "    elif row['score'] > 2.:\n",
    "        return 1\n",
    "    else:\n",
    "        if row['n_answers'] < 1.:\n",
    "            return 0\n",
    "        else:\n",
    "            return 1"
   ]
  },
  {
   "cell_type": "code",
   "execution_count": 5,
   "metadata": {
    "ExecuteTime": {
     "end_time": "2020-11-25T07:17:28.845697Z",
     "start_time": "2020-11-25T07:17:24.678698Z"
    }
   },
   "outputs": [],
   "source": [
    "df.loc[:, 'y'] = df.apply(class_decider, axis=1)"
   ]
  },
  {
   "cell_type": "code",
   "execution_count": 6,
   "metadata": {
    "ExecuteTime": {
     "end_time": "2020-11-25T07:17:28.860698Z",
     "start_time": "2020-11-25T07:17:28.846696Z"
    }
   },
   "outputs": [
    {
     "data": {
      "text/plain": [
       "0    186511\n",
       "1    184785\n",
       "Name: y, dtype: int64"
      ]
     },
     "execution_count": 6,
     "metadata": {},
     "output_type": "execute_result"
    }
   ],
   "source": [
    "df['y'].value_counts()"
   ]
  },
  {
   "cell_type": "code",
   "execution_count": 7,
   "metadata": {
    "ExecuteTime": {
     "end_time": "2020-11-25T07:17:28.933697Z",
     "start_time": "2020-11-25T07:17:28.862696Z"
    }
   },
   "outputs": [],
   "source": [
    "data = df[['title', 'n_lists', 'n_links', 'n_tags',\n",
    "       'num_question_marks', 'wh_word_count', 'sentence_count', 'word_count',\n",
    "       'example_count', 'n_linebreaks', 'title_word_count',\n",
    "       'title_question_marks', 'y']]"
   ]
  },
  {
   "cell_type": "code",
   "execution_count": 8,
   "metadata": {
    "ExecuteTime": {
     "end_time": "2020-11-25T07:17:29.155697Z",
     "start_time": "2020-11-25T07:17:28.935696Z"
    }
   },
   "outputs": [],
   "source": [
    "train_data, val_data = train_test_split(data, test_size=0.3, stratify=data['y'], random_state=42)"
   ]
  },
  {
   "cell_type": "code",
   "execution_count": 9,
   "metadata": {
    "ExecuteTime": {
     "end_time": "2020-11-25T07:17:29.170699Z",
     "start_time": "2020-11-25T07:17:29.156696Z"
    }
   },
   "outputs": [
    {
     "data": {
      "text/html": [
       "<div>\n",
       "<style scoped>\n",
       "    .dataframe tbody tr th:only-of-type {\n",
       "        vertical-align: middle;\n",
       "    }\n",
       "\n",
       "    .dataframe tbody tr th {\n",
       "        vertical-align: top;\n",
       "    }\n",
       "\n",
       "    .dataframe thead th {\n",
       "        text-align: right;\n",
       "    }\n",
       "</style>\n",
       "<table border=\"1\" class=\"dataframe\">\n",
       "  <thead>\n",
       "    <tr style=\"text-align: right;\">\n",
       "      <th></th>\n",
       "      <th>title</th>\n",
       "      <th>n_lists</th>\n",
       "      <th>n_links</th>\n",
       "      <th>n_tags</th>\n",
       "      <th>num_question_marks</th>\n",
       "      <th>wh_word_count</th>\n",
       "      <th>sentence_count</th>\n",
       "      <th>word_count</th>\n",
       "      <th>example_count</th>\n",
       "      <th>n_linebreaks</th>\n",
       "      <th>title_word_count</th>\n",
       "      <th>title_question_marks</th>\n",
       "      <th>y</th>\n",
       "    </tr>\n",
       "  </thead>\n",
       "  <tbody>\n",
       "    <tr>\n",
       "      <th>292249</th>\n",
       "      <td>How do I install pgfpages package?</td>\n",
       "      <td>0</td>\n",
       "      <td>0</td>\n",
       "      <td>3</td>\n",
       "      <td>2</td>\n",
       "      <td>0</td>\n",
       "      <td>3</td>\n",
       "      <td>27</td>\n",
       "      <td>0</td>\n",
       "      <td>1</td>\n",
       "      <td>6</td>\n",
       "      <td>1</td>\n",
       "      <td>0</td>\n",
       "    </tr>\n",
       "    <tr>\n",
       "      <th>178165</th>\n",
       "      <td>AUCTeX can't find PDFLaTeX</td>\n",
       "      <td>0</td>\n",
       "      <td>0</td>\n",
       "      <td>2</td>\n",
       "      <td>1</td>\n",
       "      <td>3</td>\n",
       "      <td>6</td>\n",
       "      <td>90</td>\n",
       "      <td>0</td>\n",
       "      <td>7</td>\n",
       "      <td>5</td>\n",
       "      <td>0</td>\n",
       "      <td>1</td>\n",
       "    </tr>\n",
       "    <tr>\n",
       "      <th>223579</th>\n",
       "      <td>Loading microtype before or after the font</td>\n",
       "      <td>0</td>\n",
       "      <td>4</td>\n",
       "      <td>1</td>\n",
       "      <td>1</td>\n",
       "      <td>3</td>\n",
       "      <td>5</td>\n",
       "      <td>174</td>\n",
       "      <td>0</td>\n",
       "      <td>20</td>\n",
       "      <td>7</td>\n",
       "      <td>0</td>\n",
       "      <td>1</td>\n",
       "    </tr>\n",
       "    <tr>\n",
       "      <th>266094</th>\n",
       "      <td>Render stl files in asymptote</td>\n",
       "      <td>0</td>\n",
       "      <td>5</td>\n",
       "      <td>2</td>\n",
       "      <td>0</td>\n",
       "      <td>1</td>\n",
       "      <td>5</td>\n",
       "      <td>80</td>\n",
       "      <td>0</td>\n",
       "      <td>4</td>\n",
       "      <td>5</td>\n",
       "      <td>0</td>\n",
       "      <td>1</td>\n",
       "    </tr>\n",
       "    <tr>\n",
       "      <th>44330</th>\n",
       "      <td>How bright is a 150 W incandescent light bulb?</td>\n",
       "      <td>0</td>\n",
       "      <td>0</td>\n",
       "      <td>1</td>\n",
       "      <td>1</td>\n",
       "      <td>2</td>\n",
       "      <td>6</td>\n",
       "      <td>86</td>\n",
       "      <td>0</td>\n",
       "      <td>3</td>\n",
       "      <td>8</td>\n",
       "      <td>1</td>\n",
       "      <td>1</td>\n",
       "    </tr>\n",
       "    <tr>\n",
       "      <th>...</th>\n",
       "      <td>...</td>\n",
       "      <td>...</td>\n",
       "      <td>...</td>\n",
       "      <td>...</td>\n",
       "      <td>...</td>\n",
       "      <td>...</td>\n",
       "      <td>...</td>\n",
       "      <td>...</td>\n",
       "      <td>...</td>\n",
       "      <td>...</td>\n",
       "      <td>...</td>\n",
       "      <td>...</td>\n",
       "      <td>...</td>\n",
       "    </tr>\n",
       "    <tr>\n",
       "      <th>344381</th>\n",
       "      <td>\\usepackage{tikz} causing \"extra }\" and \"missi...</td>\n",
       "      <td>0</td>\n",
       "      <td>0</td>\n",
       "      <td>3</td>\n",
       "      <td>0</td>\n",
       "      <td>4</td>\n",
       "      <td>30</td>\n",
       "      <td>453</td>\n",
       "      <td>0</td>\n",
       "      <td>128</td>\n",
       "      <td>7</td>\n",
       "      <td>0</td>\n",
       "      <td>0</td>\n",
       "    </tr>\n",
       "    <tr>\n",
       "      <th>341925</th>\n",
       "      <td>Indenting all lines in a theorem environment</td>\n",
       "      <td>0</td>\n",
       "      <td>2</td>\n",
       "      <td>1</td>\n",
       "      <td>2</td>\n",
       "      <td>1</td>\n",
       "      <td>5</td>\n",
       "      <td>108</td>\n",
       "      <td>0</td>\n",
       "      <td>34</td>\n",
       "      <td>7</td>\n",
       "      <td>0</td>\n",
       "      <td>0</td>\n",
       "    </tr>\n",
       "    <tr>\n",
       "      <th>71506</th>\n",
       "      <td>Why is the standard deviation the error on the...</td>\n",
       "      <td>1</td>\n",
       "      <td>0</td>\n",
       "      <td>4</td>\n",
       "      <td>1</td>\n",
       "      <td>7</td>\n",
       "      <td>7</td>\n",
       "      <td>290</td>\n",
       "      <td>0</td>\n",
       "      <td>19</td>\n",
       "      <td>11</td>\n",
       "      <td>1</td>\n",
       "      <td>0</td>\n",
       "    </tr>\n",
       "    <tr>\n",
       "      <th>130699</th>\n",
       "      <td>When does magnetic force act as a centripetal ...</td>\n",
       "      <td>0</td>\n",
       "      <td>0</td>\n",
       "      <td>2</td>\n",
       "      <td>4</td>\n",
       "      <td>3</td>\n",
       "      <td>4</td>\n",
       "      <td>49</td>\n",
       "      <td>0</td>\n",
       "      <td>2</td>\n",
       "      <td>14</td>\n",
       "      <td>1</td>\n",
       "      <td>0</td>\n",
       "    </tr>\n",
       "    <tr>\n",
       "      <th>196470</th>\n",
       "      <td>Drawing a political spectrum</td>\n",
       "      <td>0</td>\n",
       "      <td>0</td>\n",
       "      <td>1</td>\n",
       "      <td>0</td>\n",
       "      <td>1</td>\n",
       "      <td>1</td>\n",
       "      <td>15</td>\n",
       "      <td>0</td>\n",
       "      <td>2</td>\n",
       "      <td>4</td>\n",
       "      <td>0</td>\n",
       "      <td>1</td>\n",
       "    </tr>\n",
       "  </tbody>\n",
       "</table>\n",
       "<p>259907 rows × 13 columns</p>\n",
       "</div>"
      ],
      "text/plain": [
       "                                                    title  n_lists  n_links  \\\n",
       "292249                 How do I install pgfpages package?        0        0   \n",
       "178165                         AUCTeX can't find PDFLaTeX        0        0   \n",
       "223579         Loading microtype before or after the font        0        4   \n",
       "266094                      Render stl files in asymptote        0        5   \n",
       "44330      How bright is a 150 W incandescent light bulb?        0        0   \n",
       "...                                                   ...      ...      ...   \n",
       "344381  \\usepackage{tikz} causing \"extra }\" and \"missi...        0        0   \n",
       "341925       Indenting all lines in a theorem environment        0        2   \n",
       "71506   Why is the standard deviation the error on the...        1        0   \n",
       "130699  When does magnetic force act as a centripetal ...        0        0   \n",
       "196470                       Drawing a political spectrum        0        0   \n",
       "\n",
       "        n_tags  num_question_marks  wh_word_count  sentence_count  word_count  \\\n",
       "292249       3                   2              0               3          27   \n",
       "178165       2                   1              3               6          90   \n",
       "223579       1                   1              3               5         174   \n",
       "266094       2                   0              1               5          80   \n",
       "44330        1                   1              2               6          86   \n",
       "...        ...                 ...            ...             ...         ...   \n",
       "344381       3                   0              4              30         453   \n",
       "341925       1                   2              1               5         108   \n",
       "71506        4                   1              7               7         290   \n",
       "130699       2                   4              3               4          49   \n",
       "196470       1                   0              1               1          15   \n",
       "\n",
       "        example_count  n_linebreaks  title_word_count  title_question_marks  y  \n",
       "292249              0             1                 6                     1  0  \n",
       "178165              0             7                 5                     0  1  \n",
       "223579              0            20                 7                     0  1  \n",
       "266094              0             4                 5                     0  1  \n",
       "44330               0             3                 8                     1  1  \n",
       "...               ...           ...               ...                   ... ..  \n",
       "344381              0           128                 7                     0  0  \n",
       "341925              0            34                 7                     0  0  \n",
       "71506               0            19                11                     1  0  \n",
       "130699              0             2                14                     1  0  \n",
       "196470              0             2                 4                     0  1  \n",
       "\n",
       "[259907 rows x 13 columns]"
      ]
     },
     "execution_count": 9,
     "metadata": {},
     "output_type": "execute_result"
    }
   ],
   "source": [
    "train_data"
   ]
  },
  {
   "cell_type": "code",
   "execution_count": 10,
   "metadata": {
    "ExecuteTime": {
     "end_time": "2020-11-25T07:17:29.176697Z",
     "start_time": "2020-11-25T07:17:29.171701Z"
    }
   },
   "outputs": [],
   "source": [
    "specs = {\n",
    "    'data_path': '../ensambles baseline/data/tex_physics.csv',\n",
    "    'train_data': train_data,\n",
    "    'val_data': val_data,\n",
    "    'max_tokens': 10000,\n",
    "    'embedding_dimension': 300,\n",
    "    'lstm_layers': [64, 64, 64],\n",
    "    'lstm_activation': 'tanh',\n",
    "    'dense_layers': [128, 128, 128],\n",
    "    'dense_activation': 'elu',\n",
    "    'optimizer': \"keras.optimizers.Adam(0.001)\",\n",
    "    'batch_size': 128,\n",
    "    'epochs': 10\n",
    "}"
   ]
  },
  {
   "cell_type": "code",
   "execution_count": null,
   "metadata": {
    "ExecuteTime": {
     "start_time": "2020-11-25T07:17:18.342Z"
    }
   },
   "outputs": [
    {
     "name": "stdout",
     "output_type": "stream",
     "text": [
      "Epoch 1/10\n",
      "2031/2031 [==============================] - 214s 106ms/step - loss: 0.6855 - accuracy: 0.5746 - val_loss: 0.6591 - val_accuracy: 0.6252\n",
      "Epoch 2/10\n",
      "2031/2031 [==============================] - 216s 106ms/step - loss: 0.6346 - accuracy: 0.6104 - val_loss: 0.6589 - val_accuracy: 0.6221\n",
      "Epoch 3/10\n",
      "2031/2031 [==============================] - 215s 106ms/step - loss: 0.6161 - accuracy: 0.6316 - val_loss: 0.6560 - val_accuracy: 0.6064\n",
      "Epoch 4/10\n",
      "2031/2031 [==============================] - 216s 106ms/step - loss: 0.5960 - accuracy: 0.6525 - val_loss: 0.6699 - val_accuracy: 0.5984\n",
      "Epoch 5/10\n",
      "2031/2031 [==============================] - 214s 106ms/step - loss: 0.5716 - accuracy: 0.6764 - val_loss: 0.6839 - val_accuracy: 0.6027\n",
      "Epoch 6/10\n",
      " 289/2031 [===>..........................] - ETA: 2:44 - loss: 0.5230 - accuracy: 0.7179"
     ]
    }
   ],
   "source": [
    "model, results = experiment('./registry.json', specs)"
   ]
  },
  {
   "cell_type": "code",
   "execution_count": null,
   "metadata": {},
   "outputs": [],
   "source": []
  }
 ],
 "metadata": {
  "kernelspec": {
   "display_name": "Python [conda env:tf]",
   "language": "python",
   "name": "conda-env-tf-py"
  },
  "language_info": {
   "codemirror_mode": {
    "name": "ipython",
    "version": 3
   },
   "file_extension": ".py",
   "mimetype": "text/x-python",
   "name": "python",
   "nbconvert_exporter": "python",
   "pygments_lexer": "ipython3",
   "version": "3.7.7"
  },
  "varInspector": {
   "cols": {
    "lenName": 16,
    "lenType": 16,
    "lenVar": 40
   },
   "kernels_config": {
    "python": {
     "delete_cmd_postfix": "",
     "delete_cmd_prefix": "del ",
     "library": "var_list.py",
     "varRefreshCmd": "print(var_dic_list())"
    },
    "r": {
     "delete_cmd_postfix": ") ",
     "delete_cmd_prefix": "rm(",
     "library": "var_list.r",
     "varRefreshCmd": "cat(var_dic_list()) "
    }
   },
   "types_to_exclude": [
    "module",
    "function",
    "builtin_function_or_method",
    "instance",
    "_Feature"
   ],
   "window_display": false
  }
 },
 "nbformat": 4,
 "nbformat_minor": 2
}
