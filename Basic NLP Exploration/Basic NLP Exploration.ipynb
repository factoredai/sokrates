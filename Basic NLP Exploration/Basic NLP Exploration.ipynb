{
 "cells": [
  {
   "cell_type": "code",
   "execution_count": 1,
   "metadata": {
    "ExecuteTime": {
     "end_time": "2020-11-25T18:25:07.921587Z",
     "start_time": "2020-11-25T18:25:07.918587Z"
    }
   },
   "outputs": [],
   "source": [
    "import sys\n",
    "sys.path.insert(1, '../')"
   ]
  },
  {
   "cell_type": "code",
   "execution_count": 2,
   "metadata": {
    "ExecuteTime": {
     "end_time": "2020-11-25T18:25:10.032611Z",
     "start_time": "2020-11-25T18:25:07.922588Z"
    }
   },
   "outputs": [],
   "source": [
    "import pandas as pd\n",
    "from sklearn.model_selection import train_test_split\n",
    "from matplotlib import pyplot as plt\n",
    "from tensorflow import keras\n",
    "\n",
    "from basic_nlp_model import Model, experiment"
   ]
  },
  {
   "cell_type": "code",
   "execution_count": 3,
   "metadata": {
    "ExecuteTime": {
     "end_time": "2020-11-25T18:25:13.680458Z",
     "start_time": "2020-11-25T18:25:10.033611Z"
    }
   },
   "outputs": [],
   "source": [
    "df = pd.read_csv('../ensambles baseline/data/tex_physics.csv')"
   ]
  },
  {
   "cell_type": "code",
   "execution_count": 4,
   "metadata": {
    "ExecuteTime": {
     "end_time": "2020-11-25T18:25:13.685461Z",
     "start_time": "2020-11-25T18:25:13.681458Z"
    }
   },
   "outputs": [],
   "source": [
    "def class_decider(row):\n",
    "    if row['score'] < 2.:\n",
    "        return 0\n",
    "    elif row['score'] > 2.:\n",
    "        return 1\n",
    "    else:\n",
    "        if row['n_answers'] < 1.:\n",
    "            return 0\n",
    "        else:\n",
    "            return 1"
   ]
  },
  {
   "cell_type": "code",
   "execution_count": 5,
   "metadata": {
    "ExecuteTime": {
     "end_time": "2020-11-25T18:25:16.272599Z",
     "start_time": "2020-11-25T18:25:13.686460Z"
    }
   },
   "outputs": [],
   "source": [
    "df.loc[:, 'y'] = df.apply(class_decider, axis=1)"
   ]
  },
  {
   "cell_type": "code",
   "execution_count": 6,
   "metadata": {
    "ExecuteTime": {
     "end_time": "2020-11-25T18:25:16.281599Z",
     "start_time": "2020-11-25T18:25:16.273598Z"
    }
   },
   "outputs": [
    {
     "data": {
      "text/plain": [
       "0    186511\n",
       "1    184785\n",
       "Name: y, dtype: int64"
      ]
     },
     "execution_count": 6,
     "metadata": {},
     "output_type": "execute_result"
    }
   ],
   "source": [
    "df['y'].value_counts()"
   ]
  },
  {
   "cell_type": "code",
   "execution_count": 7,
   "metadata": {
    "ExecuteTime": {
     "end_time": "2020-11-25T18:25:16.345597Z",
     "start_time": "2020-11-25T18:25:16.282599Z"
    }
   },
   "outputs": [],
   "source": [
    "data = df[['title', 'n_lists', 'n_links', 'n_tags',\n",
    "       'num_question_marks', 'wh_word_count', 'sentence_count', 'word_count',\n",
    "       'example_count', 'n_linebreaks', 'title_word_count',\n",
    "       'title_question_marks', 'y']]"
   ]
  },
  {
   "cell_type": "code",
   "execution_count": 8,
   "metadata": {
    "ExecuteTime": {
     "end_time": "2020-11-25T18:25:16.513597Z",
     "start_time": "2020-11-25T18:25:16.347600Z"
    }
   },
   "outputs": [],
   "source": [
    "train_data, val_data = train_test_split(data, test_size=0.3, stratify=data['y'], random_state=42)"
   ]
  },
  {
   "cell_type": "code",
   "execution_count": 9,
   "metadata": {
    "ExecuteTime": {
     "end_time": "2020-11-25T18:25:16.526597Z",
     "start_time": "2020-11-25T18:25:16.514598Z"
    }
   },
   "outputs": [
    {
     "data": {
      "text/html": [
       "<div>\n",
       "<style scoped>\n",
       "    .dataframe tbody tr th:only-of-type {\n",
       "        vertical-align: middle;\n",
       "    }\n",
       "\n",
       "    .dataframe tbody tr th {\n",
       "        vertical-align: top;\n",
       "    }\n",
       "\n",
       "    .dataframe thead th {\n",
       "        text-align: right;\n",
       "    }\n",
       "</style>\n",
       "<table border=\"1\" class=\"dataframe\">\n",
       "  <thead>\n",
       "    <tr style=\"text-align: right;\">\n",
       "      <th></th>\n",
       "      <th>title</th>\n",
       "      <th>n_lists</th>\n",
       "      <th>n_links</th>\n",
       "      <th>n_tags</th>\n",
       "      <th>num_question_marks</th>\n",
       "      <th>wh_word_count</th>\n",
       "      <th>sentence_count</th>\n",
       "      <th>word_count</th>\n",
       "      <th>example_count</th>\n",
       "      <th>n_linebreaks</th>\n",
       "      <th>title_word_count</th>\n",
       "      <th>title_question_marks</th>\n",
       "      <th>y</th>\n",
       "    </tr>\n",
       "  </thead>\n",
       "  <tbody>\n",
       "    <tr>\n",
       "      <th>292249</th>\n",
       "      <td>How do I install pgfpages package?</td>\n",
       "      <td>0</td>\n",
       "      <td>0</td>\n",
       "      <td>3</td>\n",
       "      <td>2</td>\n",
       "      <td>0</td>\n",
       "      <td>3</td>\n",
       "      <td>27</td>\n",
       "      <td>0</td>\n",
       "      <td>1</td>\n",
       "      <td>6</td>\n",
       "      <td>1</td>\n",
       "      <td>0</td>\n",
       "    </tr>\n",
       "    <tr>\n",
       "      <th>178165</th>\n",
       "      <td>AUCTeX can't find PDFLaTeX</td>\n",
       "      <td>0</td>\n",
       "      <td>0</td>\n",
       "      <td>2</td>\n",
       "      <td>1</td>\n",
       "      <td>3</td>\n",
       "      <td>6</td>\n",
       "      <td>90</td>\n",
       "      <td>0</td>\n",
       "      <td>7</td>\n",
       "      <td>5</td>\n",
       "      <td>0</td>\n",
       "      <td>1</td>\n",
       "    </tr>\n",
       "    <tr>\n",
       "      <th>223579</th>\n",
       "      <td>Loading microtype before or after the font</td>\n",
       "      <td>0</td>\n",
       "      <td>4</td>\n",
       "      <td>1</td>\n",
       "      <td>1</td>\n",
       "      <td>3</td>\n",
       "      <td>5</td>\n",
       "      <td>174</td>\n",
       "      <td>0</td>\n",
       "      <td>20</td>\n",
       "      <td>7</td>\n",
       "      <td>0</td>\n",
       "      <td>1</td>\n",
       "    </tr>\n",
       "    <tr>\n",
       "      <th>266094</th>\n",
       "      <td>Render stl files in asymptote</td>\n",
       "      <td>0</td>\n",
       "      <td>5</td>\n",
       "      <td>2</td>\n",
       "      <td>0</td>\n",
       "      <td>1</td>\n",
       "      <td>5</td>\n",
       "      <td>80</td>\n",
       "      <td>0</td>\n",
       "      <td>4</td>\n",
       "      <td>5</td>\n",
       "      <td>0</td>\n",
       "      <td>1</td>\n",
       "    </tr>\n",
       "    <tr>\n",
       "      <th>44330</th>\n",
       "      <td>How bright is a 150 W incandescent light bulb?</td>\n",
       "      <td>0</td>\n",
       "      <td>0</td>\n",
       "      <td>1</td>\n",
       "      <td>1</td>\n",
       "      <td>2</td>\n",
       "      <td>6</td>\n",
       "      <td>86</td>\n",
       "      <td>0</td>\n",
       "      <td>3</td>\n",
       "      <td>8</td>\n",
       "      <td>1</td>\n",
       "      <td>1</td>\n",
       "    </tr>\n",
       "    <tr>\n",
       "      <th>...</th>\n",
       "      <td>...</td>\n",
       "      <td>...</td>\n",
       "      <td>...</td>\n",
       "      <td>...</td>\n",
       "      <td>...</td>\n",
       "      <td>...</td>\n",
       "      <td>...</td>\n",
       "      <td>...</td>\n",
       "      <td>...</td>\n",
       "      <td>...</td>\n",
       "      <td>...</td>\n",
       "      <td>...</td>\n",
       "      <td>...</td>\n",
       "    </tr>\n",
       "    <tr>\n",
       "      <th>344381</th>\n",
       "      <td>\\usepackage{tikz} causing \"extra }\" and \"missi...</td>\n",
       "      <td>0</td>\n",
       "      <td>0</td>\n",
       "      <td>3</td>\n",
       "      <td>0</td>\n",
       "      <td>4</td>\n",
       "      <td>30</td>\n",
       "      <td>453</td>\n",
       "      <td>0</td>\n",
       "      <td>128</td>\n",
       "      <td>7</td>\n",
       "      <td>0</td>\n",
       "      <td>0</td>\n",
       "    </tr>\n",
       "    <tr>\n",
       "      <th>341925</th>\n",
       "      <td>Indenting all lines in a theorem environment</td>\n",
       "      <td>0</td>\n",
       "      <td>2</td>\n",
       "      <td>1</td>\n",
       "      <td>2</td>\n",
       "      <td>1</td>\n",
       "      <td>5</td>\n",
       "      <td>108</td>\n",
       "      <td>0</td>\n",
       "      <td>34</td>\n",
       "      <td>7</td>\n",
       "      <td>0</td>\n",
       "      <td>0</td>\n",
       "    </tr>\n",
       "    <tr>\n",
       "      <th>71506</th>\n",
       "      <td>Why is the standard deviation the error on the...</td>\n",
       "      <td>1</td>\n",
       "      <td>0</td>\n",
       "      <td>4</td>\n",
       "      <td>1</td>\n",
       "      <td>7</td>\n",
       "      <td>7</td>\n",
       "      <td>290</td>\n",
       "      <td>0</td>\n",
       "      <td>19</td>\n",
       "      <td>11</td>\n",
       "      <td>1</td>\n",
       "      <td>0</td>\n",
       "    </tr>\n",
       "    <tr>\n",
       "      <th>130699</th>\n",
       "      <td>When does magnetic force act as a centripetal ...</td>\n",
       "      <td>0</td>\n",
       "      <td>0</td>\n",
       "      <td>2</td>\n",
       "      <td>4</td>\n",
       "      <td>3</td>\n",
       "      <td>4</td>\n",
       "      <td>49</td>\n",
       "      <td>0</td>\n",
       "      <td>2</td>\n",
       "      <td>14</td>\n",
       "      <td>1</td>\n",
       "      <td>0</td>\n",
       "    </tr>\n",
       "    <tr>\n",
       "      <th>196470</th>\n",
       "      <td>Drawing a political spectrum</td>\n",
       "      <td>0</td>\n",
       "      <td>0</td>\n",
       "      <td>1</td>\n",
       "      <td>0</td>\n",
       "      <td>1</td>\n",
       "      <td>1</td>\n",
       "      <td>15</td>\n",
       "      <td>0</td>\n",
       "      <td>2</td>\n",
       "      <td>4</td>\n",
       "      <td>0</td>\n",
       "      <td>1</td>\n",
       "    </tr>\n",
       "  </tbody>\n",
       "</table>\n",
       "<p>259907 rows × 13 columns</p>\n",
       "</div>"
      ],
      "text/plain": [
       "                                                    title  n_lists  n_links  \\\n",
       "292249                 How do I install pgfpages package?        0        0   \n",
       "178165                         AUCTeX can't find PDFLaTeX        0        0   \n",
       "223579         Loading microtype before or after the font        0        4   \n",
       "266094                      Render stl files in asymptote        0        5   \n",
       "44330      How bright is a 150 W incandescent light bulb?        0        0   \n",
       "...                                                   ...      ...      ...   \n",
       "344381  \\usepackage{tikz} causing \"extra }\" and \"missi...        0        0   \n",
       "341925       Indenting all lines in a theorem environment        0        2   \n",
       "71506   Why is the standard deviation the error on the...        1        0   \n",
       "130699  When does magnetic force act as a centripetal ...        0        0   \n",
       "196470                       Drawing a political spectrum        0        0   \n",
       "\n",
       "        n_tags  num_question_marks  wh_word_count  sentence_count  word_count  \\\n",
       "292249       3                   2              0               3          27   \n",
       "178165       2                   1              3               6          90   \n",
       "223579       1                   1              3               5         174   \n",
       "266094       2                   0              1               5          80   \n",
       "44330        1                   1              2               6          86   \n",
       "...        ...                 ...            ...             ...         ...   \n",
       "344381       3                   0              4              30         453   \n",
       "341925       1                   2              1               5         108   \n",
       "71506        4                   1              7               7         290   \n",
       "130699       2                   4              3               4          49   \n",
       "196470       1                   0              1               1          15   \n",
       "\n",
       "        example_count  n_linebreaks  title_word_count  title_question_marks  y  \n",
       "292249              0             1                 6                     1  0  \n",
       "178165              0             7                 5                     0  1  \n",
       "223579              0            20                 7                     0  1  \n",
       "266094              0             4                 5                     0  1  \n",
       "44330               0             3                 8                     1  1  \n",
       "...               ...           ...               ...                   ... ..  \n",
       "344381              0           128                 7                     0  0  \n",
       "341925              0            34                 7                     0  0  \n",
       "71506               0            19                11                     1  0  \n",
       "130699              0             2                14                     1  0  \n",
       "196470              0             2                 4                     0  1  \n",
       "\n",
       "[259907 rows x 13 columns]"
      ]
     },
     "execution_count": 9,
     "metadata": {},
     "output_type": "execute_result"
    }
   ],
   "source": [
    "train_data"
   ]
  },
  {
   "cell_type": "code",
   "execution_count": 10,
   "metadata": {
    "ExecuteTime": {
     "end_time": "2020-11-25T18:25:16.531597Z",
     "start_time": "2020-11-25T18:25:16.527598Z"
    }
   },
   "outputs": [],
   "source": [
    "specs = {\n",
    "    'data_path': '../ensambles baseline/data/tex_physics.csv',\n",
    "    'train_data': train_data,\n",
    "    'val_data': val_data,\n",
    "    'max_tokens': 10000,\n",
    "    'sequence_length': 20,\n",
    "    'embedding_dimension': 100,\n",
    "    'lstm_layers': [2, 4],\n",
    "    'lstm_activation': 'tanh',\n",
    "    'dense_layers': [16],\n",
    "    'dense_activation': 'elu',\n",
    "    'optimizer': \"keras.optimizers.Adam(0.005)\",\n",
    "    'batch_size': 2048,\n",
    "    'epochs': 10\n",
    "}"
   ]
  },
  {
   "cell_type": "code",
   "execution_count": 11,
   "metadata": {
    "ExecuteTime": {
     "end_time": "2020-11-25T18:27:27.809760Z",
     "start_time": "2020-11-25T18:25:16.532598Z"
    }
   },
   "outputs": [
    {
     "name": "stdout",
     "output_type": "stream",
     "text": [
      "Epoch 1/10\n",
      "127/127 [==============================] - 13s 102ms/step - loss: 0.9984 - accuracy: 0.5424 - val_loss: 0.6528 - val_accuracy: 0.6022\n",
      "Epoch 2/10\n",
      "127/127 [==============================] - 12s 91ms/step - loss: 0.6429 - accuracy: 0.6102 - val_loss: 0.6530 - val_accuracy: 0.5732\n",
      "Epoch 3/10\n",
      "127/127 [==============================] - 12s 91ms/step - loss: 0.6225 - accuracy: 0.6320 - val_loss: 0.6595 - val_accuracy: 0.6095\n",
      "Epoch 4/10\n",
      "127/127 [==============================] - 12s 92ms/step - loss: 0.6098 - accuracy: 0.6480 - val_loss: 0.6596 - val_accuracy: 0.6000\n",
      "Epoch 5/10\n",
      "127/127 [==============================] - 12s 92ms/step - loss: 0.6026 - accuracy: 0.6591 - val_loss: 0.6753 - val_accuracy: 0.6012\n",
      "Epoch 6/10\n",
      "127/127 [==============================] - 12s 93ms/step - loss: 0.5849 - accuracy: 0.6745 - val_loss: 0.6933 - val_accuracy: 0.5806\n",
      "Epoch 7/10\n",
      "127/127 [==============================] - 12s 97ms/step - loss: 0.5746 - accuracy: 0.6831 - val_loss: 0.6981 - val_accuracy: 0.5924\n",
      "Epoch 8/10\n",
      "127/127 [==============================] - 13s 99ms/step - loss: 0.5652 - accuracy: 0.6929 - val_loss: 0.7086 - val_accuracy: 0.5974\n",
      "Epoch 9/10\n",
      "127/127 [==============================] - 12s 95ms/step - loss: 0.5606 - accuracy: 0.6989 - val_loss: 0.7133 - val_accuracy: 0.5917\n",
      "Epoch 10/10\n",
      "127/127 [==============================] - 12s 96ms/step - loss: 0.5414 - accuracy: 0.7100 - val_loss: 0.7286 - val_accuracy: 0.5938\n",
      "\n",
      "Starting evaluation on validation set:\n",
      "1/1 [==============================] - 0s 2ms/step - loss: 0.7286 - accuracy: 0.5938\n"
     ]
    }
   ],
   "source": [
    "model, results = experiment('./registry.json', specs)"
   ]
  },
  {
   "cell_type": "code",
   "execution_count": 12,
   "metadata": {
    "ExecuteTime": {
     "end_time": "2020-11-25T18:27:27.815760Z",
     "start_time": "2020-11-25T18:27:27.810760Z"
    }
   },
   "outputs": [
    {
     "data": {
      "text/plain": [
       "{'data_path': '../ensambles baseline/data/tex_physics.csv',\n",
       " 'max_tokens': 10000,\n",
       " 'sequence_length': 20,\n",
       " 'embedding_dimension': 100,\n",
       " 'lstm_layers': [2, 4],\n",
       " 'lstm_activation': 'tanh',\n",
       " 'dense_layers': [16],\n",
       " 'dense_activation': 'elu',\n",
       " 'optimizer': 'keras.optimizers.Adam(0.005)',\n",
       " 'batch_size': 2048,\n",
       " 'epochs': 10,\n",
       " 'val_accuracy': 0.593783974647522}"
      ]
     },
     "execution_count": 12,
     "metadata": {},
     "output_type": "execute_result"
    }
   ],
   "source": [
    "results"
   ]
  },
  {
   "cell_type": "code",
   "execution_count": 13,
   "metadata": {
    "ExecuteTime": {
     "end_time": "2020-11-25T18:27:28.840761Z",
     "start_time": "2020-11-25T18:27:27.816760Z"
    }
   },
   "outputs": [
    {
     "data": {
      "text/plain": [
       "array([[0.55562973],\n",
       "       [0.60819477],\n",
       "       [0.634112  ]], dtype=float32)"
      ]
     },
     "execution_count": 13,
     "metadata": {},
     "output_type": "execute_result"
    }
   ],
   "source": [
    "model.predict([val_data.iloc[:3, 0].to_numpy(), val_data.iloc[:3, 1:-1].to_numpy()])"
   ]
  },
  {
   "cell_type": "code",
   "execution_count": 14,
   "metadata": {
    "ExecuteTime": {
     "end_time": "2020-11-25T18:27:28.846762Z",
     "start_time": "2020-11-25T18:27:28.842761Z"
    }
   },
   "outputs": [
    {
     "data": {
      "text/plain": [
       "363092    0\n",
       "234864    0\n",
       "227402    1\n",
       "Name: y, dtype: int64"
      ]
     },
     "execution_count": 14,
     "metadata": {},
     "output_type": "execute_result"
    }
   ],
   "source": [
    "val_data.iloc[:3, -1]"
   ]
  },
  {
   "cell_type": "code",
   "execution_count": 15,
   "metadata": {
    "ExecuteTime": {
     "end_time": "2020-11-25T18:27:28.950760Z",
     "start_time": "2020-11-25T18:27:28.848761Z"
    }
   },
   "outputs": [
    {
     "data": {
      "text/plain": [
       "<matplotlib.legend.Legend at 0x24ba6318208>"
      ]
     },
     "execution_count": 15,
     "metadata": {},
     "output_type": "execute_result"
    },
    {
     "data": {
      "image/png": "[encoded data removed]",
      "text/plain": [
       "<Figure size 432x288 with 1 Axes>"
      ]
     },
     "metadata": {
      "needs_background": "light"
     },
     "output_type": "display_data"
    }
   ],
   "source": [
    "plt.plot(model.history['loss'])\n",
    "plt.plot(model.history['val_loss'])\n",
    "plt.xlabel('epoch')\n",
    "plt.ylabel('loss')\n",
    "plt.legend(['training', 'validation'])"
   ]
  },
  {
   "cell_type": "code",
   "execution_count": 16,
   "metadata": {
    "ExecuteTime": {
     "end_time": "2020-11-25T18:27:29.046760Z",
     "start_time": "2020-11-25T18:27:28.952761Z"
    }
   },
   "outputs": [
    {
     "data": {
      "text/plain": [
       "<matplotlib.legend.Legend at 0x24b9fbd3c88>"
      ]
     },
     "execution_count": 16,
     "metadata": {},
     "output_type": "execute_result"
    },
    {
     "data": {
      "image/png": "[encoded data removed]",
      "text/plain": [
       "<Figure size 432x288 with 1 Axes>"
      ]
     },
     "metadata": {
      "needs_background": "light"
     },
     "output_type": "display_data"
    }
   ],
   "source": [
    "plt.plot(model.history['accuracy'])\n",
    "plt.plot(model.history['val_accuracy'])\n",
    "plt.xlabel('epoch')\n",
    "plt.ylabel('accuracy')\n",
    "plt.legend(['training', 'validation'])"
   ]
  },
  {
   "cell_type": "code",
   "execution_count": 26,
   "metadata": {
    "ExecuteTime": {
     "end_time": "2020-11-25T18:46:46.162418Z",
     "start_time": "2020-11-25T18:46:46.159415Z"
    }
   },
   "outputs": [],
   "source": [
    "tokenizer = model.tokenizer\n",
    "normalizer = model.normalizer"
   ]
  },
  {
   "cell_type": "code",
   "execution_count": 27,
   "metadata": {
    "ExecuteTime": {
     "end_time": "2020-11-25T18:46:46.171418Z",
     "start_time": "2020-11-25T18:46:46.164419Z"
    }
   },
   "outputs": [],
   "source": [
    "specs = {\n",
    "    'data_path': '../ensambles baseline/data/tex_physics.csv',\n",
    "    'train_data': train_data,\n",
    "    'val_data': val_data,\n",
    "    'max_tokens': 10000,\n",
    "    'sequence_length': 20,\n",
    "    'embedding_dimension': 100,\n",
    "    'lstm_layers': [2],\n",
    "    'lstm_activation': 'tanh',\n",
    "    'dense_layers': [8],\n",
    "    'dense_activation': 'elu',\n",
    "    'optimizer': \"keras.optimizers.Adam(0.005)\",\n",
    "    'batch_size': 20000,\n",
    "    'epochs': 20\n",
    "}"
   ]
  },
  {
   "cell_type": "code",
   "execution_count": 28,
   "metadata": {
    "ExecuteTime": {
     "end_time": "2020-11-25T18:50:09.255746Z",
     "start_time": "2020-11-25T18:46:46.172417Z"
    }
   },
   "outputs": [
    {
     "name": "stdout",
     "output_type": "stream",
     "text": [
      "Epoch 1/20\n",
      "13/13 [==============================] - 9s 724ms/step - loss: 3.0542 - accuracy: 0.4961 - val_loss: 2.0130 - val_accuracy: 0.4978\n",
      "Epoch 2/20\n",
      "13/13 [==============================] - 9s 690ms/step - loss: 1.2875 - accuracy: 0.4973 - val_loss: 1.0058 - val_accuracy: 0.5024\n",
      "Epoch 3/20\n",
      "13/13 [==============================] - 9s 687ms/step - loss: 0.8792 - accuracy: 0.5430 - val_loss: 0.7730 - val_accuracy: 0.5395\n",
      "Epoch 4/20\n",
      "13/13 [==============================] - 9s 716ms/step - loss: 0.7768 - accuracy: 0.5193 - val_loss: 0.7717 - val_accuracy: 0.5181\n",
      "Epoch 5/20\n",
      "13/13 [==============================] - 9s 708ms/step - loss: 0.7569 - accuracy: 0.5194 - val_loss: 0.7361 - val_accuracy: 0.5290\n",
      "Epoch 6/20\n",
      "13/13 [==============================] - 10s 734ms/step - loss: 0.7296 - accuracy: 0.5329 - val_loss: 0.7146 - val_accuracy: 0.5318\n",
      "Epoch 7/20\n",
      "13/13 [==============================] - 9s 728ms/step - loss: 0.7021 - accuracy: 0.5391 - val_loss: 0.6903 - val_accuracy: 0.5456\n",
      "Epoch 8/20\n",
      "13/13 [==============================] - 10s 745ms/step - loss: 0.6764 - accuracy: 0.5548 - val_loss: 0.6727 - val_accuracy: 0.5620\n",
      "Epoch 9/20\n",
      "13/13 [==============================] - 10s 750ms/step - loss: 0.6564 - accuracy: 0.5710 - val_loss: 0.6616 - val_accuracy: 0.5633\n",
      "Epoch 10/20\n",
      "13/13 [==============================] - 10s 747ms/step - loss: 0.6419 - accuracy: 0.5910 - val_loss: 0.6559 - val_accuracy: 0.5938\n",
      "Epoch 11/20\n",
      "13/13 [==============================] - 9s 725ms/step - loss: 0.6315 - accuracy: 0.6158 - val_loss: 0.6572 - val_accuracy: 0.6007\n",
      "Epoch 12/20\n",
      "13/13 [==============================] - 9s 725ms/step - loss: 0.6255 - accuracy: 0.6255 - val_loss: 0.6576 - val_accuracy: 0.5967\n",
      "Epoch 13/20\n",
      "13/13 [==============================] - 9s 692ms/step - loss: 0.6192 - accuracy: 0.6321 - val_loss: 0.6592 - val_accuracy: 0.5936\n",
      "Epoch 14/20\n",
      "13/13 [==============================] - 9s 688ms/step - loss: 0.6155 - accuracy: 0.6365 - val_loss: 0.6622 - val_accuracy: 0.5913\n",
      "Epoch 15/20\n",
      "13/13 [==============================] - 9s 688ms/step - loss: 0.6123 - accuracy: 0.6402 - val_loss: 0.6621 - val_accuracy: 0.5984\n",
      "Epoch 16/20\n",
      "13/13 [==============================] - 9s 697ms/step - loss: 0.6085 - accuracy: 0.6441 - val_loss: 0.6641 - val_accuracy: 0.5968\n",
      "Epoch 17/20\n",
      "13/13 [==============================] - 10s 757ms/step - loss: 0.6054 - accuracy: 0.6473 - val_loss: 0.6654 - val_accuracy: 0.5931\n",
      "Epoch 18/20\n",
      "13/13 [==============================] - 9s 726ms/step - loss: 0.6030 - accuracy: 0.6482 - val_loss: 0.6686 - val_accuracy: 0.5943\n",
      "Epoch 19/20\n",
      "13/13 [==============================] - 9s 686ms/step - loss: 0.5996 - accuracy: 0.6512 - val_loss: 0.6699 - val_accuracy: 0.5982\n",
      "Epoch 20/20\n",
      "13/13 [==============================] - 9s 700ms/step - loss: 0.5977 - accuracy: 0.6546 - val_loss: 0.6772 - val_accuracy: 0.5853\n",
      "\n",
      "Starting evaluation on validation set:\n",
      "1/1 [==============================] - 0s 999us/step - loss: 0.6772 - accuracy: 0.5853\n"
     ]
    }
   ],
   "source": [
    "model, results = experiment('./registry.json', specs, tokenizer, normalizer)"
   ]
  },
  {
   "cell_type": "code",
   "execution_count": 29,
   "metadata": {
    "ExecuteTime": {
     "end_time": "2020-11-25T18:50:09.260746Z",
     "start_time": "2020-11-25T18:50:09.257747Z"
    }
   },
   "outputs": [
    {
     "data": {
      "text/plain": [
       "{'data_path': '../ensambles baseline/data/tex_physics.csv',\n",
       " 'max_tokens': 10000,\n",
       " 'sequence_length': 20,\n",
       " 'embedding_dimension': 100,\n",
       " 'lstm_layers': [2],\n",
       " 'lstm_activation': 'tanh',\n",
       " 'dense_layers': [8],\n",
       " 'dense_activation': 'elu',\n",
       " 'optimizer': 'keras.optimizers.Adam(0.005)',\n",
       " 'batch_size': 20000,\n",
       " 'epochs': 20,\n",
       " 'val_accuracy': 0.5853181481361389}"
      ]
     },
     "execution_count": 29,
     "metadata": {},
     "output_type": "execute_result"
    }
   ],
   "source": [
    "results"
   ]
  },
  {
   "cell_type": "code",
   "execution_count": 30,
   "metadata": {
    "ExecuteTime": {
     "end_time": "2020-11-25T18:50:10.209746Z",
     "start_time": "2020-11-25T18:50:09.261745Z"
    }
   },
   "outputs": [
    {
     "data": {
      "text/plain": [
       "array([[0.44956693],\n",
       "       [0.6598243 ],\n",
       "       [0.46760836]], dtype=float32)"
      ]
     },
     "execution_count": 30,
     "metadata": {},
     "output_type": "execute_result"
    }
   ],
   "source": [
    "model.predict([val_data.iloc[:3, 0].to_numpy(), val_data.iloc[:3, 1:-1].to_numpy()])"
   ]
  },
  {
   "cell_type": "code",
   "execution_count": 31,
   "metadata": {
    "ExecuteTime": {
     "end_time": "2020-11-25T18:50:10.215747Z",
     "start_time": "2020-11-25T18:50:10.210745Z"
    }
   },
   "outputs": [
    {
     "data": {
      "text/plain": [
       "363092    0\n",
       "234864    0\n",
       "227402    1\n",
       "Name: y, dtype: int64"
      ]
     },
     "execution_count": 31,
     "metadata": {},
     "output_type": "execute_result"
    }
   ],
   "source": [
    "val_data.iloc[:3, -1]"
   ]
  },
  {
   "cell_type": "code",
   "execution_count": 32,
   "metadata": {
    "ExecuteTime": {
     "end_time": "2020-11-25T18:50:10.317746Z",
     "start_time": "2020-11-25T18:50:10.216749Z"
    }
   },
   "outputs": [
    {
     "data": {
      "text/plain": [
       "<matplotlib.legend.Legend at 0x24bc9cfd708>"
      ]
     },
     "execution_count": 32,
     "metadata": {},
     "output_type": "execute_result"
    },
    {
     "data": {
      "image/png": "[encoded data removed]",
      "text/plain": [
       "<Figure size 432x288 with 1 Axes>"
      ]
     },
     "metadata": {
      "needs_background": "light"
     },
     "output_type": "display_data"
    }
   ],
   "source": [
    "plt.plot(model.history['loss'])\n",
    "plt.plot(model.history['val_loss'])\n",
    "plt.xlabel('epoch')\n",
    "plt.ylabel('loss')\n",
    "plt.legend(['training', 'validation'])"
   ]
  },
  {
   "cell_type": "code",
   "execution_count": 33,
   "metadata": {
    "ExecuteTime": {
     "end_time": "2020-11-25T18:50:10.422745Z",
     "start_time": "2020-11-25T18:50:10.319747Z"
    }
   },
   "outputs": [
    {
     "data": {
      "text/plain": [
       "<matplotlib.legend.Legend at 0x24ba1235088>"
      ]
     },
     "execution_count": 33,
     "metadata": {},
     "output_type": "execute_result"
    },
    {
     "data": {
      "image/png": "[encoded data removed]",
      "text/plain": [
       "<Figure size 432x288 with 1 Axes>"
      ]
     },
     "metadata": {
      "needs_background": "light"
     },
     "output_type": "display_data"
    }
   ],
   "source": [
    "plt.plot(model.history['accuracy'])\n",
    "plt.plot(model.history['val_accuracy'])\n",
    "plt.xlabel('epoch')\n",
    "plt.ylabel('accuracy')\n",
    "plt.legend(['training', 'validation'])"
   ]
  },
  {
   "cell_type": "code",
   "execution_count": null,
   "metadata": {},
   "outputs": [],
   "source": []
  }
 ],
 "metadata": {
  "kernelspec": {
   "display_name": "Python [conda env:tf]",
   "language": "python",
   "name": "conda-env-tf-py"
  },
  "language_info": {
   "codemirror_mode": {
    "name": "ipython",
    "version": 3
   },
   "file_extension": ".py",
   "mimetype": "text/x-python",
   "name": "python",
   "nbconvert_exporter": "python",
   "pygments_lexer": "ipython3",
   "version": "3.7.7"
  },
  "varInspector": {
   "cols": {
    "lenName": 16,
    "lenType": 16,
    "lenVar": 40
   },
   "kernels_config": {
    "python": {
     "delete_cmd_postfix": "",
     "delete_cmd_prefix": "del ",
     "library": "var_list.py",
     "varRefreshCmd": "print(var_dic_list())"
    },
    "r": {
     "delete_cmd_postfix": ") ",
     "delete_cmd_prefix": "rm(",
     "library": "var_list.r",
     "varRefreshCmd": "cat(var_dic_list()) "
    }
   },
   "types_to_exclude": [
    "module",
    "function",
    "builtin_function_or_method",
    "instance",
    "_Feature"
   ],
   "window_display": false
  }
 },
 "nbformat": 4,
 "nbformat_minor": 2
}
