{
 "cells": [
  {
   "cell_type": "code",
   "execution_count": 1,
   "metadata": {},
   "outputs": [],
   "source": [
    "import re\n",
    "import os\n",
    "import pandas as pd\n",
    "import numpy as np\n",
    "import joblib\n",
    "\n",
    "from sklearn.model_selection import train_test_split\n",
    "\n",
    "from sklearn.linear_model import LinearRegression, Ridge, Lasso, LogisticRegression\n",
    "from sklearn.preprocessing import StandardScaler\n",
    "from sklearn.metrics import mean_absolute_error, mean_squared_error, accuracy_score, confusion_matrix\n",
    "from sklearn.pipeline import make_pipeline\n",
    "\n",
    "import matplotlib.pyplot as plt\n",
    "import seaborn as sns"
   ]
  },
  {
   "cell_type": "markdown",
   "metadata": {},
   "source": [
    "# First Exploration\n",
    "This notebook contains a first (brief) exploration of the stackexchange data (including our hand-engineered features)\n",
    "along with some first attempts at a predictive model."
   ]
  },
  {
   "cell_type": "code",
   "execution_count": 2,
   "metadata": {},
   "outputs": [
    {
     "name": "stdout",
     "output_type": "stream",
     "text": [
      "(489792, 22)\n"
     ]
    },
    {
     "data": {
      "text/html": [
       "<div>\n",
       "<style scoped>\n",
       "    .dataframe tbody tr th:only-of-type {\n",
       "        vertical-align: middle;\n",
       "    }\n",
       "\n",
       "    .dataframe tbody tr th {\n",
       "        vertical-align: top;\n",
       "    }\n",
       "\n",
       "    .dataframe thead th {\n",
       "        text-align: right;\n",
       "    }\n",
       "</style>\n",
       "<table border=\"1\" class=\"dataframe\">\n",
       "  <thead>\n",
       "    <tr style=\"text-align: right;\">\n",
       "      <th></th>\n",
       "      <th>folder</th>\n",
       "      <th>id</th>\n",
       "      <th>body</th>\n",
       "      <th>title</th>\n",
       "      <th>tags</th>\n",
       "      <th>n_views</th>\n",
       "      <th>time</th>\n",
       "      <th>n_answers</th>\n",
       "      <th>score</th>\n",
       "      <th>time_til_first_answer</th>\n",
       "      <th>...</th>\n",
       "      <th>n_links</th>\n",
       "      <th>n_tags</th>\n",
       "      <th>num_question_marks</th>\n",
       "      <th>wh_word_count</th>\n",
       "      <th>sentence_count</th>\n",
       "      <th>word_count</th>\n",
       "      <th>example_count</th>\n",
       "      <th>n_linebreaks</th>\n",
       "      <th>title_word_count</th>\n",
       "      <th>title_question_marks</th>\n",
       "    </tr>\n",
       "  </thead>\n",
       "  <tbody>\n",
       "    <tr>\n",
       "      <th>0</th>\n",
       "      <td>Data/android.stackexchange.com</td>\n",
       "      <td>1</td>\n",
       "      <td>This is a common question by those who have ju...</td>\n",
       "      <td>I've rooted my phone.  Now what?  What do I ga...</td>\n",
       "      <td>&lt;rooting&gt;&lt;root-access&gt;</td>\n",
       "      <td>477272</td>\n",
       "      <td>2010-09-13 19:16:26.763</td>\n",
       "      <td>3</td>\n",
       "      <td>308</td>\n",
       "      <td>0.103480</td>\n",
       "      <td>...</td>\n",
       "      <td>0</td>\n",
       "      <td>2</td>\n",
       "      <td>2</td>\n",
       "      <td>3</td>\n",
       "      <td>4</td>\n",
       "      <td>29</td>\n",
       "      <td>0</td>\n",
       "      <td>1</td>\n",
       "      <td>13</td>\n",
       "      <td>2</td>\n",
       "    </tr>\n",
       "    <tr>\n",
       "      <th>1</th>\n",
       "      <td>Data/android.stackexchange.com</td>\n",
       "      <td>2</td>\n",
       "      <td>I have a Google Nexus One with Android 2.2. I ...</td>\n",
       "      <td>I installed another SMS application, now I get...</td>\n",
       "      <td>&lt;2.2-froyo&gt;&lt;sms&gt;&lt;notifications&gt;&lt;handcent-sms&gt;</td>\n",
       "      <td>1233</td>\n",
       "      <td>2010-09-13 19:17:17.917</td>\n",
       "      <td>3</td>\n",
       "      <td>11</td>\n",
       "      <td>0.034801</td>\n",
       "      <td>...</td>\n",
       "      <td>0</td>\n",
       "      <td>4</td>\n",
       "      <td>1</td>\n",
       "      <td>2</td>\n",
       "      <td>4</td>\n",
       "      <td>36</td>\n",
       "      <td>0</td>\n",
       "      <td>1</td>\n",
       "      <td>10</td>\n",
       "      <td>0</td>\n",
       "    </tr>\n",
       "    <tr>\n",
       "      <th>2</th>\n",
       "      <td>Data/android.stackexchange.com</td>\n",
       "      <td>5</td>\n",
       "      <td>I have a Motorola DROID v1 that is running Fro...</td>\n",
       "      <td>Moto Droid v1 disabling primary Wireless AP</td>\n",
       "      <td>&lt;2.2-froyo&gt;</td>\n",
       "      <td>312</td>\n",
       "      <td>2010-09-13 19:19:35.360</td>\n",
       "      <td>1</td>\n",
       "      <td>5</td>\n",
       "      <td>4112.699605</td>\n",
       "      <td>...</td>\n",
       "      <td>0</td>\n",
       "      <td>1</td>\n",
       "      <td>1</td>\n",
       "      <td>3</td>\n",
       "      <td>6</td>\n",
       "      <td>101</td>\n",
       "      <td>0</td>\n",
       "      <td>2</td>\n",
       "      <td>7</td>\n",
       "      <td>0</td>\n",
       "    </tr>\n",
       "    <tr>\n",
       "      <th>3</th>\n",
       "      <td>Data/android.stackexchange.com</td>\n",
       "      <td>8</td>\n",
       "      <td>I would like to send two contacts (name+phone ...</td>\n",
       "      <td>How do I send a contact via SMS?</td>\n",
       "      <td>&lt;contacts&gt;&lt;sms&gt;</td>\n",
       "      <td>50115</td>\n",
       "      <td>2010-09-13 19:21:03.273</td>\n",
       "      <td>12</td>\n",
       "      <td>10</td>\n",
       "      <td>0.120577</td>\n",
       "      <td>...</td>\n",
       "      <td>0</td>\n",
       "      <td>2</td>\n",
       "      <td>1</td>\n",
       "      <td>1</td>\n",
       "      <td>4</td>\n",
       "      <td>49</td>\n",
       "      <td>0</td>\n",
       "      <td>3</td>\n",
       "      <td>8</td>\n",
       "      <td>1</td>\n",
       "    </tr>\n",
       "    <tr>\n",
       "      <th>4</th>\n",
       "      <td>Data/android.stackexchange.com</td>\n",
       "      <td>9</td>\n",
       "      <td>Does one really need to install a task manager...</td>\n",
       "      <td>Do I really need to install a task manager?</td>\n",
       "      <td>&lt;task-management&gt;</td>\n",
       "      <td>20836</td>\n",
       "      <td>2010-09-13 19:21:10.473</td>\n",
       "      <td>7</td>\n",
       "      <td>95</td>\n",
       "      <td>0.049335</td>\n",
       "      <td>...</td>\n",
       "      <td>0</td>\n",
       "      <td>1</td>\n",
       "      <td>1</td>\n",
       "      <td>0</td>\n",
       "      <td>2</td>\n",
       "      <td>25</td>\n",
       "      <td>0</td>\n",
       "      <td>1</td>\n",
       "      <td>9</td>\n",
       "      <td>1</td>\n",
       "    </tr>\n",
       "  </tbody>\n",
       "</table>\n",
       "<p>5 rows × 22 columns</p>\n",
       "</div>"
      ],
      "text/plain": [
       "                           folder  id  \\\n",
       "0  Data/android.stackexchange.com   1   \n",
       "1  Data/android.stackexchange.com   2   \n",
       "2  Data/android.stackexchange.com   5   \n",
       "3  Data/android.stackexchange.com   8   \n",
       "4  Data/android.stackexchange.com   9   \n",
       "\n",
       "                                                body  \\\n",
       "0  This is a common question by those who have ju...   \n",
       "1  I have a Google Nexus One with Android 2.2. I ...   \n",
       "2  I have a Motorola DROID v1 that is running Fro...   \n",
       "3  I would like to send two contacts (name+phone ...   \n",
       "4  Does one really need to install a task manager...   \n",
       "\n",
       "                                               title  \\\n",
       "0  I've rooted my phone.  Now what?  What do I ga...   \n",
       "1  I installed another SMS application, now I get...   \n",
       "2        Moto Droid v1 disabling primary Wireless AP   \n",
       "3                   How do I send a contact via SMS?   \n",
       "4        Do I really need to install a task manager?   \n",
       "\n",
       "                                            tags  n_views  \\\n",
       "0                         <rooting><root-access>   477272   \n",
       "1  <2.2-froyo><sms><notifications><handcent-sms>     1233   \n",
       "2                                    <2.2-froyo>      312   \n",
       "3                                <contacts><sms>    50115   \n",
       "4                              <task-management>    20836   \n",
       "\n",
       "                      time  n_answers  score  time_til_first_answer  ...  \\\n",
       "0  2010-09-13 19:16:26.763          3    308               0.103480  ...   \n",
       "1  2010-09-13 19:17:17.917          3     11               0.034801  ...   \n",
       "2  2010-09-13 19:19:35.360          1      5            4112.699605  ...   \n",
       "3  2010-09-13 19:21:03.273         12     10               0.120577  ...   \n",
       "4  2010-09-13 19:21:10.473          7     95               0.049335  ...   \n",
       "\n",
       "   n_links  n_tags  num_question_marks  wh_word_count  sentence_count  \\\n",
       "0        0       2                   2              3               4   \n",
       "1        0       4                   1              2               4   \n",
       "2        0       1                   1              3               6   \n",
       "3        0       2                   1              1               4   \n",
       "4        0       1                   1              0               2   \n",
       "\n",
       "   word_count  example_count  n_linebreaks  title_word_count  \\\n",
       "0          29              0             1                13   \n",
       "1          36              0             1                10   \n",
       "2         101              0             2                 7   \n",
       "3          49              0             3                 8   \n",
       "4          25              0             1                 9   \n",
       "\n",
       "   title_question_marks  \n",
       "0                     2  \n",
       "1                     0  \n",
       "2                     0  \n",
       "3                     1  \n",
       "4                     1  \n",
       "\n",
       "[5 rows x 22 columns]"
      ]
     },
     "execution_count": 2,
     "metadata": {},
     "output_type": "execute_result"
    }
   ],
   "source": [
    "datapath = \"Dataset\"\n",
    "\n",
    "df = pd.concat([\n",
    "    pd.read_csv(os.path.join(datapath, p))\n",
    "    for p in os.listdir(datapath)\n",
    "    if p.endswith(\".csv\")\n",
    "]).reset_index(drop=True)\n",
    "\n",
    "print(df.shape)\n",
    "\n",
    "df.head()"
   ]
  },
  {
   "cell_type": "code",
   "execution_count": 3,
   "metadata": {},
   "outputs": [
    {
     "name": "stdout",
     "output_type": "stream",
     "text": [
      "folder  --  Data/android.stackexchange.com\n",
      "id  --  1\n",
      "body  --  This is a common question by those who have just rooted their phones.  What apps, ROMs, benefits, etc. do I get from rooting?  What should I be doing now?\n",
      "\n",
      "title  --  I've rooted my phone.  Now what?  What do I gain from rooting?\n",
      "tags  --  <rooting><root-access>\n",
      "n_views  --  477272\n",
      "time  --  2010-09-13 19:16:26.763\n",
      "n_answers  --  3\n",
      "score  --  308\n",
      "time_til_first_answer  --  0.10347972222222222\n",
      "y  --  8958.276849731697\n",
      "n_lists  --  0\n",
      "n_links  --  0\n",
      "n_tags  --  2\n",
      "num_question_marks  --  2\n",
      "wh_word_count  --  3\n",
      "sentence_count  --  4\n",
      "word_count  --  29\n",
      "example_count  --  0\n",
      "n_linebreaks  --  1\n",
      "title_word_count  --  13\n",
      "title_question_marks  --  2\n",
      "==================================================\n",
      "folder  --  Data/android.stackexchange.com\n",
      "id  --  2\n",
      "body  --  I have a Google Nexus One with Android 2.2. I didn't like the default SMS-application so I installed Handcent-SMS. Now when I get an SMS, I get notified twice. How can I fix this?\n",
      "\n",
      "title  --  I installed another SMS application, now I get notified twice\n",
      "tags  --  <2.2-froyo><sms><notifications><handcent-sms>\n",
      "n_views  --  1233\n",
      "time  --  2010-09-13 19:17:17.917\n",
      "n_answers  --  3\n",
      "score  --  11\n",
      "time_til_first_answer  --  0.034800833333333336\n",
      "y  --  1034.4579871171666\n",
      "n_lists  --  0\n",
      "n_links  --  0\n",
      "n_tags  --  4\n",
      "num_question_marks  --  1\n",
      "wh_word_count  --  2\n",
      "sentence_count  --  4\n",
      "word_count  --  36\n",
      "example_count  --  0\n",
      "n_linebreaks  --  1\n",
      "title_word_count  --  10\n",
      "title_question_marks  --  0\n",
      "==================================================\n",
      "folder  --  Data/android.stackexchange.com\n",
      "id  --  5\n",
      "body  --  I have a Motorola DROID v1 that is running Froyo (2.2).  I've noticed that if my device sleeps for a while, when I wake it up it will not attempt to connect to the wireless AP in my home.  When I go to the wireless settings section, I see a note next to the AP entry that says 'disabled'.  If I click the entry and select 'connect', it connects right away.  It will remain connected until the next longish sleep, when it is again marked as disabled.\n",
      "Is there any way to prevent this AP entry from being marked as disabled?\n",
      "\n",
      "title  --  Moto Droid v1 disabling primary Wireless AP\n",
      "tags  --  <2.2-froyo>\n",
      "n_views  --  312\n",
      "time  --  2010-09-13 19:19:35.360\n",
      "n_answers  --  1\n",
      "score  --  5\n",
      "time_til_first_answer  --  4112.699604722222\n",
      "y  --  0.0014588957562353376\n",
      "n_lists  --  0\n",
      "n_links  --  0\n",
      "n_tags  --  1\n",
      "num_question_marks  --  1\n",
      "wh_word_count  --  3\n",
      "sentence_count  --  6\n",
      "word_count  --  101\n",
      "example_count  --  0\n",
      "n_linebreaks  --  2\n",
      "title_word_count  --  7\n",
      "title_question_marks  --  0\n",
      "==================================================\n",
      "folder  --  Data/android.stackexchange.com\n",
      "id  --  8\n",
      "body  --  I would like to send two contacts (name+phone nr) to one of my contacts. This is a simple menu-option on my old Sony Ericsson.\n",
      "How can I do this on Android?\n",
      "I'm not in the same building as the receiver so I can not use Bluetooth.\n",
      "\n",
      "title  --  How do I send a contact via SMS?\n",
      "tags  --  <contacts><sms>\n",
      "n_views  --  50115\n",
      "time  --  2010-09-13 19:21:03.273\n",
      "n_answers  --  12\n",
      "score  --  10\n",
      "time_til_first_answer  --  0.12057694444444444\n",
      "y  --  1094.7366481062118\n",
      "n_lists  --  0\n",
      "n_links  --  0\n",
      "n_tags  --  2\n",
      "num_question_marks  --  1\n",
      "wh_word_count  --  1\n",
      "sentence_count  --  4\n",
      "word_count  --  49\n",
      "example_count  --  0\n",
      "n_linebreaks  --  3\n",
      "title_word_count  --  8\n",
      "title_question_marks  --  1\n",
      "==================================================\n",
      "folder  --  Data/android.stackexchange.com\n",
      "id  --  9\n",
      "body  --  Does one really need to install a task manager? My phone does slowdown on rare occasions but it's not something that hampers regular usage.\n",
      "\n",
      "title  --  Do I really need to install a task manager?\n",
      "tags  --  <task-management>\n",
      "n_views  --  20836\n",
      "time  --  2010-09-13 19:21:10.473\n",
      "n_answers  --  7\n",
      "score  --  95\n",
      "time_til_first_answer  --  0.049335277777777777\n",
      "y  --  13621.084754542331\n",
      "n_lists  --  0\n",
      "n_links  --  0\n",
      "n_tags  --  1\n",
      "num_question_marks  --  1\n",
      "wh_word_count  --  0\n",
      "sentence_count  --  2\n",
      "word_count  --  25\n",
      "example_count  --  0\n",
      "n_linebreaks  --  1\n",
      "title_word_count  --  9\n",
      "title_question_marks  --  1\n",
      "==================================================\n",
      "folder  --  Data/android.stackexchange.com\n",
      "id  --  11\n",
      "body  --  When I receive a text message to my Google voice number, I get a notification from my text application, as well as the Google Voice application. It would seem that the message is being forwarded to my cell number, but I've turned off text forwarding in the Voicemail & Text settings.  Is there another setting that I am missing?\n",
      "\n",
      "title  --  How do I stop from getting notified twice when I get a text to my Google Voice number?\n",
      "tags  --  <sms><notifications><google-voice>\n",
      "n_views  --  3865\n",
      "time  --  2010-09-13 19:22:01.080\n",
      "n_answers  --  2\n",
      "score  --  6\n",
      "time_til_first_answer  --  0.02619166666666666\n",
      "y  --  534.521158129176\n",
      "n_lists  --  0\n",
      "n_links  --  0\n",
      "n_tags  --  3\n",
      "num_question_marks  --  1\n",
      "wh_word_count  --  1\n",
      "sentence_count  --  3\n",
      "word_count  --  59\n",
      "example_count  --  0\n",
      "n_linebreaks  --  1\n",
      "title_word_count  --  18\n",
      "title_question_marks  --  1\n",
      "==================================================\n"
     ]
    }
   ],
   "source": [
    "for i in df.index[:6]:\n",
    "    row = df.loc[i]\n",
    "    for i in row.index:\n",
    "        print(i, \" -- \", row[i])\n",
    "    \n",
    "    print(\"=\" * 50)"
   ]
  },
  {
   "cell_type": "markdown",
   "metadata": {},
   "source": [
    "## Variable Histograms"
   ]
  },
  {
   "cell_type": "code",
   "execution_count": 4,
   "metadata": {},
   "outputs": [
    {
     "data": {
      "image/png": "[encoded data removed]",
      "text/plain": [
       "<Figure size 432x288 with 1 Axes>"
      ]
     },
     "metadata": {
      "needs_background": "light"
     },
     "output_type": "display_data"
    },
    {
     "data": {
      "image/png": "[encoded data removed]",
      "text/plain": [
       "<Figure size 432x288 with 1 Axes>"
      ]
     },
     "metadata": {
      "needs_background": "light"
     },
     "output_type": "display_data"
    },
    {
     "data": {
      "image/png": "[encoded data removed]",
      "text/plain": [
       "<Figure size 432x288 with 1 Axes>"
      ]
     },
     "metadata": {
      "needs_background": "light"
     },
     "output_type": "display_data"
    },
    {
     "data": {
      "image/png": "[encoded data removed]",
      "text/plain": [
       "<Figure size 432x288 with 1 Axes>"
      ]
     },
     "metadata": {
      "needs_background": "light"
     },
     "output_type": "display_data"
    },
    {
     "name": "stdout",
     "output_type": "stream",
     "text": [
      "BAD time_til_first_answer\n"
     ]
    },
    {
     "data": {
      "image/png": "[encoded data removed]",
      "text/plain": [
       "<Figure size 432x288 with 1 Axes>"
      ]
     },
     "metadata": {
      "needs_background": "light"
     },
     "output_type": "display_data"
    },
    {
     "data": {
      "image/png": "[encoded data removed]",
      "text/plain": [
       "<Figure size 432x288 with 1 Axes>"
      ]
     },
     "metadata": {
      "needs_background": "light"
     },
     "output_type": "display_data"
    },
    {
     "data": {
      "image/png": "[encoded data removed]",
      "text/plain": [
       "<Figure size 432x288 with 1 Axes>"
      ]
     },
     "metadata": {
      "needs_background": "light"
     },
     "output_type": "display_data"
    },
    {
     "data": {
      "image/png": "[encoded data removed]",
      "text/plain": [
       "<Figure size 432x288 with 1 Axes>"
      ]
     },
     "metadata": {
      "needs_background": "light"
     },
     "output_type": "display_data"
    },
    {
     "data": {
      "image/png": "[encoded data removed]",
      "text/plain": [
       "<Figure size 432x288 with 1 Axes>"
      ]
     },
     "metadata": {
      "needs_background": "light"
     },
     "output_type": "display_data"
    },
    {
     "data": {
      "image/png": "[encoded data removed]",
      "text/plain": [
       "<Figure size 432x288 with 1 Axes>"
      ]
     },
     "metadata": {
      "needs_background": "light"
     },
     "output_type": "display_data"
    },
    {
     "data": {
      "image/png": "[encoded data removed]",
      "text/plain": [
       "<Figure size 432x288 with 1 Axes>"
      ]
     },
     "metadata": {
      "needs_background": "light"
     },
     "output_type": "display_data"
    },
    {
     "data": {
      "image/png": "[encoded data removed]",
      "text/plain": [
       "<Figure size 432x288 with 1 Axes>"
      ]
     },
     "metadata": {
      "needs_background": "light"
     },
     "output_type": "display_data"
    },
    {
     "data": {
      "image/png": "[encoded data removed]",
      "text/plain": [
       "<Figure size 432x288 with 1 Axes>"
      ]
     },
     "metadata": {
      "needs_background": "light"
     },
     "output_type": "display_data"
    },
    {
     "data": {
      "image/png": "[encoded data removed]",
      "text/plain": [
       "<Figure size 432x288 with 1 Axes>"
      ]
     },
     "metadata": {
      "needs_background": "light"
     },
     "output_type": "display_data"
    },
    {
     "data": {
      "image/png": "[encoded data removed]",
      "text/plain": [
       "<Figure size 432x288 with 1 Axes>"
      ]
     },
     "metadata": {
      "needs_background": "light"
     },
     "output_type": "display_data"
    },
    {
     "data": {
      "image/png": "[encoded data removed]",
      "text/plain": [
       "<Figure size 432x288 with 1 Axes>"
      ]
     },
     "metadata": {
      "needs_background": "light"
     },
     "output_type": "display_data"
    },
    {
     "data": {
      "image/png": "[encoded data removed]",
      "text/plain": [
       "<Figure size 432x288 with 1 Axes>"
      ]
     },
     "metadata": {
      "needs_background": "light"
     },
     "output_type": "display_data"
    }
   ],
   "source": [
    "for c in df.columns:\n",
    "    if df.dtypes[c] == \"object\":\n",
    "        continue\n",
    "    \n",
    "    try:\n",
    "        fig, ax = plt.subplots()\n",
    "        df[c].dropna().hist(ax=ax, bins=35)\n",
    "        ax.set_title(c)\n",
    "        medianval = df[c].median()\n",
    "        ax.axvline(medianval, color=\"red\", label=f\"Median: {medianval:0.5f}\")\n",
    "\n",
    "        meanval = df[c].mean()\n",
    "        ax.axvline(meanval, color=\"blue\", label=f\"Mean: {meanval:0.5f}\")\n",
    "        ax.legend()\n",
    "    #     fig.savefig(f\"Histogram_{c}.png\")\n",
    "        plt.show()\n",
    "    except:\n",
    "        print(\"BAD\", c)"
   ]
  },
  {
   "cell_type": "code",
   "execution_count": 5,
   "metadata": {},
   "outputs": [
    {
     "data": {
      "image/png": "[encoded data removed]",
      "text/plain": [
       "<Figure size 432x288 with 1 Axes>"
      ]
     },
     "metadata": {
      "needs_background": "light"
     },
     "output_type": "display_data"
    }
   ],
   "source": [
    "fig, ax = plt.subplots()\n",
    "np.log10(1 + df.y).hist(bins=50, ax=ax)\n",
    "ax.set_title(\"Response Variable (Log)\")\n",
    "plt.show()"
   ]
  },
  {
   "cell_type": "code",
   "execution_count": 6,
   "metadata": {},
   "outputs": [
    {
     "data": {
      "text/plain": [
       "(0.0, 8359200.0, 485.7829262363812, 1.5117717572354405)"
      ]
     },
     "execution_count": 6,
     "metadata": {},
     "output_type": "execute_result"
    }
   ],
   "source": [
    "df.y.min(), df.y.max(), df.y.mean(), df.y.median()"
   ]
  },
  {
   "cell_type": "markdown",
   "metadata": {},
   "source": [
    "## Comment on histograms\n",
    "After a first glance at these histograms we can see that many of our hand-engineered features are concentrated around 0 but many\n",
    "of them have very long tails with extreme outliers. This is particularly concerning when it comes to our response variable. One\n",
    "possible way to fix this would be to use logarithmic trainsforms. First, however, we will try some simple models."
   ]
  },
  {
   "cell_type": "code",
   "execution_count": 7,
   "metadata": {},
   "outputs": [
    {
     "name": "stdout",
     "output_type": "stream",
     "text": [
      "Index(['folder', 'id', 'body', 'title', 'tags', 'n_views', 'time', 'n_answers',\n",
      "       'score', 'time_til_first_answer', 'y', 'n_lists', 'n_links', 'n_tags',\n",
      "       'num_question_marks', 'wh_word_count', 'sentence_count', 'word_count',\n",
      "       'example_count', 'n_linebreaks', 'title_word_count',\n",
      "       'title_question_marks'],\n",
      "      dtype='object')\n"
     ]
    }
   ],
   "source": [
    "print(df.columns)"
   ]
  },
  {
   "cell_type": "code",
   "execution_count": 8,
   "metadata": {},
   "outputs": [
    {
     "name": "stdout",
     "output_type": "stream",
     "text": [
      "0     8958.276850\n",
      "1     1034.457987\n",
      "2        0.001459\n",
      "3     1094.736648\n",
      "4    13621.084755\n",
      "Name: y, dtype: float64\n"
     ]
    },
    {
     "data": {
      "text/html": [
       "<div>\n",
       "<style scoped>\n",
       "    .dataframe tbody tr th:only-of-type {\n",
       "        vertical-align: middle;\n",
       "    }\n",
       "\n",
       "    .dataframe tbody tr th {\n",
       "        vertical-align: top;\n",
       "    }\n",
       "\n",
       "    .dataframe thead th {\n",
       "        text-align: right;\n",
       "    }\n",
       "</style>\n",
       "<table border=\"1\" class=\"dataframe\">\n",
       "  <thead>\n",
       "    <tr style=\"text-align: right;\">\n",
       "      <th></th>\n",
       "      <th>wh_word_count</th>\n",
       "      <th>sentence_count</th>\n",
       "      <th>word_count</th>\n",
       "      <th>example_count</th>\n",
       "      <th>n_linebreaks</th>\n",
       "      <th>title_word_count</th>\n",
       "      <th>title_question_marks</th>\n",
       "      <th>n_links</th>\n",
       "      <th>n_tags</th>\n",
       "      <th>n_lists</th>\n",
       "    </tr>\n",
       "  </thead>\n",
       "  <tbody>\n",
       "    <tr>\n",
       "      <th>0</th>\n",
       "      <td>3</td>\n",
       "      <td>4</td>\n",
       "      <td>29</td>\n",
       "      <td>0</td>\n",
       "      <td>1</td>\n",
       "      <td>13</td>\n",
       "      <td>2</td>\n",
       "      <td>0</td>\n",
       "      <td>2</td>\n",
       "      <td>0</td>\n",
       "    </tr>\n",
       "    <tr>\n",
       "      <th>1</th>\n",
       "      <td>2</td>\n",
       "      <td>4</td>\n",
       "      <td>36</td>\n",
       "      <td>0</td>\n",
       "      <td>1</td>\n",
       "      <td>10</td>\n",
       "      <td>0</td>\n",
       "      <td>0</td>\n",
       "      <td>4</td>\n",
       "      <td>0</td>\n",
       "    </tr>\n",
       "    <tr>\n",
       "      <th>2</th>\n",
       "      <td>3</td>\n",
       "      <td>6</td>\n",
       "      <td>101</td>\n",
       "      <td>0</td>\n",
       "      <td>2</td>\n",
       "      <td>7</td>\n",
       "      <td>0</td>\n",
       "      <td>0</td>\n",
       "      <td>1</td>\n",
       "      <td>0</td>\n",
       "    </tr>\n",
       "    <tr>\n",
       "      <th>3</th>\n",
       "      <td>1</td>\n",
       "      <td>4</td>\n",
       "      <td>49</td>\n",
       "      <td>0</td>\n",
       "      <td>3</td>\n",
       "      <td>8</td>\n",
       "      <td>1</td>\n",
       "      <td>0</td>\n",
       "      <td>2</td>\n",
       "      <td>0</td>\n",
       "    </tr>\n",
       "    <tr>\n",
       "      <th>4</th>\n",
       "      <td>0</td>\n",
       "      <td>2</td>\n",
       "      <td>25</td>\n",
       "      <td>0</td>\n",
       "      <td>1</td>\n",
       "      <td>9</td>\n",
       "      <td>1</td>\n",
       "      <td>0</td>\n",
       "      <td>1</td>\n",
       "      <td>0</td>\n",
       "    </tr>\n",
       "  </tbody>\n",
       "</table>\n",
       "</div>"
      ],
      "text/plain": [
       "   wh_word_count  sentence_count  word_count  example_count  n_linebreaks  \\\n",
       "0              3               4          29              0             1   \n",
       "1              2               4          36              0             1   \n",
       "2              3               6         101              0             2   \n",
       "3              1               4          49              0             3   \n",
       "4              0               2          25              0             1   \n",
       "\n",
       "   title_word_count  title_question_marks  n_links  n_tags  n_lists  \n",
       "0                13                     2        0       2        0  \n",
       "1                10                     0        0       4        0  \n",
       "2                 7                     0        0       1        0  \n",
       "3                 8                     1        0       2        0  \n",
       "4                 9                     1        0       1        0  "
      ]
     },
     "execution_count": 8,
     "metadata": {},
     "output_type": "execute_result"
    }
   ],
   "source": [
    "FEATURES = [\n",
    "    \"wh_word_count\",\n",
    "    \"sentence_count\",\n",
    "    \"word_count\",\n",
    "    \"example_count\",\n",
    "    \"n_linebreaks\",\n",
    "    \"title_word_count\",\n",
    "    \"title_question_marks\",\n",
    "    \"n_links\",\n",
    "    \"n_tags\",\n",
    "    \"n_lists\"\n",
    "]\n",
    "\n",
    "\n",
    "x = df[FEATURES]\n",
    "y = df[\"y\"]\n",
    "\n",
    "# y = np.log10(1 + df.y)\n",
    "\n",
    "print(y.head())\n",
    "x.head()"
   ]
  },
  {
   "cell_type": "code",
   "execution_count": 9,
   "metadata": {},
   "outputs": [
    {
     "name": "stdout",
     "output_type": "stream",
     "text": [
      "(367344, 10) (122448, 10)\n",
      "(367344,) (122448,)\n",
      "[Pipeline] .... (step 1 of 2) Processing standardscaler, total=   0.1s\n",
      "[Pipeline] ............. (step 2 of 2) Processing lasso, total=   0.1s\n"
     ]
    },
    {
     "data": {
      "text/plain": [
       "Pipeline(steps=[('standardscaler', StandardScaler()),\n",
       "                ('lasso', Lasso(alpha=7.5))],\n",
       "         verbose=True)"
      ]
     },
     "execution_count": 9,
     "metadata": {},
     "output_type": "execute_result"
    }
   ],
   "source": [
    "np.random.seed(852)\n",
    "xtrain, xtest, ytrain, ytest = train_test_split(x, y, test_size=0.25)\n",
    "\n",
    "print(xtrain.shape, xtest.shape)\n",
    "print(ytrain.shape, ytest.shape)\n",
    "\n",
    "\n",
    "pipe = make_pipeline(StandardScaler(), Lasso(alpha=7.5), verbose=True)\n",
    "\n",
    "pipe.fit(xtrain, ytrain)"
   ]
  },
  {
   "cell_type": "code",
   "execution_count": 10,
   "metadata": {},
   "outputs": [
    {
     "name": "stdout",
     "output_type": "stream",
     "text": [
      "Ytrain Variance:\n",
      "556319076.1311154\n",
      "Ytest Variance:\n",
      "813126543.7251097\n",
      "Train set performance:\n",
      "MSE:  556231757.384748\n",
      "MAE:  901.797369656772\n",
      "Test set performance:\n",
      "MSE:  813001864.889108\n",
      "MAE:  923.5264573868418\n"
     ]
    }
   ],
   "source": [
    "print(\"Ytrain Variance:\")\n",
    "print(np.var(ytrain))\n",
    "\n",
    "print(\"Ytest Variance:\")\n",
    "print(np.var(ytest))\n",
    "\n",
    "train_pred = pipe.predict(xtrain)\n",
    "\n",
    "train_mae = mean_absolute_error(y_true=ytrain, y_pred=train_pred)\n",
    "train_mse = mean_squared_error(y_true=ytrain, y_pred=train_pred)\n",
    "\n",
    "print(\"Train set performance:\")\n",
    "print(\"MSE: \", train_mse)\n",
    "print(\"MAE: \", train_mae)\n",
    "\n",
    "test_pred = pipe.predict(xtest)\n",
    "\n",
    "test_mae = mean_absolute_error(y_true=ytest, y_pred=test_pred)\n",
    "test_mse = mean_squared_error(y_true=ytest, y_pred=test_pred)\n",
    "\n",
    "print(\"Test set performance:\")\n",
    "print(\"MSE: \", test_mse)\n",
    "print(\"MAE: \", test_mae)"
   ]
  },
  {
   "cell_type": "code",
   "execution_count": 11,
   "metadata": {},
   "outputs": [
    {
     "name": "stdout",
     "output_type": "stream",
     "text": [
      "Train MAE for constant model:\n",
      "Test MAE for constant model:\n"
     ]
    },
    {
     "data": {
      "text/plain": [
       "503.43999180691515"
      ]
     },
     "execution_count": 11,
     "metadata": {},
     "output_type": "execute_result"
    }
   ],
   "source": [
    "print(\"Train MAE for constant model:\")\n",
    "np.mean(np.abs(ytrain - np.median(ytrain)))\n",
    "\n",
    "print(\"Test MAE for constant model:\")\n",
    "np.mean(np.abs(ytest - np.median(ytrain)))"
   ]
  },
  {
   "cell_type": "code",
   "execution_count": 12,
   "metadata": {},
   "outputs": [
    {
     "data": {
      "text/html": [
       "<div>\n",
       "<style scoped>\n",
       "    .dataframe tbody tr th:only-of-type {\n",
       "        vertical-align: middle;\n",
       "    }\n",
       "\n",
       "    .dataframe tbody tr th {\n",
       "        vertical-align: top;\n",
       "    }\n",
       "\n",
       "    .dataframe thead th {\n",
       "        text-align: right;\n",
       "    }\n",
       "</style>\n",
       "<table border=\"1\" class=\"dataframe\">\n",
       "  <thead>\n",
       "    <tr style=\"text-align: right;\">\n",
       "      <th></th>\n",
       "      <th>variable</th>\n",
       "      <th>coefficient</th>\n",
       "    </tr>\n",
       "  </thead>\n",
       "  <tbody>\n",
       "    <tr>\n",
       "      <th>2</th>\n",
       "      <td>word_count</td>\n",
       "      <td>-158.094574</td>\n",
       "    </tr>\n",
       "    <tr>\n",
       "      <th>1</th>\n",
       "      <td>sentence_count</td>\n",
       "      <td>-85.366403</td>\n",
       "    </tr>\n",
       "    <tr>\n",
       "      <th>3</th>\n",
       "      <td>example_count</td>\n",
       "      <td>-0.000000</td>\n",
       "    </tr>\n",
       "    <tr>\n",
       "      <th>4</th>\n",
       "      <td>n_linebreaks</td>\n",
       "      <td>9.643720</td>\n",
       "    </tr>\n",
       "    <tr>\n",
       "      <th>9</th>\n",
       "      <td>n_lists</td>\n",
       "      <td>17.089861</td>\n",
       "    </tr>\n",
       "    <tr>\n",
       "      <th>5</th>\n",
       "      <td>title_word_count</td>\n",
       "      <td>21.462470</td>\n",
       "    </tr>\n",
       "    <tr>\n",
       "      <th>7</th>\n",
       "      <td>n_links</td>\n",
       "      <td>49.404791</td>\n",
       "    </tr>\n",
       "    <tr>\n",
       "      <th>8</th>\n",
       "      <td>n_tags</td>\n",
       "      <td>115.994365</td>\n",
       "    </tr>\n",
       "    <tr>\n",
       "      <th>6</th>\n",
       "      <td>title_question_marks</td>\n",
       "      <td>168.007897</td>\n",
       "    </tr>\n",
       "    <tr>\n",
       "      <th>0</th>\n",
       "      <td>wh_word_count</td>\n",
       "      <td>191.913932</td>\n",
       "    </tr>\n",
       "  </tbody>\n",
       "</table>\n",
       "</div>"
      ],
      "text/plain": [
       "               variable  coefficient\n",
       "2            word_count  -158.094574\n",
       "1        sentence_count   -85.366403\n",
       "3         example_count    -0.000000\n",
       "4          n_linebreaks     9.643720\n",
       "9               n_lists    17.089861\n",
       "5      title_word_count    21.462470\n",
       "7               n_links    49.404791\n",
       "8                n_tags   115.994365\n",
       "6  title_question_marks   168.007897\n",
       "0         wh_word_count   191.913932"
      ]
     },
     "execution_count": 12,
     "metadata": {},
     "output_type": "execute_result"
    }
   ],
   "source": [
    "coeff = pd.DataFrame({\n",
    "    \"variable\": x.columns,\n",
    "    \"coefficient\": pipe[1].coef_\n",
    "}).sort_values(by=\"coefficient\")\n",
    "\n",
    "coeff"
   ]
  },
  {
   "cell_type": "code",
   "execution_count": 13,
   "metadata": {},
   "outputs": [
    {
     "data": {
      "text/plain": [
       "['assets/LassoModel.pkl']"
      ]
     },
     "execution_count": 13,
     "metadata": {},
     "output_type": "execute_result"
    }
   ],
   "source": [
    "joblib.dump(pipe, \"assets/LassoModel.pkl\")"
   ]
  },
  {
   "cell_type": "markdown",
   "metadata": {},
   "source": [
    "## Lasso model review\n",
    "Our first model (Lasso) leaves a lot to wish for when it comes to performance (it performs even worse than a constant model wrt MAE), which\n",
    "points to the fact that we still have a very basic set of features without really diving deep into the text. Perhaps our response\n",
    "variable could also use some work. Next we try a Lasso with the question score as response variable."
   ]
  },
  {
   "cell_type": "code",
   "execution_count": 14,
   "metadata": {},
   "outputs": [
    {
     "name": "stdout",
     "output_type": "stream",
     "text": [
      "(367344, 10) (122448, 10)\n",
      "(367344,) (122448,)\n",
      "[Pipeline] .... (step 1 of 2) Processing standardscaler, total=   0.1s\n",
      "[Pipeline] ............. (step 2 of 2) Processing lasso, total=   0.1s\n"
     ]
    },
    {
     "data": {
      "text/plain": [
       "Pipeline(steps=[('standardscaler', StandardScaler()),\n",
       "                ('lasso', Lasso(alpha=0.1))],\n",
       "         verbose=True)"
      ]
     },
     "execution_count": 14,
     "metadata": {},
     "output_type": "execute_result"
    }
   ],
   "source": [
    "x = df[FEATURES]\n",
    "y = df[\"score\"]\n",
    "\n",
    "# y = np.log10(1 + df.y)\n",
    "\n",
    "np.random.seed(852)\n",
    "xtrain, xtest, ytrain, ytest = train_test_split(x, y, test_size=0.25)\n",
    "\n",
    "print(xtrain.shape, xtest.shape)\n",
    "print(ytrain.shape, ytest.shape)\n",
    "\n",
    "\n",
    "pipe = make_pipeline(StandardScaler(), Lasso(alpha=0.1), verbose=True)\n",
    "\n",
    "pipe.fit(xtrain, ytrain)"
   ]
  },
  {
   "cell_type": "code",
   "execution_count": 15,
   "metadata": {},
   "outputs": [
    {
     "name": "stdout",
     "output_type": "stream",
     "text": [
      "Ytrain Variance:\n",
      "101.9986366786967\n",
      "Ytest Variance:\n",
      "103.02345908325424\n",
      "Train set performance:\n",
      "MSE:  97.86124709736366\n",
      "MAE:  5.01971694503535\n",
      "Test set performance:\n",
      "MSE:  98.75970694931802\n",
      "MAE:  5.034931661229837\n"
     ]
    }
   ],
   "source": [
    "print(\"Ytrain Variance:\")\n",
    "print(np.var(ytrain))\n",
    "\n",
    "print(\"Ytest Variance:\")\n",
    "print(np.var(ytest))\n",
    "\n",
    "train_pred = pipe.predict(xtrain)\n",
    "\n",
    "train_mae = mean_absolute_error(y_true=ytrain, y_pred=train_pred)\n",
    "train_mse = mean_squared_error(y_true=ytrain, y_pred=train_pred)\n",
    "\n",
    "print(\"Train set performance:\")\n",
    "print(\"MSE: \", train_mse)\n",
    "print(\"MAE: \", train_mae)\n",
    "\n",
    "test_pred = pipe.predict(xtest)\n",
    "\n",
    "test_mae = mean_absolute_error(y_true=ytest, y_pred=test_pred)\n",
    "test_mse = mean_squared_error(y_true=ytest, y_pred=test_pred)\n",
    "\n",
    "print(\"Test set performance:\")\n",
    "print(\"MSE: \", test_mse)\n",
    "print(\"MAE: \", test_mae)"
   ]
  },
  {
   "cell_type": "code",
   "execution_count": 16,
   "metadata": {},
   "outputs": [
    {
     "name": "stdout",
     "output_type": "stream",
     "text": [
      "Train MAE for constant model:\n",
      "Test MAE for constant model:\n"
     ]
    },
    {
     "data": {
      "text/plain": [
       "4.523969358421534"
      ]
     },
     "execution_count": 16,
     "metadata": {},
     "output_type": "execute_result"
    }
   ],
   "source": [
    "print(\"Train MAE for constant model:\")\n",
    "np.mean(np.abs(ytrain - np.median(ytrain)))\n",
    "\n",
    "print(\"Test MAE for constant model:\")\n",
    "np.mean(np.abs(ytest - np.median(ytrain)))"
   ]
  },
  {
   "cell_type": "code",
   "execution_count": 17,
   "metadata": {},
   "outputs": [
    {
     "data": {
      "text/html": [
       "<div>\n",
       "<style scoped>\n",
       "    .dataframe tbody tr th:only-of-type {\n",
       "        vertical-align: middle;\n",
       "    }\n",
       "\n",
       "    .dataframe tbody tr th {\n",
       "        vertical-align: top;\n",
       "    }\n",
       "\n",
       "    .dataframe thead th {\n",
       "        text-align: right;\n",
       "    }\n",
       "</style>\n",
       "<table border=\"1\" class=\"dataframe\">\n",
       "  <thead>\n",
       "    <tr style=\"text-align: right;\">\n",
       "      <th></th>\n",
       "      <th>variable</th>\n",
       "      <th>coefficient</th>\n",
       "    </tr>\n",
       "  </thead>\n",
       "  <tbody>\n",
       "    <tr>\n",
       "      <th>4</th>\n",
       "      <td>n_linebreaks</td>\n",
       "      <td>-0.219080</td>\n",
       "    </tr>\n",
       "    <tr>\n",
       "      <th>1</th>\n",
       "      <td>sentence_count</td>\n",
       "      <td>0.000000</td>\n",
       "    </tr>\n",
       "    <tr>\n",
       "      <th>7</th>\n",
       "      <td>n_links</td>\n",
       "      <td>-0.000000</td>\n",
       "    </tr>\n",
       "    <tr>\n",
       "      <th>5</th>\n",
       "      <td>title_word_count</td>\n",
       "      <td>0.023646</td>\n",
       "    </tr>\n",
       "    <tr>\n",
       "      <th>3</th>\n",
       "      <td>example_count</td>\n",
       "      <td>0.063190</td>\n",
       "    </tr>\n",
       "    <tr>\n",
       "      <th>9</th>\n",
       "      <td>n_lists</td>\n",
       "      <td>0.098209</td>\n",
       "    </tr>\n",
       "    <tr>\n",
       "      <th>8</th>\n",
       "      <td>n_tags</td>\n",
       "      <td>0.329888</td>\n",
       "    </tr>\n",
       "    <tr>\n",
       "      <th>0</th>\n",
       "      <td>wh_word_count</td>\n",
       "      <td>0.371437</td>\n",
       "    </tr>\n",
       "    <tr>\n",
       "      <th>2</th>\n",
       "      <td>word_count</td>\n",
       "      <td>0.656074</td>\n",
       "    </tr>\n",
       "    <tr>\n",
       "      <th>6</th>\n",
       "      <td>title_question_marks</td>\n",
       "      <td>1.549076</td>\n",
       "    </tr>\n",
       "  </tbody>\n",
       "</table>\n",
       "</div>"
      ],
      "text/plain": [
       "               variable  coefficient\n",
       "4          n_linebreaks    -0.219080\n",
       "1        sentence_count     0.000000\n",
       "7               n_links    -0.000000\n",
       "5      title_word_count     0.023646\n",
       "3         example_count     0.063190\n",
       "9               n_lists     0.098209\n",
       "8                n_tags     0.329888\n",
       "0         wh_word_count     0.371437\n",
       "2            word_count     0.656074\n",
       "6  title_question_marks     1.549076"
      ]
     },
     "execution_count": 17,
     "metadata": {},
     "output_type": "execute_result"
    }
   ],
   "source": [
    "coeff = pd.DataFrame({\n",
    "    \"variable\": x.columns,\n",
    "    \"coefficient\": pipe[1].coef_\n",
    "}).sort_values(by=\"coefficient\")\n",
    "\n",
    "coeff"
   ]
  },
  {
   "cell_type": "markdown",
   "metadata": {},
   "source": [
    "## Lasso - score review\n",
    "Once again, model performance is not particularly impressive, but the scale of the score variable is more stable than that of our\n",
    "other response variable. It is also notable that some variables' coefficients have different signs in both models. Now we try a simple\n",
    "classification."
   ]
  },
  {
   "cell_type": "code",
   "execution_count": 18,
   "metadata": {},
   "outputs": [
    {
     "name": "stdout",
     "output_type": "stream",
     "text": [
      "0.47526501045341696\n",
      "(367344, 10) (122448, 10)\n",
      "(367344,) (122448,)\n",
      "[Pipeline] .... (step 1 of 2) Processing standardscaler, total=   0.1s\n",
      "[Pipeline]  (step 2 of 2) Processing logisticregression, total=   0.4s\n"
     ]
    },
    {
     "data": {
      "text/plain": [
       "Pipeline(steps=[('standardscaler', StandardScaler()),\n",
       "                ('logisticregression', LogisticRegression())],\n",
       "         verbose=True)"
      ]
     },
     "execution_count": 18,
     "metadata": {},
     "output_type": "execute_result"
    }
   ],
   "source": [
    "thresh = 2\n",
    "\n",
    "x = df[FEATURES]\n",
    "y = df[\"score\"] > thresh\n",
    "print(np.mean(y))\n",
    "\n",
    "# y = np.log10(1 + df.y)\n",
    "\n",
    "np.random.seed(852)\n",
    "xtrain, xtest, ytrain, ytest = train_test_split(x, y, test_size=0.25)\n",
    "\n",
    "print(xtrain.shape, xtest.shape)\n",
    "print(ytrain.shape, ytest.shape)\n",
    "\n",
    "\n",
    "pipe = make_pipeline(StandardScaler(), LogisticRegression(), verbose=True)\n",
    "\n",
    "pipe.fit(xtrain, ytrain)"
   ]
  },
  {
   "cell_type": "code",
   "execution_count": 19,
   "metadata": {},
   "outputs": [
    {
     "name": "stdout",
     "output_type": "stream",
     "text": [
      "Train set performance:\n",
      "Accuracy:  0.6064016289908097\n",
      "Confusion matrix: \n",
      " [[115784  77047]\n",
      " [ 67539 106974]]\n",
      "\n",
      "Test set performance:\n",
      "Accuracy:  0.6074741931268783\n",
      "Confusion matrix: \n",
      " [[38695 25485]\n",
      " [22579 35689]]\n"
     ]
    }
   ],
   "source": [
    "train_pred = pipe.predict(xtrain)\n",
    "\n",
    "train_acc = accuracy_score(y_true=ytrain, y_pred=train_pred)\n",
    "train_mat = confusion_matrix(y_true=ytrain, y_pred=train_pred)\n",
    "\n",
    "print(\"Train set performance:\")\n",
    "print(\"Accuracy: \", train_acc)\n",
    "print(\"Confusion matrix: \\n\", train_mat)\n",
    "print()\n",
    "\n",
    "test_pred = pipe.predict(xtest)\n",
    "\n",
    "test_acc = accuracy_score(y_true=ytest, y_pred=test_pred)\n",
    "test_mat = confusion_matrix(y_true=ytest, y_pred=test_pred)\n",
    "\n",
    "print(\"Test set performance:\")\n",
    "print(\"Accuracy: \", test_acc)\n",
    "print(\"Confusion matrix: \\n\", test_mat)"
   ]
  },
  {
   "cell_type": "code",
   "execution_count": 20,
   "metadata": {},
   "outputs": [
    {
     "data": {
      "text/html": [
       "<div>\n",
       "<style scoped>\n",
       "    .dataframe tbody tr th:only-of-type {\n",
       "        vertical-align: middle;\n",
       "    }\n",
       "\n",
       "    .dataframe tbody tr th {\n",
       "        vertical-align: top;\n",
       "    }\n",
       "\n",
       "    .dataframe thead th {\n",
       "        text-align: right;\n",
       "    }\n",
       "</style>\n",
       "<table border=\"1\" class=\"dataframe\">\n",
       "  <thead>\n",
       "    <tr style=\"text-align: right;\">\n",
       "      <th></th>\n",
       "      <th>variable</th>\n",
       "      <th>coefficient</th>\n",
       "    </tr>\n",
       "  </thead>\n",
       "  <tbody>\n",
       "    <tr>\n",
       "      <th>4</th>\n",
       "      <td>n_linebreaks</td>\n",
       "      <td>-0.232403</td>\n",
       "    </tr>\n",
       "    <tr>\n",
       "      <th>7</th>\n",
       "      <td>n_links</td>\n",
       "      <td>-0.060172</td>\n",
       "    </tr>\n",
       "    <tr>\n",
       "      <th>1</th>\n",
       "      <td>sentence_count</td>\n",
       "      <td>-0.035571</td>\n",
       "    </tr>\n",
       "    <tr>\n",
       "      <th>5</th>\n",
       "      <td>title_word_count</td>\n",
       "      <td>0.036267</td>\n",
       "    </tr>\n",
       "    <tr>\n",
       "      <th>0</th>\n",
       "      <td>wh_word_count</td>\n",
       "      <td>0.040549</td>\n",
       "    </tr>\n",
       "    <tr>\n",
       "      <th>3</th>\n",
       "      <td>example_count</td>\n",
       "      <td>0.047935</td>\n",
       "    </tr>\n",
       "    <tr>\n",
       "      <th>9</th>\n",
       "      <td>n_lists</td>\n",
       "      <td>0.108119</td>\n",
       "    </tr>\n",
       "    <tr>\n",
       "      <th>8</th>\n",
       "      <td>n_tags</td>\n",
       "      <td>0.123238</td>\n",
       "    </tr>\n",
       "    <tr>\n",
       "      <th>2</th>\n",
       "      <td>word_count</td>\n",
       "      <td>0.298593</td>\n",
       "    </tr>\n",
       "    <tr>\n",
       "      <th>6</th>\n",
       "      <td>title_question_marks</td>\n",
       "      <td>0.412413</td>\n",
       "    </tr>\n",
       "  </tbody>\n",
       "</table>\n",
       "</div>"
      ],
      "text/plain": [
       "               variable  coefficient\n",
       "4          n_linebreaks    -0.232403\n",
       "7               n_links    -0.060172\n",
       "1        sentence_count    -0.035571\n",
       "5      title_word_count     0.036267\n",
       "0         wh_word_count     0.040549\n",
       "3         example_count     0.047935\n",
       "9               n_lists     0.108119\n",
       "8                n_tags     0.123238\n",
       "2            word_count     0.298593\n",
       "6  title_question_marks     0.412413"
      ]
     },
     "execution_count": 20,
     "metadata": {},
     "output_type": "execute_result"
    }
   ],
   "source": [
    "coeff = pd.DataFrame({\n",
    "    \"variable\": x.columns,\n",
    "    \"coefficient\": pipe[1].coef_.flatten()\n",
    "}).sort_values(by=\"coefficient\")\n",
    "\n",
    "coeff"
   ]
  },
  {
   "cell_type": "code",
   "execution_count": 21,
   "metadata": {},
   "outputs": [
    {
     "data": {
      "text/plain": [
       "['assets/LogisticRegressionModel.pkl']"
      ]
     },
     "execution_count": 21,
     "metadata": {},
     "output_type": "execute_result"
    }
   ],
   "source": [
    "joblib.dump(pipe, \"assets/LogisticRegressionModel.pkl\")"
   ]
  },
  {
   "cell_type": "markdown",
   "metadata": {},
   "source": [
    "# Logistic Regression review\n",
    "The classification problem seemed to fare a little better than the regressions, with an accuracy slightly better than\n",
    "a random or constant output. It is also comforting to see that the confusion matrices have a dominant diagonal."
   ]
  },
  {
   "cell_type": "code",
   "execution_count": null,
   "metadata": {},
   "outputs": [],
   "source": []
  }
 ],
 "metadata": {
  "kernelspec": {
   "display_name": "Python 3",
   "language": "python",
   "name": "python3"
  },
  "language_info": {
   "codemirror_mode": {
    "name": "ipython",
    "version": 3
   },
   "file_extension": ".py",
   "mimetype": "text/x-python",
   "name": "python",
   "nbconvert_exporter": "python",
   "pygments_lexer": "ipython3",
   "version": "3.8.5"
  }
 },
 "nbformat": 4,
 "nbformat_minor": 4
}
