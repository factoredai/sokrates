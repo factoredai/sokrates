{
 "cells": [
  {
   "cell_type": "code",
   "execution_count": 1,
   "metadata": {
    "ExecuteTime": {
     "end_time": "2020-11-23T16:51:28.169360Z",
     "start_time": "2020-11-23T16:51:28.166361Z"
    }
   },
   "outputs": [],
   "source": [
    "import sys\n",
    "sys.path.insert(1, '../')"
   ]
  },
  {
   "cell_type": "code",
   "execution_count": 201,
   "metadata": {
    "ExecuteTime": {
     "end_time": "2020-11-23T23:21:12.748000Z",
     "start_time": "2020-11-23T23:21:12.740999Z"
    }
   },
   "outputs": [],
   "source": [
    "import pandas as pd\n",
    "from matplotlib import pyplot as plt\n",
    "from sklearn.ensemble import RandomForestClassifier, GradientBoostingClassifier\n",
    "from sklearn.model_selection import train_test_split\n",
    "from sklearn.metrics import accuracy_score, f1_score, confusion_matrix\n",
    "import joblib\n",
    "import time"
   ]
  },
  {
   "cell_type": "code",
   "execution_count": 3,
   "metadata": {
    "ExecuteTime": {
     "end_time": "2020-11-23T16:51:32.965686Z",
     "start_time": "2020-11-23T16:51:29.283684Z"
    }
   },
   "outputs": [],
   "source": [
    "df = pd.read_csv('./data/tex_physics.csv')"
   ]
  },
  {
   "cell_type": "code",
   "execution_count": 4,
   "metadata": {
    "ExecuteTime": {
     "end_time": "2020-11-23T16:51:50.344801Z",
     "start_time": "2020-11-23T16:51:50.329803Z"
    }
   },
   "outputs": [
    {
     "data": {
      "text/plain": [
       "2.0"
      ]
     },
     "execution_count": 4,
     "metadata": {},
     "output_type": "execute_result"
    }
   ],
   "source": [
    "df['score'].median()"
   ]
  },
  {
   "cell_type": "code",
   "execution_count": 133,
   "metadata": {
    "ExecuteTime": {
     "end_time": "2020-11-23T18:42:20.751736Z",
     "start_time": "2020-11-23T18:42:20.729738Z"
    }
   },
   "outputs": [
    {
     "data": {
      "text/plain": [
       "1.0"
      ]
     },
     "execution_count": 133,
     "metadata": {},
     "output_type": "execute_result"
    }
   ],
   "source": [
    "df[df['score'] == 2.]['n_answers'].median()"
   ]
  },
  {
   "cell_type": "code",
   "execution_count": 130,
   "metadata": {
    "ExecuteTime": {
     "end_time": "2020-11-23T18:41:18.274826Z",
     "start_time": "2020-11-23T18:41:18.270825Z"
    }
   },
   "outputs": [],
   "source": [
    "def class_decider(row):\n",
    "    if row['score'] < 2.:\n",
    "        return 0\n",
    "    elif row['score'] > 2.:\n",
    "        return 1\n",
    "    else:\n",
    "        if row['n_answers'] < 1.:\n",
    "            return 0\n",
    "        else:\n",
    "            return 1"
   ]
  },
  {
   "cell_type": "code",
   "execution_count": 134,
   "metadata": {
    "ExecuteTime": {
     "end_time": "2020-11-23T18:43:06.215547Z",
     "start_time": "2020-11-23T18:43:03.462466Z"
    }
   },
   "outputs": [],
   "source": [
    "df.loc[:, 'y'] = df.apply(class_decider, axis=1)"
   ]
  },
  {
   "cell_type": "code",
   "execution_count": 135,
   "metadata": {
    "ExecuteTime": {
     "end_time": "2020-11-23T18:43:08.309227Z",
     "start_time": "2020-11-23T18:43:08.303227Z"
    }
   },
   "outputs": [
    {
     "data": {
      "text/plain": [
       "0    186511\n",
       "1    184785\n",
       "Name: y, dtype: int64"
      ]
     },
     "execution_count": 135,
     "metadata": {},
     "output_type": "execute_result"
    }
   ],
   "source": [
    "df['y'].value_counts()"
   ]
  },
  {
   "cell_type": "code",
   "execution_count": 136,
   "metadata": {
    "ExecuteTime": {
     "end_time": "2020-11-23T18:43:34.071095Z",
     "start_time": "2020-11-23T18:43:33.871096Z"
    }
   },
   "outputs": [],
   "source": [
    "sample = df.sample(frac=1, random_state=42)"
   ]
  },
  {
   "cell_type": "code",
   "execution_count": 137,
   "metadata": {
    "ExecuteTime": {
     "end_time": "2020-11-23T18:43:34.386096Z",
     "start_time": "2020-11-23T18:43:34.368097Z"
    }
   },
   "outputs": [],
   "source": [
    "X = sample[['n_lists', 'n_links', 'n_tags',\n",
    "       'num_question_marks', 'wh_word_count', 'sentence_count', 'word_count',\n",
    "       'example_count', 'n_linebreaks', 'title_word_count',\n",
    "       'title_question_marks']]"
   ]
  },
  {
   "cell_type": "code",
   "execution_count": 138,
   "metadata": {
    "ExecuteTime": {
     "end_time": "2020-11-23T18:43:34.696096Z",
     "start_time": "2020-11-23T18:43:34.689096Z"
    }
   },
   "outputs": [],
   "source": [
    "Y = sample['y']"
   ]
  },
  {
   "cell_type": "code",
   "execution_count": 139,
   "metadata": {
    "ExecuteTime": {
     "end_time": "2020-11-23T18:43:35.137096Z",
     "start_time": "2020-11-23T18:43:34.988095Z"
    }
   },
   "outputs": [],
   "source": [
    "X_train, X_val, Y_train, Y_val = train_test_split(X, Y, test_size=0.3, stratify=Y, random_state=42)"
   ]
  },
  {
   "cell_type": "code",
   "execution_count": 214,
   "metadata": {
    "ExecuteTime": {
     "end_time": "2020-11-23T23:59:24.685489Z",
     "start_time": "2020-11-23T23:59:24.680490Z"
    }
   },
   "outputs": [],
   "source": [
    "def find_metrics(method: str, model, X_train, X_val, Y_train, Y_val):\n",
    "    Y_train_pred = model.predict(X_train)\n",
    "    Y_val_pred = model.predict(X_val)\n",
    "    print(f'{method}\\n\\n\\\n",
    "    training accuracy: {accuracy_score(Y_train_pred, Y_train)}\\n\\\n",
    "    validation accuracy: {accuracy_score(Y_val_pred, Y_val)}\\n\\n\\\n",
    "    training f1 score: {f1_score(Y_train_pred, Y_train)}\\n\\\n",
    "    validation f1 score: {f1_score(Y_val_pred, Y_val)}\\n\\n\\\n",
    "    training confusion matrix:\\n {confusion_matrix(Y_train_pred, Y_train)}\\n\\\n",
    "    validation confusion matrix:\\n {confusion_matrix(Y_val_pred, Y_val)}')"
   ]
  },
  {
   "cell_type": "code",
   "execution_count": 209,
   "metadata": {
    "ExecuteTime": {
     "end_time": "2020-11-23T23:55:58.503119Z",
     "start_time": "2020-11-23T23:55:58.500120Z"
    }
   },
   "outputs": [],
   "source": [
    "gbc = GradientBoostingClassifier(n_estimators=200, max_depth=7)"
   ]
  },
  {
   "cell_type": "code",
   "execution_count": 210,
   "metadata": {
    "ExecuteTime": {
     "end_time": "2020-11-23T23:57:26.278919Z",
     "start_time": "2020-11-23T23:55:59.092918Z"
    }
   },
   "outputs": [
    {
     "data": {
      "text/plain": [
       "87.18199896812439"
      ]
     },
     "execution_count": 210,
     "metadata": {},
     "output_type": "execute_result"
    }
   ],
   "source": [
    "tic = time.time()\n",
    "gbc.fit(X_train, Y_train)\n",
    "toc = time.time()\n",
    "toc - tic"
   ]
  },
  {
   "cell_type": "code",
   "execution_count": 224,
   "metadata": {
    "ExecuteTime": {
     "end_time": "2020-11-24T00:23:00.909609Z",
     "start_time": "2020-11-24T00:23:00.885610Z"
    }
   },
   "outputs": [
    {
     "data": {
      "text/plain": [
       "['./assets/Gradien Boosting Classifier.pkl']"
      ]
     },
     "execution_count": 224,
     "metadata": {},
     "output_type": "execute_result"
    }
   ],
   "source": [
    "joblib.dump(gbc, './assets/Gradien Boosting Classifier.pkl')"
   ]
  },
  {
   "cell_type": "code",
   "execution_count": 215,
   "metadata": {
    "ExecuteTime": {
     "end_time": "2020-11-23T23:59:27.973576Z",
     "start_time": "2020-11-23T23:59:26.060577Z"
    }
   },
   "outputs": [
    {
     "name": "stdout",
     "output_type": "stream",
     "text": [
      "Gradient Boosting\n",
      "\n",
      "    training accuracy: 0.6249081402193861\n",
      "    validation accuracy: 0.5913959188070635\n",
      "\n",
      "    training f1 score: 0.6161502813246869\n",
      "    validation f1 score: 0.581549720506031\n",
      "\n",
      "    training confusion matrix:\n",
      " [[84174 51105]\n",
      " [46384 78244]]\n",
      "    validation confusion matrix:\n",
      " [[34248 23809]\n",
      " [21705 31627]]\n"
     ]
    }
   ],
   "source": [
    "find_metrics('Gradient Boosting', gbc, X_train, X_val, Y_train, Y_val)"
   ]
  },
  {
   "cell_type": "code",
   "execution_count": 216,
   "metadata": {
    "ExecuteTime": {
     "end_time": "2020-11-24T00:00:25.999542Z",
     "start_time": "2020-11-24T00:00:25.887542Z"
    }
   },
   "outputs": [
    {
     "data": {
      "text/plain": [
       "<BarContainer object of 11 artists>"
      ]
     },
     "execution_count": 216,
     "metadata": {},
     "output_type": "execute_result"
    },
    {
     "data": {
      "image/png": "[encoded data removed]",
      "text/plain": [
       "<Figure size 432x288 with 1 Axes>"
      ]
     },
     "metadata": {
      "needs_background": "light"
     },
     "output_type": "display_data"
    }
   ],
   "source": [
    "plt.barh(['n_lists', 'n_links', 'n_tags',\n",
    "       'num_question_marks', 'wh_word_count', 'sentence_count', 'word_count',\n",
    "       'example_count', 'n_linebreaks', 'title_word_count',\n",
    "       'title_question_marks'], gbc.feature_importances_)"
   ]
  },
  {
   "cell_type": "code",
   "execution_count": 217,
   "metadata": {
    "ExecuteTime": {
     "end_time": "2020-11-24T00:00:47.512489Z",
     "start_time": "2020-11-24T00:00:47.508493Z"
    }
   },
   "outputs": [],
   "source": [
    "rfc = RandomForestClassifier(n_estimators=200, max_depth=8)"
   ]
  },
  {
   "cell_type": "code",
   "execution_count": 218,
   "metadata": {
    "ExecuteTime": {
     "end_time": "2020-11-24T00:01:10.757490Z",
     "start_time": "2020-11-24T00:00:47.830490Z"
    }
   },
   "outputs": [
    {
     "data": {
      "text/plain": [
       "22.92300033569336"
      ]
     },
     "execution_count": 218,
     "metadata": {},
     "output_type": "execute_result"
    }
   ],
   "source": [
    "tic = time.time()\n",
    "rfc.fit(X_train, Y_train)\n",
    "toc = time.time()\n",
    "toc - tic"
   ]
  },
  {
   "cell_type": "code",
   "execution_count": 223,
   "metadata": {
    "ExecuteTime": {
     "end_time": "2020-11-24T00:22:57.722607Z",
     "start_time": "2020-11-24T00:22:57.663608Z"
    }
   },
   "outputs": [
    {
     "data": {
      "text/plain": [
       "['./assets/Random Forest Classifier.pkl']"
      ]
     },
     "execution_count": 223,
     "metadata": {},
     "output_type": "execute_result"
    }
   ],
   "source": [
    "joblib.dump(rfc, './assets/Random Forest Classifier.pkl')"
   ]
  },
  {
   "cell_type": "code",
   "execution_count": 219,
   "metadata": {
    "ExecuteTime": {
     "end_time": "2020-11-24T00:01:23.064020Z",
     "start_time": "2020-11-24T00:01:17.372253Z"
    }
   },
   "outputs": [
    {
     "name": "stdout",
     "output_type": "stream",
     "text": [
      "Random Forest\n",
      "\n",
      "    training accuracy: 0.5912807273370859\n",
      "    validation accuracy: 0.5879754733411737\n",
      "\n",
      "    training f1 score: 0.5795957781093306\n",
      "    validation f1 score: 0.5755297207809624\n",
      "\n",
      "    training confusion matrix:\n",
      " [[80451 56122]\n",
      " [50107 73227]]\n",
      "    validation confusion matrix:\n",
      " [[34380 24322]\n",
      " [21573 31114]]\n"
     ]
    }
   ],
   "source": [
    "find_metrics('Random Forest', rfc, X_train, X_val, Y_train, Y_val)"
   ]
  },
  {
   "cell_type": "code",
   "execution_count": 220,
   "metadata": {
    "ExecuteTime": {
     "end_time": "2020-11-24T00:01:42.497801Z",
     "start_time": "2020-11-24T00:01:42.388802Z"
    }
   },
   "outputs": [
    {
     "data": {
      "text/plain": [
       "<BarContainer object of 11 artists>"
      ]
     },
     "execution_count": 220,
     "metadata": {},
     "output_type": "execute_result"
    },
    {
     "data": {
      "image/png": "[encoded data removed]",
      "text/plain": [
       "<Figure size 432x288 with 1 Axes>"
      ]
     },
     "metadata": {
      "needs_background": "light"
     },
     "output_type": "display_data"
    }
   ],
   "source": [
    "plt.barh(['n_lists', 'n_links', 'n_tags',\n",
    "       'num_question_marks', 'wh_word_count', 'sentence_count', 'word_count',\n",
    "       'example_count', 'n_linebreaks', 'title_word_count',\n",
    "       'title_question_marks'], rfc.feature_importances_)"
   ]
  },
  {
   "cell_type": "code",
   "execution_count": null,
   "metadata": {},
   "outputs": [],
   "source": []
  }
 ],
 "metadata": {
  "kernelspec": {
   "display_name": "Python [conda env:tf]",
   "language": "python",
   "name": "conda-env-tf-py"
  },
  "language_info": {
   "codemirror_mode": {
    "name": "ipython",
    "version": 3
   },
   "file_extension": ".py",
   "mimetype": "text/x-python",
   "name": "python",
   "nbconvert_exporter": "python",
   "pygments_lexer": "ipython3",
   "version": "3.7.7"
  },
  "varInspector": {
   "cols": {
    "lenName": 16,
    "lenType": 16,
    "lenVar": 40
   },
   "kernels_config": {
    "python": {
     "delete_cmd_postfix": "",
     "delete_cmd_prefix": "del ",
     "library": "var_list.py",
     "varRefreshCmd": "print(var_dic_list())"
    },
    "r": {
     "delete_cmd_postfix": ") ",
     "delete_cmd_prefix": "rm(",
     "library": "var_list.r",
     "varRefreshCmd": "cat(var_dic_list()) "
    }
   },
   "types_to_exclude": [
    "module",
    "function",
    "builtin_function_or_method",
    "instance",
    "_Feature"
   ],
   "window_display": false
  }
 },
 "nbformat": 4,
 "nbformat_minor": 4
}
