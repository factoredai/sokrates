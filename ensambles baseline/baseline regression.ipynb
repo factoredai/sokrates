{
 "cells": [
  {
   "cell_type": "code",
   "execution_count": 17,
   "metadata": {
    "ExecuteTime": {
     "end_time": "2020-11-24T00:07:51.486859Z",
     "start_time": "2020-11-24T00:07:51.484858Z"
    }
   },
   "outputs": [],
   "source": [
    "import sys\n",
    "sys.path.insert(1, '../')"
   ]
  },
  {
   "cell_type": "code",
   "execution_count": 33,
   "metadata": {
    "ExecuteTime": {
     "end_time": "2020-11-24T00:09:39.843099Z",
     "start_time": "2020-11-24T00:09:39.840098Z"
    }
   },
   "outputs": [],
   "source": [
    "import pandas as pd\n",
    "from matplotlib import pyplot as plt\n",
    "from sklearn.ensemble import RandomForestRegressor, GradientBoostingRegressor\n",
    "from sklearn.model_selection import train_test_split\n",
    "from sklearn.metrics import mean_squared_error, r2_score\n",
    "import joblib\n",
    "import time"
   ]
  },
  {
   "cell_type": "code",
   "execution_count": 19,
   "metadata": {
    "ExecuteTime": {
     "end_time": "2020-11-24T00:07:55.281649Z",
     "start_time": "2020-11-24T00:07:51.498857Z"
    }
   },
   "outputs": [],
   "source": [
    "df = pd.read_csv('./data/tex_physics.csv')"
   ]
  },
  {
   "cell_type": "code",
   "execution_count": 20,
   "metadata": {
    "ExecuteTime": {
     "end_time": "2020-11-24T00:07:55.452640Z",
     "start_time": "2020-11-24T00:07:55.282650Z"
    }
   },
   "outputs": [],
   "source": [
    "sample = df.sample(frac=1, random_state=42)"
   ]
  },
  {
   "cell_type": "code",
   "execution_count": 21,
   "metadata": {
    "ExecuteTime": {
     "end_time": "2020-11-24T00:07:55.469641Z",
     "start_time": "2020-11-24T00:07:55.453640Z"
    }
   },
   "outputs": [],
   "source": [
    "X = sample[['n_lists', 'n_links', 'n_tags',\n",
    "       'num_question_marks', 'wh_word_count', 'sentence_count', 'word_count',\n",
    "       'example_count', 'n_linebreaks', 'title_word_count',\n",
    "       'title_question_marks']]"
   ]
  },
  {
   "cell_type": "code",
   "execution_count": 22,
   "metadata": {
    "ExecuteTime": {
     "end_time": "2020-11-24T00:07:55.479641Z",
     "start_time": "2020-11-24T00:07:55.470639Z"
    }
   },
   "outputs": [],
   "source": [
    "Y = sample['y']"
   ]
  },
  {
   "cell_type": "code",
   "execution_count": 23,
   "metadata": {
    "ExecuteTime": {
     "end_time": "2020-11-24T00:07:55.539637Z",
     "start_time": "2020-11-24T00:07:55.480640Z"
    }
   },
   "outputs": [],
   "source": [
    "X_train, X_val, Y_train, Y_val = train_test_split(X, Y, test_size=0.3, random_state=42)"
   ]
  },
  {
   "cell_type": "code",
   "execution_count": 24,
   "metadata": {
    "ExecuteTime": {
     "end_time": "2020-11-24T00:07:55.545636Z",
     "start_time": "2020-11-24T00:07:55.541636Z"
    }
   },
   "outputs": [],
   "source": [
    "def find_metrics(method: str, model, X_train, X_val, Y_train, Y_val):\n",
    "    Y_train_pred = model.predict(X_train)\n",
    "    Y_val_pred = model.predict(X_val)\n",
    "    mse_train = mean_squared_error(Y_train_pred, Y_train)\n",
    "    mse_val = mean_squared_error(Y_val_pred, Y_val)\n",
    "    print(f'{method}\\n\\n\\\n",
    "    training MSE: {mse_train}\\n\\\n",
    "    validation MSE: {mse_val}\\n\\n\\\n",
    "    training R^2: {r2_score(Y_train_pred, Y_train)}\\n\\\n",
    "    validation R^2: {r2_score(Y_val_pred, Y_val)}\\n\\n\\\n",
    "    training MSE/variance:\\n {mse_train/Y_train.var()}\\n\\\n",
    "    validation MSE/variance:\\n {mse_val/Y_val.var()}')"
   ]
  },
  {
   "cell_type": "code",
   "execution_count": 37,
   "metadata": {
    "ExecuteTime": {
     "end_time": "2020-11-24T00:14:23.052063Z",
     "start_time": "2020-11-24T00:14:23.048064Z"
    }
   },
   "outputs": [],
   "source": [
    "gbr = GradientBoostingRegressor(n_estimators=100, max_depth=5)"
   ]
  },
  {
   "cell_type": "code",
   "execution_count": 38,
   "metadata": {
    "ExecuteTime": {
     "end_time": "2020-11-24T00:14:51.540467Z",
     "start_time": "2020-11-24T00:14:23.391044Z"
    }
   },
   "outputs": [
    {
     "data": {
      "text/plain": [
       "28.144423723220825"
      ]
     },
     "execution_count": 38,
     "metadata": {},
     "output_type": "execute_result"
    }
   ],
   "source": [
    "tic = time.time()\n",
    "gbr.fit(X_train, Y_train)\n",
    "toc = time.time()\n",
    "toc - tic"
   ]
  },
  {
   "cell_type": "code",
   "execution_count": 44,
   "metadata": {
    "ExecuteTime": {
     "end_time": "2020-11-24T00:23:09.454519Z",
     "start_time": "2020-11-24T00:23:09.445518Z"
    }
   },
   "outputs": [
    {
     "data": {
      "text/plain": [
       "['./assets/Gradien Boosting Regressor.pkl']"
      ]
     },
     "execution_count": 44,
     "metadata": {},
     "output_type": "execute_result"
    }
   ],
   "source": [
    "joblib.dump(gbr, './assets/Gradien Boosting Regressor.pkl')"
   ]
  },
  {
   "cell_type": "code",
   "execution_count": 40,
   "metadata": {
    "ExecuteTime": {
     "end_time": "2020-11-24T00:14:52.734403Z",
     "start_time": "2020-11-24T00:14:52.145435Z"
    }
   },
   "outputs": [
    {
     "name": "stdout",
     "output_type": "stream",
     "text": [
      "Gradient Boosting\n",
      "\n",
      "    training MSE: 417022106.4192436\n",
      "    validation MSE: 235515994.07181102\n",
      "\n",
      "    training R^2: -28.33950673382824\n",
      "    validation R^2: -14.211514307888969\n",
      "\n",
      "    training MSE/variance:\n",
      " 0.883867890559575\n",
      "    validation MSE/variance:\n",
      " 1.0689715780407023\n"
     ]
    }
   ],
   "source": [
    "find_metrics('Gradient Boosting', gbr, X_train, X_val, Y_train, Y_val)"
   ]
  },
  {
   "cell_type": "code",
   "execution_count": 42,
   "metadata": {
    "ExecuteTime": {
     "end_time": "2020-11-24T00:16:59.111004Z",
     "start_time": "2020-11-24T00:16:58.696893Z"
    }
   },
   "outputs": [
    {
     "data": {
      "text/plain": [
       "<BarContainer object of 11 artists>"
      ]
     },
     "execution_count": 42,
     "metadata": {},
     "output_type": "execute_result"
    },
    {
     "data": {
      "image/png": "[encoded data removed]",
      "text/plain": [
       "<Figure size 432x288 with 1 Axes>"
      ]
     },
     "metadata": {
      "needs_background": "light"
     },
     "output_type": "display_data"
    }
   ],
   "source": [
    "plt.barh(['n_lists', 'n_links', 'n_tags',\n",
    "       'num_question_marks', 'wh_word_count', 'sentence_count', 'word_count',\n",
    "       'example_count', 'n_linebreaks', 'title_word_count',\n",
    "       'title_question_marks'], gbr.feature_importances_)"
   ]
  },
  {
   "cell_type": "code",
   "execution_count": 28,
   "metadata": {
    "ExecuteTime": {
     "end_time": "2020-11-24T00:08:29.604331Z",
     "start_time": "2020-11-24T00:08:29.601330Z"
    }
   },
   "outputs": [],
   "source": [
    "rfr = RandomForestRegressor(n_estimators=300, max_depth=5)"
   ]
  },
  {
   "cell_type": "code",
   "execution_count": 29,
   "metadata": {
    "ExecuteTime": {
     "end_time": "2020-11-24T00:09:22.099465Z",
     "start_time": "2020-11-24T00:08:29.605330Z"
    }
   },
   "outputs": [
    {
     "data": {
      "text/plain": [
       "52.49013066291809"
      ]
     },
     "execution_count": 29,
     "metadata": {},
     "output_type": "execute_result"
    }
   ],
   "source": [
    "tic = time.time()\n",
    "rfr.fit(X_train, Y_train)\n",
    "toc = time.time()\n",
    "toc - tic"
   ]
  },
  {
   "cell_type": "code",
   "execution_count": 45,
   "metadata": {
    "ExecuteTime": {
     "end_time": "2020-11-24T00:23:14.022878Z",
     "start_time": "2020-11-24T00:23:13.958882Z"
    }
   },
   "outputs": [
    {
     "data": {
      "text/plain": [
       "['./assets/Random Forest Regressor.pkl']"
      ]
     },
     "execution_count": 45,
     "metadata": {},
     "output_type": "execute_result"
    }
   ],
   "source": [
    "joblib.dump(rfr, './assets/Random Forest Regressor.pkl')"
   ]
  },
  {
   "cell_type": "code",
   "execution_count": 30,
   "metadata": {
    "ExecuteTime": {
     "end_time": "2020-11-24T00:09:24.596327Z",
     "start_time": "2020-11-24T00:09:22.100463Z"
    }
   },
   "outputs": [
    {
     "name": "stdout",
     "output_type": "stream",
     "text": [
      "Random Forest\n",
      "\n",
      "    training MSE: 448909374.63266015\n",
      "    validation MSE: 221786220.93375656\n",
      "\n",
      "    training R^2: -119.31757506533543\n",
      "    validation R^2: -146.41045366203002\n",
      "\n",
      "    training MSE/variance:\n",
      " 0.9514521554166655\n",
      "    validation MSE/variance:\n",
      " 1.0066542084057049\n"
     ]
    }
   ],
   "source": [
    "find_metrics('Random Forest', rfr, X_train, X_val, Y_train, Y_val)"
   ]
  },
  {
   "cell_type": "code",
   "execution_count": 43,
   "metadata": {
    "ExecuteTime": {
     "end_time": "2020-11-24T00:17:19.694249Z",
     "start_time": "2020-11-24T00:17:19.582258Z"
    }
   },
   "outputs": [
    {
     "data": {
      "text/plain": [
       "<BarContainer object of 11 artists>"
      ]
     },
     "execution_count": 43,
     "metadata": {},
     "output_type": "execute_result"
    },
    {
     "data": {
      "image/png": "[encoded data removed]",
      "text/plain": [
       "<Figure size 432x288 with 1 Axes>"
      ]
     },
     "metadata": {
      "needs_background": "light"
     },
     "output_type": "display_data"
    }
   ],
   "source": [
    "plt.barh(['n_lists', 'n_links', 'n_tags',\n",
    "       'num_question_marks', 'wh_word_count', 'sentence_count', 'word_count',\n",
    "       'example_count', 'n_linebreaks', 'title_word_count',\n",
    "       'title_question_marks'], rfr.feature_importances_)"
   ]
  },
  {
   "cell_type": "code",
   "execution_count": null,
   "metadata": {},
   "outputs": [],
   "source": []
  }
 ],
 "metadata": {
  "kernelspec": {
   "display_name": "Python [conda env:tf]",
   "language": "python",
   "name": "conda-env-tf-py"
  },
  "language_info": {
   "codemirror_mode": {
    "name": "ipython",
    "version": 3
   },
   "file_extension": ".py",
   "mimetype": "text/x-python",
   "name": "python",
   "nbconvert_exporter": "python",
   "pygments_lexer": "ipython3",
   "version": "3.7.7"
  },
  "varInspector": {
   "cols": {
    "lenName": 16,
    "lenType": 16,
    "lenVar": 40
   },
   "kernels_config": {
    "python": {
     "delete_cmd_postfix": "",
     "delete_cmd_prefix": "del ",
     "library": "var_list.py",
     "varRefreshCmd": "print(var_dic_list())"
    },
    "r": {
     "delete_cmd_postfix": ") ",
     "delete_cmd_prefix": "rm(",
     "library": "var_list.r",
     "varRefreshCmd": "cat(var_dic_list()) "
    }
   },
   "types_to_exclude": [
    "module",
    "function",
    "builtin_function_or_method",
    "instance",
    "_Feature"
   ],
   "window_display": false
  }
 },
 "nbformat": 4,
 "nbformat_minor": 4
}
